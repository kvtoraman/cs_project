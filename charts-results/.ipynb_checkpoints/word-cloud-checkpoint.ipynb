{
 "cells": [
  {
   "cell_type": "code",
   "execution_count": 5,
   "metadata": {},
   "outputs": [],
   "source": [
    "from gensim.models.keyedvectors import KeyedVectors\n",
    "from gensim.models import word2vec\n",
    "import json\n",
    "import numpy as np\n",
    "import math"
   ]
  },
  {
   "cell_type": "code",
   "execution_count": 6,
   "metadata": {},
   "outputs": [],
   "source": [
    "REVIEWS = \"cs_reviews\"\n",
    "\n",
    "f = open(\"../reviews_in_one_txt/\" + REVIEWS + \".txt\",\"r\",encoding=\"utf-8\").readlines()\n",
    "professor = {}\n",
    "likes = {}"
   ]
  },
  {
   "cell_type": "code",
   "execution_count": 7,
   "metadata": {},
   "outputs": [
    {
     "name": "stdout",
     "output_type": "stream",
     "text": [
      "{'prof_name': '최광무', 'year': '2012', 'semester': '가을', 'review_text': '오랜만에 한국어 강의가 개설되어 재미있게 들었습니다.학점은 한국어 강의니까 빡시게 주신다고 했는데 예상했던 만큼 딱 나왔습니다. 다른 전공과 크게 다르지 않은 수준.거의 매주 손으로 풀어야하는 숙제가 나오고 프로그래밍 프로젝트도 4~5개 있었는데 미루지 않고 꼬박꼬박 하면 할만합니다. 코딩 플젝은 스펙이 매우 자유로워서 당황스러울 수 있는데 그만큼 채점도 너그럽게 하시는 것 같습니다. 시험 공부할 양도 아주 많진 않아요.교수님께서 강의를 잘하셔서(특히 한국어강의여서) 집중해서 듣기만 하면 이해도 잘되고 남는것도 많았습니다. 수업중 딴얘기도 종종 하시는데 저에게는 개인적으로 유익했지만 이건 호불호가 갈리는듯...', '성적': '?', '널널': '?', '강의': '?', '종합': '?', '추천': '0', 'course_code': 'CS322', 'course_name': '형식언어및오토마타', 'url_id': 2888}\n"
     ]
    }
   ],
   "source": [
    "for i in range(len(f[:])):\n",
    "    line = f[i]\n",
    "    course = json.loads(line)\n",
    "    print(course)\n",
    "    break\n"
   ]
  },
  {
   "cell_type": "code",
   "execution_count": 9,
   "metadata": {},
   "outputs": [],
   "source": [
    "for i in range(len(f[:])):\n",
    "    line = f[i]\n",
    "    course = json.loads(line)\n",
    "#     print(course)\n",
    "#     print(course[\"course_code\"],course[\"추천\"])\n",
    "    if course[\"course_code\"] not in likes:\n",
    "        likes[course[\"course_code\"]] = []\n",
    "    likes[course[\"course_code\"]].append((int(course[\"추천\"]),course[\"review_text\"],\n",
    "                                         course[\"prof_name\"],course[\"year\"],course[\"semester\"],course[\"추천\"]))\n",
    "# likes"
   ]
  },
  {
   "cell_type": "code",
   "execution_count": 10,
   "metadata": {},
   "outputs": [],
   "source": [
    "to_write = []\n",
    "for k,v in likes.items():\n",
    "    v.sort()\n",
    "    v.reverse()\n",
    "    course = {}\n",
    "    course[\"course_code\"] = k\n",
    "    course[\"top_5\"] = v[:5]\n",
    "    to_write.append(course)\n",
    "with open(\"top_5_list.json\",\"w\",encoding=\"utf-8\") as out:\n",
    "    json.dump(to_write, out,ensure_ascii=False)\n"
   ]
  },
  {
   "cell_type": "code",
   "execution_count": null,
   "metadata": {},
   "outputs": [],
   "source": []
  }
 ],
 "metadata": {
  "kernelspec": {
   "display_name": "Python 3",
   "language": "python",
   "name": "python3"
  },
  "language_info": {
   "codemirror_mode": {
    "name": "ipython",
    "version": 3
   },
   "file_extension": ".py",
   "mimetype": "text/x-python",
   "name": "python",
   "nbconvert_exporter": "python",
   "pygments_lexer": "ipython3",
   "version": "3.6.5"
  }
 },
 "nbformat": 4,
 "nbformat_minor": 2
}
