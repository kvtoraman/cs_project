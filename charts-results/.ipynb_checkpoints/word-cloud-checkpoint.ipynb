{
 "cells": [
  {
   "cell_type": "code",
   "execution_count": 3,
   "metadata": {},
   "outputs": [],
   "source": [
    "from gensim.models.keyedvectors import KeyedVectors\n",
    "from gensim.models import word2vec\n",
    "import json\n",
    "import numpy as np\n",
    "from konlpy.tag import Kkma\n",
    "from konlpy.utils import pprint\n",
    "import math"
   ]
  },
  {
   "cell_type": "code",
   "execution_count": 4,
   "metadata": {},
   "outputs": [],
   "source": [
    "REVIEWS = \"cs_reviews\"\n",
    "\n",
    "f = open(\"../reviews_in_one_txt/\" + REVIEWS + \".txt\",\"r\",encoding=\"utf-8\").readlines()\n",
    "\n",
    "likes = {}\n",
    "for i in range(len(f[:])):\n",
    "    line = f[i]\n",
    "    course = json.loads(line)\n",
    "#     print(course[\"course_code\"],course[\"추천\"])\n",
    "    if course[\"course_code\"] not in likes:\n",
    "        likes[course[\"course_code\"]] = []\n",
    "    likes[course[\"course_code\"]].append((int(course[\"추천\"]),course[\"review_text\"]))\n",
    "# likes"
   ]
  },
  {
   "cell_type": "code",
   "execution_count": 24,
   "metadata": {},
   "outputs": [],
   "source": [
    "with open(\"top_5_list.json\",\"w\",encoding=\"utf-8\") as out:\n",
    "    for k,v in likes.items():\n",
    "        v.sort()\n",
    "        v.reverse()\n",
    "        course = {}\n",
    "        course[\"course_code\"] = k\n",
    "        course[\"top_5\"] = v[:5]\n",
    "        json.dump(course, out,ensure_ascii=False)\n"
   ]
  },
  {
   "cell_type": "code",
   "execution_count": null,
   "metadata": {},
   "outputs": [],
   "source": []
  }
 ],
 "metadata": {
  "kernelspec": {
   "display_name": "Python 3",
   "language": "python",
   "name": "python3"
  },
  "language_info": {
   "codemirror_mode": {
    "name": "ipython",
    "version": 3
   },
   "file_extension": ".py",
   "mimetype": "text/x-python",
   "name": "python",
   "nbconvert_exporter": "python",
   "pygments_lexer": "ipython3",
   "version": "3.6.5"
  }
 },
 "nbformat": 4,
 "nbformat_minor": 2
}
