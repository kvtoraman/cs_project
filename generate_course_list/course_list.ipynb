{
 "cells": [
  {
   "cell_type": "code",
   "execution_count": 12,
   "metadata": {},
   "outputs": [],
   "source": [
    "import json\n",
    "import numpy as np\n",
    "from urllib.request import Request, urlopen\n",
    "from bs4 import BeautifulSoup\n",
    "import json\n",
    "from pathlib import Path\n"
   ]
  },
  {
   "cell_type": "code",
   "execution_count": 13,
   "metadata": {},
   "outputs": [],
   "source": [
    "REVIEWS = \"cs_reviews\"\n",
    "\n",
    "f = open(\"../reviews_in_one_txt/\" + REVIEWS + \".txt\",\"r\",encoding=\"utf-8\").readlines()\n"
   ]
  },
  {
   "cell_type": "code",
   "execution_count": 15,
   "metadata": {},
   "outputs": [],
   "source": [
    "available_years = {}\n",
    "for i in range(2011,2019,1):\n",
    "    available_years[str(i)] = 1\n",
    "\n",
    "all_classes = {}\n",
    "for i in range(len(f)):\n",
    "    line = f[i]\n",
    "    course = json.loads(line)\n",
    "    this_course = {}\n",
    "    this_course[\"course_code\"] = course[\"course_code\"]\n",
    "    this_course[\"course_name\"] = course[\"course_name\"]\n",
    "    \n",
    "    all_classes[this_course[\"course_code\"]] = this_course\n",
    "    \n",
    "with open(\"cs_classes_info.txt\",\"w\",encoding='utf-8') as out:\n",
    "    json.dump(all_classes, out,ensure_ascii=False)\n",
    "    "
   ]
  },
  {
   "cell_type": "code",
   "execution_count": 59,
   "metadata": {},
   "outputs": [],
   "source": [
    "PRINT = 0\n",
    "def ifprint(this_course, x):\n",
    "    if PRINT:\n",
    "        print(\"=>\",x,this_course[x])\n",
    "          \n",
    "def parse(url_id, out):\n",
    "    if url_id % 100 == 0:\n",
    "        print(url_id)\n",
    "#     \"https://otl.kaist.ac.kr/review/result/course/2000/-1/\"\n",
    "    target_url = \"https://otl.kaist.ac.kr/review/result/course/\" + str(url_id)\n",
    "    target_request = Request(target_url)\n",
    "    try:\n",
    "        response = urlopen(target_request)\n",
    "    except:\n",
    "        return\n",
    "    print(url_id)\n",
    "    this_course = {}\n",
    "\n",
    "    response_text = response.read()\n",
    "    soup = BeautifulSoup(response_text, \"lxml\")\n",
    "    s = soup.select_one(\"\"\"#contents > div > div > div > div.panel.panel-default.course > div >\n",
    "    div > div.label-title.ellipsis-wrapper.col-xs-24.col-sm-12.col-md-13.col-lg-14 > h4\"\"\")\n",
    "    print(s.text)\n",
    "    course_code = s.text.split(\":\")[0].strip()\n",
    "    this_course[\"course_name\"] = \" \".join(s.text.split(\":\")[1:]).strip()\n",
    "    this_course[\"otl_link\"] = target_url\n",
    "    all_courses[course_code] = this_course\n",
    "    return True"
   ]
  },
  {
   "cell_type": "code",
   "execution_count": null,
   "metadata": {},
   "outputs": [
    {
     "name": "stdout",
     "output_type": "stream",
     "text": [
      "3000\n",
      "3007\n",
      "MAE752 : 구조음향학\n",
      "3008\n",
      "MAE411 : 에너지플랜트 최적설계\n",
      "3011\n",
      "MAE514 : 다상유동 1\n",
      "3012\n",
      "MAE536 : 소성역학\n",
      "3014\n",
      "MAE543 : 최적설계\n",
      "3015\n",
      "MAE592 : 레이저의원리및응용\n",
      "3017\n",
      "MAE616 : 자동차공학 및 환경\n",
      "3019\n",
      "MAE623 : 회전유동\n",
      "3021\n",
      "MAE633 : 고분자 및 복합재료의기계적성질\n",
      "3024\n",
      "MAE655 : 고등로봇공학\n",
      "3026\n",
      "MAE732 : 강도신뢰성 설계\n",
      "3041\n",
      "IE538 : 유전 알고리즘 및 응용\n",
      "3047\n",
      "MS524 : 재료의 상평형\n",
      "3050\n",
      "MS635 : 반도체공정설계\n",
      "3053\n",
      "CE333 : 지반 동역학\n",
      "3064\n",
      "EE791 : 전력변환 회로 및 시스템\n",
      "3067\n",
      "CS540 : 네트워크아키텍춰\n",
      "3068\n",
      "CS576 : 컴퓨터비전\n",
      "3069\n",
      "CS579 : 계산언어학\n",
      "3070\n",
      "CS600 : 그래프이론\n",
      "3071\n",
      "CS712 : 병렬처리특강\n"
     ]
    }
   ],
   "source": [
    "START_ID = 3000 #3\n",
    "END_ID = 5000\n",
    "TOTAL_REVIEWS = 2000\n",
    "current_reviews = 0\n",
    "current_id = START_ID\n",
    "all_courses = {}\n",
    "with open(\"course_2nd_crawling.txt\",\"w\",encoding=\"utf-8\") as out:\n",
    "    while current_reviews < TOTAL_REVIEWS and current_id < END_ID: # try different IDs\n",
    "        result = parse(current_id, out)\n",
    "        if result:\n",
    "            current_reviews += 1\n",
    "        current_id += 1\n",
    "    json.dump(all_courses, out,ensure_ascii=False)\n",
    "    "
   ]
  },
  {
   "cell_type": "code",
   "execution_count": null,
   "metadata": {},
   "outputs": [],
   "source": []
  }
 ],
 "metadata": {
  "kernelspec": {
   "display_name": "Python 3",
   "language": "python",
   "name": "python3"
  },
  "language_info": {
   "codemirror_mode": {
    "name": "ipython",
    "version": 3
   },
   "file_extension": ".py",
   "mimetype": "text/x-python",
   "name": "python",
   "nbconvert_exporter": "python",
   "pygments_lexer": "ipython3",
   "version": "3.6.5"
  }
 },
 "nbformat": 4,
 "nbformat_minor": 2
}
