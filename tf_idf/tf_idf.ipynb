{
 "cells": [
  {
   "cell_type": "code",
   "execution_count": 1121,
   "metadata": {},
   "outputs": [
    {
     "name": "stderr",
     "output_type": "stream",
     "text": [
      "C:\\Users\\kvtor\\Anaconda3\\lib\\site-packages\\sklearn\\cross_validation.py:41: DeprecationWarning: This module was deprecated in version 0.18 in favor of the model_selection module into which all the refactored classes and functions are moved. Also note that the interface of the new CV iterators are different from that of this module. This module will be removed in 0.20.\n",
      "  \"This module will be removed in 0.20.\", DeprecationWarning)\n",
      "C:\\Users\\kvtor\\Anaconda3\\lib\\site-packages\\sklearn\\grid_search.py:42: DeprecationWarning: This module was deprecated in version 0.18 in favor of the model_selection module into which all the refactored classes and functions are moved. This module will be removed in 0.20.\n",
      "  DeprecationWarning)\n"
     ]
    }
   ],
   "source": [
    "import json\n",
    "from konlpy.tag import Kkma\n",
    "from konlpy.utils import pprint\n",
    "from sklearn.feature_extraction.text import TfidfVectorizer\n",
    "from sklearn.model_selection import train_test_split\n",
    "from sklearn.svm import SVC,LinearSVC,SVR\n",
    "from sklearn.metrics import accuracy_score,mean_squared_error,roc_auc_score,f1_score\n",
    "import numpy as np\n",
    "from sklearn.linear_model import LogisticRegression,SGDClassifier\n",
    "from sklearn import grid_search, cross_validation"
   ]
  },
  {
   "cell_type": "code",
   "execution_count": 872,
   "metadata": {},
   "outputs": [],
   "source": [
    "REVIEWS = \"cs_reviews\"\n",
    "POS = \"pos\""
   ]
  },
  {
   "cell_type": "code",
   "execution_count": 873,
   "metadata": {},
   "outputs": [],
   "source": [
    "f = open(\"../reviews_in_one_txt/\" + REVIEWS + \".txt\",\"r\",encoding=\"utf-8\").readlines()"
   ]
  },
  {
   "cell_type": "code",
   "execution_count": 874,
   "metadata": {},
   "outputs": [],
   "source": [
    "g = open(\"../reviews_in_one_txt/\" + REVIEWS + \"_\" + POS + \".txt\",\"r\",encoding=\"utf-8\").readlines()"
   ]
  },
  {
   "cell_type": "code",
   "execution_count": null,
   "metadata": {},
   "outputs": [],
   "source": []
  },
  {
   "cell_type": "code",
   "execution_count": 875,
   "metadata": {},
   "outputs": [],
   "source": [
    "# kkma = Kkma()\n",
    "# with open(\"../reviews_in_one_txt/\" + REVIEx`WS+\"_nouns.txt\",\"w\",encoding=\"utf-8\") as out:\n",
    "#     for line in f:\n",
    "#         course = json.loads(line)\n",
    "#         nouns = kkma.nouns(course[\"review_text\"])\n",
    "# #         print(nouns)\n",
    "#         out.write(\" \".join(nouns)+\"\\n\")\n",
    "        "
   ]
  },
  {
   "cell_type": "code",
   "execution_count": 1058,
   "metadata": {},
   "outputs": [],
   "source": [
    "\n",
    "# mp = {\"A\":5,\"B\":4,\"C\":3,\"D\":2,\"F\":1}\n",
    "mp = {\"A\":1,\"B\":1,\"C\":0,\"D\":0,\"F\":0}"
   ]
  },
  {
   "cell_type": "code",
   "execution_count": 1059,
   "metadata": {},
   "outputs": [
    {
     "name": "stdout",
     "output_type": "stream",
     "text": [
      "{0: 138, 1: 364}\n",
      "276\n"
     ]
    }
   ],
   "source": [
    "count = {}\n",
    "for i in range(len(f)):\n",
    "    course = json.loads(f[i])\n",
    "#     print(course)\n",
    "    if course[\"강의\"] != \"?\" and len(g[i])>1:\n",
    "        if mp[course[\"강의\"]] not in count:\n",
    "            count[mp[course[\"강의\"]]] = 0\n",
    "        count[mp[course[\"강의\"]]] += 1\n",
    "        \n",
    "print(count)\n",
    "upper_limit = min(count.values())\n",
    "upper_limit *= 2 \n",
    "print(upper_limit)"
   ]
  },
  {
   "cell_type": "code",
   "execution_count": 1060,
   "metadata": {},
   "outputs": [],
   "source": [
    "concat_nouns_list = []\n",
    "for k,v in count.items():\n",
    "    count[k] = 0\n",
    "\n",
    "labels = []\n",
    "important_pos = [\"NNG\",\"MAG\",\"VV\",\"OL\",\"VA\"]\n",
    "for i in range(len(f)):\n",
    "    line = f[i]\n",
    "    course = json.loads(line)\n",
    "    if course[\"강의\"] == \"?\" or len(g[i])<=1:\n",
    "        continue\n",
    "    pos_list = g[i].split()\n",
    "    l = [x[1:-1].split(',') for x in pos_list]\n",
    "#     print(l[:2])\n",
    "    to_be_joined = []\n",
    "    for p in l:\n",
    "        if p[1] in important_pos:\n",
    "            to_be_joined.append(p[0])\n",
    "    concat_nouns = \" \".join(to_be_joined)\n",
    "    if count[mp[course[\"강의\"]]] < upper_limit:\n",
    "        concat_nouns_list.append(concat_nouns)\n",
    "        labels.append(int(mp[course[\"강의\"]]))\n",
    "        count[mp[course[\"강의\"]]] += 1"
   ]
  },
  {
   "cell_type": "code",
   "execution_count": null,
   "metadata": {},
   "outputs": [],
   "source": []
  },
  {
   "cell_type": "code",
   "execution_count": 1085,
   "metadata": {},
   "outputs": [],
   "source": [
    "labels = np.array(labels)\n",
    "concat_nouns_list = np.array(concat_nouns_list)\n",
    "data_train, data_test, y_train, y_test = train_test_split(concat_nouns_list,\n",
    "                                    labels,test_size=0.1,random_state=42)"
   ]
  },
  {
   "cell_type": "code",
   "execution_count": 1086,
   "metadata": {},
   "outputs": [
    {
     "data": {
      "text/plain": [
       "372"
      ]
     },
     "execution_count": 1086,
     "metadata": {},
     "output_type": "execute_result"
    }
   ],
   "source": [
    "len(data_train)"
   ]
  },
  {
   "cell_type": "code",
   "execution_count": 1087,
   "metadata": {},
   "outputs": [
    {
     "data": {
      "text/plain": [
       "372"
      ]
     },
     "execution_count": 1087,
     "metadata": {},
     "output_type": "execute_result"
    }
   ],
   "source": [
    "len(y_train)"
   ]
  },
  {
   "cell_type": "code",
   "execution_count": 1088,
   "metadata": {},
   "outputs": [
    {
     "data": {
      "text/plain": [
       "'수업 안 듣 혼자 공부 더 좋 수업 전달 자료 대충 만들 느낌 빠지 내용 많 짜증나 조교 있 채점 기준 마음대로 바꾸 틀리 이유 대하 설명 논리 없'"
      ]
     },
     "execution_count": 1088,
     "metadata": {},
     "output_type": "execute_result"
    }
   ],
   "source": [
    "list(data_test)[3]"
   ]
  },
  {
   "cell_type": "code",
   "execution_count": 1089,
   "metadata": {},
   "outputs": [
    {
     "data": {
      "text/plain": [
       "1"
      ]
     },
     "execution_count": 1089,
     "metadata": {},
     "output_type": "execute_result"
    }
   ],
   "source": [
    "y_train[2]"
   ]
  },
  {
   "cell_type": "code",
   "execution_count": 1090,
   "metadata": {},
   "outputs": [
    {
     "name": "stdout",
     "output_type": "stream",
     "text": [
      "Added 13\n",
      "Added 13\n"
     ]
    }
   ],
   "source": [
    "def parse_long_str(s):\n",
    "    s = s.split(',')\n",
    "    s = [x.strip() for x in s]\n",
    "    return s\n",
    "good_lecture = parse_long_str(\"사랑, 천사, 친절, 유명, 짱, 참여, 최고, 만족, 유익, 열정적, 갓, 답변, 명강의\")\n",
    "bad_lecture = parse_long_str(\"집중, 혼자, 부족, 자습, 당황, 최악, 인생, 불편, 복잡, 불만, 악명, 비추, 난이(도)\")\n",
    "#todo try weighted average of w2v\n",
    "scores = {}\n",
    "def add_to_dict(l,score):\n",
    "    global scores\n",
    "    print(\"Added \" + str(len(l)))\n",
    "    for i in range(len(l)):\n",
    "        scores[l[i]] = score\n",
    "add_to_dict(good_lecture,1.0)\n",
    "add_to_dict(bad_lecture,-1.0)"
   ]
  },
  {
   "cell_type": "code",
   "execution_count": 1091,
   "metadata": {},
   "outputs": [],
   "source": [
    "def enlarge_train_data(data_train,y_train):\n",
    "    x = list(data_train)\n",
    "    y = list(y_train)\n",
    "    for k,v in scores.items():\n",
    "#         x.append(str(k)+\"\\n\")\n",
    "#         unit = \"(%s,NNG) \" % (str(k))\n",
    "        unit = \"%s \" % (str(k))\n",
    "        x.append(unit*1)\n",
    "        \n",
    "        if v > 0:\n",
    "            y.append(int(mp['A']))\n",
    "        else:\n",
    "            y.append(int(mp['F']))\n",
    "    \n",
    "    return np.array(x),np.array(y)\n",
    "\n",
    "# data_train,y_train = enlarge_train_data(data_train,y_train)"
   ]
  },
  {
   "cell_type": "code",
   "execution_count": 1092,
   "metadata": {},
   "outputs": [
    {
     "data": {
      "text/plain": [
       "372"
      ]
     },
     "execution_count": 1092,
     "metadata": {},
     "output_type": "execute_result"
    }
   ],
   "source": [
    "len(data_train)"
   ]
  },
  {
   "cell_type": "code",
   "execution_count": 1093,
   "metadata": {},
   "outputs": [
    {
     "data": {
      "text/plain": [
       "372"
      ]
     },
     "execution_count": 1093,
     "metadata": {},
     "output_type": "execute_result"
    }
   ],
   "source": [
    "len(y_train)"
   ]
  },
  {
   "cell_type": "code",
   "execution_count": 1094,
   "metadata": {},
   "outputs": [],
   "source": [
    "vectorizer = TfidfVectorizer(min_df=3, max_df = 0.8,max_features=200000)"
   ]
  },
  {
   "cell_type": "code",
   "execution_count": 1095,
   "metadata": {},
   "outputs": [],
   "source": [
    "# vectirizer.fit(..)\n",
    "# X_train = vectorizer.transform(data_train)\n",
    "X_train = vectorizer.fit_transform(data_train)\n",
    "X_test = vectorizer.transform(data_test)"
   ]
  },
  {
   "cell_type": "code",
   "execution_count": 1096,
   "metadata": {},
   "outputs": [],
   "source": [
    "tfidf_features = vectorizer.get_feature_names()"
   ]
  },
  {
   "cell_type": "code",
   "execution_count": 1097,
   "metadata": {},
   "outputs": [
    {
     "data": {
      "text/plain": [
       "917"
      ]
     },
     "execution_count": 1097,
     "metadata": {},
     "output_type": "execute_result"
    }
   ],
   "source": [
    "len(tfidf_features)"
   ]
  },
  {
   "cell_type": "code",
   "execution_count": 1098,
   "metadata": {},
   "outputs": [
    {
     "data": {
      "text/plain": [
       "['assignment',\n",
       " 'board',\n",
       " 'code',\n",
       " 'cpu',\n",
       " 'cs',\n",
       " 'design',\n",
       " 'document',\n",
       " 'dp',\n",
       " 'ds',\n",
       " 'free',\n",
       " 'gdb',\n",
       " 'hci',\n",
       " 'homework',\n",
       " 'hour',\n",
       " 'java',\n",
       " 'kens',\n",
       " 'klms',\n",
       " 'lab',\n",
       " 'memory',\n",
       " 'np',\n",
       " 'office',\n",
       " 'os',\n",
       " 'otl',\n",
       " 'pa',\n",
       " 'pintos',\n",
       " 'pl',\n",
       " 'post',\n",
       " 'pp',\n",
       " 'ppt',\n",
       " 'pre',\n",
       " 'printf',\n",
       " 'project',\n",
       " 'python',\n",
       " 'racket',\n",
       " 'reading',\n",
       " 'scala',\n",
       " 'scheme',\n",
       " 'se',\n",
       " 'search',\n",
       " 'sort',\n",
       " 'sp',\n",
       " 'sql',\n",
       " 'stanford',\n",
       " 'ta',\n",
       " 'vhdl',\n",
       " '가까이',\n",
       " '가깝',\n",
       " '가끔',\n",
       " '가능',\n",
       " '가도',\n",
       " '가량',\n",
       " '가르',\n",
       " '가르치',\n",
       " '가면',\n",
       " '가보',\n",
       " '가시',\n",
       " '가시길',\n",
       " '가을',\n",
       " '가장',\n",
       " '가지',\n",
       " '가치',\n",
       " '각각',\n",
       " '각종',\n",
       " '갈리',\n",
       " '갈수록',\n",
       " '감사',\n",
       " '감안',\n",
       " '감점',\n",
       " '갑자기',\n",
       " '강의',\n",
       " '강제',\n",
       " '강추',\n",
       " '같이',\n",
       " '개념',\n",
       " '개론',\n",
       " '개발',\n",
       " '개선',\n",
       " '개요',\n",
       " '개인',\n",
       " '개인적',\n",
       " '거리',\n",
       " '거의',\n",
       " '거지',\n",
       " '걱정',\n",
       " '건의',\n",
       " '건지',\n",
       " '걸리',\n",
       " '검색',\n",
       " '게다',\n",
       " '게임',\n",
       " '겨우',\n",
       " '결과',\n",
       " '결국',\n",
       " '결론',\n",
       " '결석',\n",
       " '결정',\n",
       " '겹치',\n",
       " '경우',\n",
       " '경향',\n",
       " '경험',\n",
       " '계속',\n",
       " '계시',\n",
       " '계열',\n",
       " '계획서',\n",
       " '고등',\n",
       " '고민',\n",
       " '고사',\n",
       " '고생',\n",
       " '고통',\n",
       " '공개',\n",
       " '공부',\n",
       " '공유',\n",
       " '공지',\n",
       " '공학',\n",
       " '과목',\n",
       " '과정',\n",
       " '과제',\n",
       " '관련',\n",
       " '관리',\n",
       " '관심',\n",
       " '관하',\n",
       " '광무',\n",
       " '괜찮',\n",
       " '괴수',\n",
       " '굉장히',\n",
       " '교과서',\n",
       " '교수',\n",
       " '교수님',\n",
       " '교양',\n",
       " '교육',\n",
       " '교재',\n",
       " '구르',\n",
       " '구분',\n",
       " '구성',\n",
       " '구조',\n",
       " '구하',\n",
       " '구현',\n",
       " '굳이',\n",
       " '권장',\n",
       " '권하',\n",
       " '귀찮',\n",
       " '그냥',\n",
       " '그다지',\n",
       " '그닥',\n",
       " '그대로',\n",
       " '그동안',\n",
       " '그래서',\n",
       " '그러',\n",
       " '그럭저럭',\n",
       " '그렇',\n",
       " '그렇게',\n",
       " '그레이드',\n",
       " '그리',\n",
       " '그리고',\n",
       " '그리하',\n",
       " '그만큼',\n",
       " '근데',\n",
       " '근처',\n",
       " '글씨',\n",
       " '금방',\n",
       " '금요일',\n",
       " '기간',\n",
       " '기대',\n",
       " '기말',\n",
       " '기반',\n",
       " '기법',\n",
       " '기본',\n",
       " '기본적',\n",
       " '기술',\n",
       " '기억',\n",
       " '기준',\n",
       " '기초',\n",
       " '기초적',\n",
       " '기출',\n",
       " '기필',\n",
       " '기한',\n",
       " '기회',\n",
       " '까다롭',\n",
       " '깎이',\n",
       " '깨닫',\n",
       " '깨지',\n",
       " '꼼꼼',\n",
       " '꼼꼼히',\n",
       " '꽤나',\n",
       " '꾸준히',\n",
       " '끝나',\n",
       " '끝내',\n",
       " '나가',\n",
       " '나누',\n",
       " '나뉘',\n",
       " '나름',\n",
       " '나머지',\n",
       " '나쁘',\n",
       " '나오',\n",
       " '나중',\n",
       " '난이',\n",
       " '난이도',\n",
       " '내내',\n",
       " '내서',\n",
       " '내용',\n",
       " '내주',\n",
       " '너무',\n",
       " '너무나',\n",
       " '넘기',\n",
       " '넘어가',\n",
       " '네트워크',\n",
       " '노력',\n",
       " '노트',\n",
       " '논문',\n",
       " '놀랍',\n",
       " '높이',\n",
       " '놓치',\n",
       " '느껴지',\n",
       " '느끼',\n",
       " '느낌',\n",
       " '느리',\n",
       " '능력',\n",
       " '다그',\n",
       " '다니',\n",
       " '다루',\n",
       " '다르',\n",
       " '다만',\n",
       " '다소',\n",
       " '다시',\n",
       " '다양',\n",
       " '다음',\n",
       " '다하',\n",
       " '다행히',\n",
       " '단순히',\n",
       " '단원',\n",
       " '단점',\n",
       " '달라',\n",
       " '달라지',\n",
       " '달리',\n",
       " '담당',\n",
       " '답변',\n",
       " '답지',\n",
       " '당연히',\n",
       " '당일',\n",
       " '당황',\n",
       " '대답',\n",
       " '대략',\n",
       " '대부분',\n",
       " '대비',\n",
       " '대영',\n",
       " '대체',\n",
       " '대체로',\n",
       " '대충',\n",
       " '대하',\n",
       " '대학원',\n",
       " '더럽',\n",
       " '더불',\n",
       " '덕분',\n",
       " '던지',\n",
       " '데이터',\n",
       " '도로',\n",
       " '도와주',\n",
       " '도움',\n",
       " '독특',\n",
       " '독학',\n",
       " '돌리',\n",
       " '돌아가',\n",
       " '동시',\n",
       " '동안',\n",
       " '되게',\n",
       " '두이',\n",
       " '드로',\n",
       " '드리',\n",
       " '드립',\n",
       " '득점',\n",
       " '듣기',\n",
       " '들리',\n",
       " '들어가',\n",
       " '들어보',\n",
       " '들어오',\n",
       " '들이',\n",
       " '디버깅',\n",
       " '디자인',\n",
       " '따라가',\n",
       " '따라오',\n",
       " '따로',\n",
       " '따르',\n",
       " '딱히',\n",
       " '때리',\n",
       " '떨어지',\n",
       " '똑같',\n",
       " '똑같이',\n",
       " '뚝배기',\n",
       " '라인',\n",
       " '랜덤',\n",
       " '러닝',\n",
       " '레벨',\n",
       " '레포트',\n",
       " '로드',\n",
       " '리포트',\n",
       " '마음',\n",
       " '마저',\n",
       " '마지막',\n",
       " '마찬가지',\n",
       " '마치',\n",
       " '막히',\n",
       " '만나',\n",
       " '만들',\n",
       " '만약',\n",
       " '만점',\n",
       " '만족',\n",
       " '만큼',\n",
       " '만하',\n",
       " '많이',\n",
       " '말로',\n",
       " '말씀',\n",
       " '말씀드리',\n",
       " '말씀하',\n",
       " '말하',\n",
       " '망치',\n",
       " '망하',\n",
       " '맞추',\n",
       " '매기',\n",
       " '매번',\n",
       " '매시간',\n",
       " '매우',\n",
       " '매일',\n",
       " '매주',\n",
       " '매칭',\n",
       " '머리',\n",
       " '머신',\n",
       " '먼저',\n",
       " '멋지',\n",
       " '메모리',\n",
       " '멘토링',\n",
       " '명성',\n",
       " '명이',\n",
       " '모두',\n",
       " '모르',\n",
       " '모습',\n",
       " '목표',\n",
       " '못하',\n",
       " '무리',\n",
       " '무시',\n",
       " '무언가',\n",
       " '무엇',\n",
       " '무조건',\n",
       " '무척',\n",
       " '문법',\n",
       " '문서',\n",
       " '문제',\n",
       " '물론',\n",
       " '물어보',\n",
       " '뭐하',\n",
       " '미루',\n",
       " '미리',\n",
       " '미리미리',\n",
       " '미치',\n",
       " '바꾸',\n",
       " '바뀌',\n",
       " '바라',\n",
       " '바람',\n",
       " '바로',\n",
       " '바쁘',\n",
       " '바탕',\n",
       " '박진',\n",
       " '반복',\n",
       " '반영',\n",
       " '받으',\n",
       " '발생',\n",
       " '발표',\n",
       " '방법',\n",
       " '방식',\n",
       " '방학',\n",
       " '배려',\n",
       " '배우',\n",
       " '버스',\n",
       " '버전',\n",
       " '벅차',\n",
       " '범위',\n",
       " '베끼',\n",
       " '베이스',\n",
       " '변별',\n",
       " '별개',\n",
       " '별로',\n",
       " '보고',\n",
       " '보고서',\n",
       " '보기',\n",
       " '보다',\n",
       " '보시',\n",
       " '보여주',\n",
       " '보이',\n",
       " '보충',\n",
       " '보통',\n",
       " '복습',\n",
       " '복잡',\n",
       " '본인',\n",
       " '부담',\n",
       " '부르',\n",
       " '부분',\n",
       " '부실',\n",
       " '부족',\n",
       " '분량',\n",
       " '분명',\n",
       " '분야',\n",
       " '분위기',\n",
       " '분포',\n",
       " '불가능',\n",
       " '불구하',\n",
       " '불만',\n",
       " '불성실',\n",
       " '불친절',\n",
       " '불편',\n",
       " '붙이',\n",
       " '붙잡',\n",
       " '비교',\n",
       " '비슷하',\n",
       " '비율',\n",
       " '비중',\n",
       " '비추하',\n",
       " '비하',\n",
       " '빠르',\n",
       " '빠지',\n",
       " '빠짐없이',\n",
       " '빡세',\n",
       " '빨리',\n",
       " '사라지',\n",
       " '사람',\n",
       " '사랑',\n",
       " '사실',\n",
       " '사실상',\n",
       " '사용',\n",
       " '사용하',\n",
       " '사이트',\n",
       " '사전',\n",
       " '사진',\n",
       " '사항',\n",
       " '산과',\n",
       " '살짝',\n",
       " '상관없',\n",
       " '상당',\n",
       " '상당히',\n",
       " '상위',\n",
       " '상위권',\n",
       " '상태',\n",
       " '상황',\n",
       " '새롭',\n",
       " '생각',\n",
       " '생각나',\n",
       " '생기',\n",
       " '생소',\n",
       " '생이',\n",
       " '서로',\n",
       " '서버',\n",
       " '서술',\n",
       " '석영',\n",
       " '선택',\n",
       " '선행',\n",
       " '설계',\n",
       " '설명',\n",
       " '설명도',\n",
       " '성원',\n",
       " '성적',\n",
       " '성희',\n",
       " '소리',\n",
       " '소문',\n",
       " '소문나',\n",
       " '소통',\n",
       " '소프트웨어',\n",
       " '속도',\n",
       " '솔루션',\n",
       " '솔직히',\n",
       " '수가',\n",
       " '수강',\n",
       " '수강생',\n",
       " '수도',\n",
       " '수복',\n",
       " '수업',\n",
       " '수정',\n",
       " '수준',\n",
       " '수학',\n",
       " '수학적',\n",
       " '숙제',\n",
       " '숙지',\n",
       " '순수',\n",
       " '스스로',\n",
       " '스케줄',\n",
       " '스타일',\n",
       " '스트레스',\n",
       " '슬라이드',\n",
       " '습득',\n",
       " '시간',\n",
       " '시간표',\n",
       " '시그마',\n",
       " '시기',\n",
       " '시다',\n",
       " '시대',\n",
       " '시스템',\n",
       " '시작',\n",
       " '시작하',\n",
       " '시키',\n",
       " '시험',\n",
       " '시험장',\n",
       " '시험지',\n",
       " '신경',\n",
       " '신청',\n",
       " '실라',\n",
       " '실력',\n",
       " '실수',\n",
       " '실습',\n",
       " '실제',\n",
       " '실제로',\n",
       " '실행',\n",
       " '실험',\n",
       " '싫어하',\n",
       " '심지어',\n",
       " '심하',\n",
       " '쏙쏙',\n",
       " '쓰이',\n",
       " '아니',\n",
       " '아래',\n",
       " '아마',\n",
       " '아무것',\n",
       " '아무래도',\n",
       " '아무튼',\n",
       " '아쉬움',\n",
       " '아쉽',\n",
       " '아예',\n",
       " '아이디어',\n",
       " '아주',\n",
       " '아직',\n",
       " '아침',\n",
       " '안되',\n",
       " '안주',\n",
       " '안하',\n",
       " '알고리즘',\n",
       " '알려주',\n",
       " '알리',\n",
       " '알아듣',\n",
       " '알아보',\n",
       " '알차',\n",
       " '애초',\n",
       " '약간',\n",
       " '양심',\n",
       " '얘기',\n",
       " '어떠',\n",
       " '어떻',\n",
       " '어려움',\n",
       " '어렵',\n",
       " '어셈블리',\n",
       " '어쩌',\n",
       " '어차피',\n",
       " '언급',\n",
       " '언어',\n",
       " '언제',\n",
       " '얼마',\n",
       " '얼마나',\n",
       " '엄청',\n",
       " '엄청나',\n",
       " '없다',\n",
       " '없었',\n",
       " '없이',\n",
       " '여유',\n",
       " '역시',\n",
       " '역시나',\n",
       " '연구',\n",
       " '연산',\n",
       " '연습',\n",
       " '열리',\n",
       " '열심히',\n",
       " '열의',\n",
       " '열정',\n",
       " '열정적',\n",
       " '영상',\n",
       " '영어',\n",
       " '영향',\n",
       " '예고',\n",
       " '예상',\n",
       " '예습',\n",
       " '예시',\n",
       " '예전',\n",
       " '예제',\n",
       " '오가',\n",
       " '오래',\n",
       " '오로지',\n",
       " '오시',\n",
       " '오토',\n",
       " '오트',\n",
       " '오픈',\n",
       " '오히려',\n",
       " '올라가',\n",
       " '올라오',\n",
       " '올리',\n",
       " '올해',\n",
       " '옮기',\n",
       " '완벽',\n",
       " '완성',\n",
       " '완수',\n",
       " '완전',\n",
       " '완전히',\n",
       " '외국인',\n",
       " '외우',\n",
       " '요구',\n",
       " '요소',\n",
       " '요약',\n",
       " '용도',\n",
       " '운영',\n",
       " '워낙',\n",
       " '워크',\n",
       " '원래',\n",
       " '원리',\n",
       " '원하',\n",
       " '위주',\n",
       " '위하',\n",
       " '유명',\n",
       " '유익',\n",
       " '유일',\n",
       " '유형',\n",
       " '은근히',\n",
       " '응용',\n",
       " '의견',\n",
       " '의문',\n",
       " '의미',\n",
       " '의외로',\n",
       " '의지',\n",
       " '이기',\n",
       " '이드',\n",
       " '이러',\n",
       " '이렇',\n",
       " '이렇게',\n",
       " '이론',\n",
       " '이루어지',\n",
       " '이르',\n",
       " '이름',\n",
       " '이미',\n",
       " '이번',\n",
       " '이산',\n",
       " '이상',\n",
       " '이슈',\n",
       " '이스트',\n",
       " '이시',\n",
       " '이야기',\n",
       " '이에',\n",
       " '이외',\n",
       " '이용',\n",
       " '이유',\n",
       " '이전',\n",
       " '이제',\n",
       " '이주',\n",
       " '이틀',\n",
       " '이하',\n",
       " '이해',\n",
       " '이해도',\n",
       " '이후',\n",
       " '익히',\n",
       " '인가',\n",
       " '인정',\n",
       " '인지',\n",
       " '인터넷',\n",
       " '인터프리터',\n",
       " '일단',\n",
       " '일부',\n",
       " '일부러',\n",
       " '일정',\n",
       " '일주일',\n",
       " '일찍',\n",
       " '임하',\n",
       " '입력',\n",
       " '입장',\n",
       " '있었',\n",
       " '있음',\n",
       " '자괴감',\n",
       " '자료',\n",
       " '자르',\n",
       " '자바',\n",
       " '자세히',\n",
       " '자습',\n",
       " '자신',\n",
       " '자유',\n",
       " '자주',\n",
       " '자체',\n",
       " '작년',\n",
       " '작성',\n",
       " '잘되',\n",
       " '잘하',\n",
       " '잠깐',\n",
       " '장점',\n",
       " '재미',\n",
       " '재미있',\n",
       " '재밌',\n",
       " '적극적',\n",
       " '적당히',\n",
       " '적도',\n",
       " '적용',\n",
       " '적응',\n",
       " '적이',\n",
       " '적인',\n",
       " '적절히',\n",
       " '적히',\n",
       " '전공',\n",
       " '전달',\n",
       " '전반적',\n",
       " '전부',\n",
       " '전산',\n",
       " '전산학',\n",
       " '전자',\n",
       " '전체',\n",
       " '전체적',\n",
       " '전통적',\n",
       " '전혀',\n",
       " '절대',\n",
       " '절대로',\n",
       " '절반',\n",
       " '점수',\n",
       " '접근',\n",
       " '접하',\n",
       " '정도',\n",
       " '정렬',\n",
       " '정리',\n",
       " '정말',\n",
       " '정보',\n",
       " '정신',\n",
       " '정의',\n",
       " '정작',\n",
       " '정하',\n",
       " '정확',\n",
       " '정확히',\n",
       " '제가',\n",
       " '제공',\n",
       " '제대로',\n",
       " '제시',\n",
       " '제외',\n",
       " '제일',\n",
       " '제출',\n",
       " '조교',\n",
       " '조금',\n",
       " '조금씩',\n",
       " '조사',\n",
       " '조심',\n",
       " '조언',\n",
       " '조절',\n",
       " '족보',\n",
       " '존재',\n",
       " '졸리',\n",
       " '종이',\n",
       " '종종',\n",
       " '좋아하',\n",
       " '주간',\n",
       " '주로',\n",
       " '주변',\n",
       " '주시',\n",
       " '주신',\n",
       " '주실',\n",
       " '주심',\n",
       " '주어지',\n",
       " '주위',\n",
       " '주의',\n",
       " '주제',\n",
       " '준비',\n",
       " '줄이',\n",
       " '중간',\n",
       " '중간고사',\n",
       " '중상',\n",
       " '중요',\n",
       " '즐겁',\n",
       " '즐기',\n",
       " '증명',\n",
       " '지각',\n",
       " '지금',\n",
       " '지나',\n",
       " '지나가',\n",
       " '지도',\n",
       " '지식',\n",
       " '지원',\n",
       " '직전',\n",
       " '직접',\n",
       " '진짜',\n",
       " '진행',\n",
       " '진행하',\n",
       " '질문',\n",
       " '집중',\n",
       " '짜여지',\n",
       " '짜증',\n",
       " '짜증나',\n",
       " '쪼금',\n",
       " '차근차근',\n",
       " '차라리',\n",
       " '차이',\n",
       " '차지',\n",
       " '착하',\n",
       " '참고',\n",
       " '참여',\n",
       " '찾아가',\n",
       " '채우',\n",
       " '채점',\n",
       " '챙기',\n",
       " '처리',\n",
       " '처음',\n",
       " '철학',\n",
       " '체감',\n",
       " '체계적',\n",
       " '체제',\n",
       " '체크',\n",
       " '초반',\n",
       " '촉박',\n",
       " '총평',\n",
       " '최고',\n",
       " '최대',\n",
       " '최대한',\n",
       " '최선',\n",
       " '최소한',\n",
       " '최악',\n",
       " '최적화',\n",
       " '최종',\n",
       " '최종적',\n",
       " '추가',\n",
       " '추천',\n",
       " '출석',\n",
       " '출제',\n",
       " '충분히',\n",
       " '친구',\n",
       " '친절',\n",
       " '칠판',\n",
       " '커버',\n",
       " '컨텐츠',\n",
       " '컴파일러',\n",
       " '컴퓨터',\n",
       " '케이스',\n",
       " '코드',\n",
       " '코딩',\n",
       " '코멘트',\n",
       " '퀄리티',\n",
       " '퀴즈',\n",
       " '클레임',\n",
       " '타과',\n",
       " '태도',\n",
       " '테스트',\n",
       " '텍스트',\n",
       " '토론',\n",
       " '토스',\n",
       " '통하',\n",
       " '투자',\n",
       " '특성',\n",
       " '특정',\n",
       " '특허',\n",
       " '특히',\n",
       " '틀리',\n",
       " '파이',\n",
       " '파일',\n",
       " '파트',\n",
       " '퍼포먼스',\n",
       " '페이지',\n",
       " '편이',\n",
       " '편하',\n",
       " '평가',\n",
       " '평균',\n",
       " '평범',\n",
       " '평소',\n",
       " '포기',\n",
       " '포함',\n",
       " '표시',\n",
       " '표현',\n",
       " '풀기',\n",
       " '풀이',\n",
       " '프로',\n",
       " '프로그래밍',\n",
       " '프로그램',\n",
       " '프로젝트',\n",
       " '피드백',\n",
       " '필기',\n",
       " '필드',\n",
       " '필수',\n",
       " '필요',\n",
       " '필자',\n",
       " '하기는',\n",
       " '하나',\n",
       " '하나하나',\n",
       " '하루',\n",
       " '하면서',\n",
       " '하심',\n",
       " '학과',\n",
       " '학교',\n",
       " '학기',\n",
       " '학년',\n",
       " '학부',\n",
       " '학생',\n",
       " '학습',\n",
       " '학점',\n",
       " '한국어',\n",
       " '한글',\n",
       " '한데',\n",
       " '한번',\n",
       " '함께',\n",
       " '함수',\n",
       " '합치',\n",
       " '항목',\n",
       " '항상',\n",
       " '해결',\n",
       " '해내',\n",
       " '해당',\n",
       " '해보',\n",
       " '해외',\n",
       " '해지',\n",
       " '핵심',\n",
       " '형식',\n",
       " '혹은',\n",
       " '혼자',\n",
       " '확률',\n",
       " '확실히',\n",
       " '확인',\n",
       " '확장',\n",
       " '활용',\n",
       " '효율적',\n",
       " '후기',\n",
       " '후반',\n",
       " '후하',\n",
       " '후회',\n",
       " '훨씬',\n",
       " '흐름',\n",
       " '흘리',\n",
       " '흥미',\n",
       " '힘들']"
      ]
     },
     "execution_count": 1098,
     "metadata": {},
     "output_type": "execute_result"
    }
   ],
   "source": [
    "tfidf_features"
   ]
  },
  {
   "cell_type": "code",
   "execution_count": 1099,
   "metadata": {},
   "outputs": [
    {
     "name": "stdout",
     "output_type": "stream",
     "text": [
      "(372, 917)\n"
     ]
    }
   ],
   "source": [
    "print(X_train.shape)"
   ]
  },
  {
   "cell_type": "code",
   "execution_count": 1100,
   "metadata": {},
   "outputs": [
    {
     "name": "stdout",
     "output_type": "stream",
     "text": [
      "(42, 917)\n"
     ]
    }
   ],
   "source": [
    "print(X_test.shape)"
   ]
  },
  {
   "cell_type": "code",
   "execution_count": null,
   "metadata": {},
   "outputs": [],
   "source": []
  },
  {
   "cell_type": "code",
   "execution_count": 1115,
   "metadata": {},
   "outputs": [
    {
     "data": {
      "text/plain": [
       "LinearSVC(C=1.0, class_weight=None, dual=True, fit_intercept=True,\n",
       "     intercept_scaling=1, loss='squared_hinge', max_iter=1000,\n",
       "     multi_class='ovr', penalty='l2', random_state=None, tol=0.0001,\n",
       "     verbose=0)"
      ]
     },
     "execution_count": 1115,
     "metadata": {},
     "output_type": "execute_result"
    }
   ],
   "source": [
    "clf = LinearSVC()\n",
    "clf.fit(X_train,y_train)"
   ]
  },
  {
   "cell_type": "code",
   "execution_count": 1116,
   "metadata": {},
   "outputs": [
    {
     "data": {
      "text/plain": [
       "0.8095238095238095"
      ]
     },
     "execution_count": 1116,
     "metadata": {},
     "output_type": "execute_result"
    }
   ],
   "source": [
    "predictions = clf.predict(X_test)\n",
    "accuracy_score(y_test,predictions)"
   ]
  },
  {
   "cell_type": "code",
   "execution_count": 1117,
   "metadata": {},
   "outputs": [
    {
     "data": {
      "text/plain": [
       "0.19047619047619047"
      ]
     },
     "execution_count": 1117,
     "metadata": {},
     "output_type": "execute_result"
    }
   ],
   "source": [
    "mean_squared_error(y_test,predictions)"
   ]
  },
  {
   "cell_type": "code",
   "execution_count": 1118,
   "metadata": {},
   "outputs": [
    {
     "data": {
      "text/plain": [
       "array([1, 1, 1, 0, 0, 1, 1, 1, 1, 1, 1, 1, 1, 1, 1, 1, 1, 1, 1, 1, 1, 1,\n",
       "       1, 1, 1, 0, 1, 1, 1, 1, 1, 1, 0, 1, 1, 1, 1, 1, 1, 1, 1, 1])"
      ]
     },
     "execution_count": 1118,
     "metadata": {},
     "output_type": "execute_result"
    }
   ],
   "source": [
    "predictions"
   ]
  },
  {
   "cell_type": "code",
   "execution_count": 1119,
   "metadata": {},
   "outputs": [
    {
     "data": {
      "text/plain": [
       "array([1, 1, 1, 0, 0, 1, 1, 1, 0, 1, 1, 0, 1, 1, 1, 0, 1, 1, 1, 1, 1, 1,\n",
       "       0, 0, 1, 0, 1, 1, 1, 1, 1, 0, 0, 1, 1, 0, 1, 0, 1, 1, 1, 1])"
      ]
     },
     "execution_count": 1119,
     "metadata": {},
     "output_type": "execute_result"
    }
   ],
   "source": [
    "y_test"
   ]
  },
  {
   "cell_type": "code",
   "execution_count": 1120,
   "metadata": {},
   "outputs": [],
   "source": [
    "for i in range(len(predictions)):\n",
    "    if predictions[i]!= y_test[i]:\n",
    "#         print(\"pred\",predictions[i],\"real\",y_test[i])\n",
    "#         print(data_test[i])\n",
    "        pass\n",
    "        "
   ]
  },
  {
   "cell_type": "code",
   "execution_count": 1114,
   "metadata": {},
   "outputs": [
    {
     "name": "stdout",
     "output_type": "stream",
     "text": [
      "0.7380952380952381 0.49945828819068255\n"
     ]
    },
    {
     "data": {
      "text/plain": [
       "0.6475777743383377"
      ]
     },
     "execution_count": 1114,
     "metadata": {},
     "output_type": "execute_result"
    }
   ],
   "source": [
    "micro = f1_score(y_test, predictions, average='micro')  \n",
    "macro = f1_score(y_test, predictions, average='macro')  \n",
    "print(micro,macro)\n",
    "f1_score(y_test, predictions, average='weighted')  "
   ]
  },
  {
   "cell_type": "code",
   "execution_count": 1122,
   "metadata": {},
   "outputs": [
    {
     "data": {
      "text/plain": [
       "0.6666666666666667"
      ]
     },
     "execution_count": 1122,
     "metadata": {},
     "output_type": "execute_result"
    }
   ],
   "source": [
    "roc_auc_score(y_test,predictions)"
   ]
  },
  {
   "cell_type": "code",
   "execution_count": 1131,
   "metadata": {},
   "outputs": [
    {
     "data": {
      "text/plain": [
       "{'C': 1.0,\n",
       " 'class_weight': None,\n",
       " 'dual': True,\n",
       " 'fit_intercept': True,\n",
       " 'intercept_scaling': 1,\n",
       " 'loss': 'squared_hinge',\n",
       " 'max_iter': 1000,\n",
       " 'multi_class': 'ovr',\n",
       " 'penalty': 'l2',\n",
       " 'random_state': None,\n",
       " 'tol': 0.0001,\n",
       " 'verbose': 0}"
      ]
     },
     "execution_count": 1131,
     "metadata": {},
     "output_type": "execute_result"
    }
   ],
   "source": [
    "LinearSVC().get_params()"
   ]
  },
  {
   "cell_type": "code",
   "execution_count": 1138,
   "metadata": {},
   "outputs": [
    {
     "name": "stdout",
     "output_type": "stream",
     "text": [
      "Fitting grid search...\n",
      "Grid search fitted.\n"
     ]
    }
   ],
   "source": [
    "params = {'penalty':['l2'],\n",
    "          'C': [10**i for i in range(-2,2)]}\n",
    "\n",
    "gs2 = grid_search.GridSearchCV(\n",
    "    estimator=LinearSVC(),\n",
    "    param_grid=params,\n",
    "    cv=5,\n",
    "    scoring='f1'\n",
    ")\n",
    "\n",
    "#fit the grid search object to our new dataset\n",
    "print ('Fitting grid search...')\n",
    "gs2.fit(X_train, y_train)\n",
    "print (\"Grid search fitted.\")"
   ]
  },
  {
   "cell_type": "code",
   "execution_count": 1139,
   "metadata": {},
   "outputs": [
    {
     "name": "stdout",
     "output_type": "stream",
     "text": [
      "LinearSVC(C=0.1, class_weight=None, dual=True, fit_intercept=True,\n",
      "     intercept_scaling=1, loss='squared_hinge', max_iter=1000,\n",
      "     multi_class='ovr', penalty='l2', random_state=None, tol=0.0001,\n",
      "     verbose=0)\n"
     ]
    },
    {
     "data": {
      "text/plain": [
       "[mean: 0.79612, std: 0.00124, params: {'C': 0.01, 'penalty': 'l2'},\n",
       " mean: 0.80401, std: 0.00920, params: {'C': 0.1, 'penalty': 'l2'},\n",
       " mean: 0.76329, std: 0.02554, params: {'C': 1, 'penalty': 'l2'},\n",
       " mean: 0.74119, std: 0.03044, params: {'C': 10, 'penalty': 'l2'}]"
      ]
     },
     "execution_count": 1139,
     "metadata": {},
     "output_type": "execute_result"
    }
   ],
   "source": [
    "print (gs2.best_estimator_)\n",
    "gs2.grid_scores_"
   ]
  },
  {
   "cell_type": "code",
   "execution_count": null,
   "metadata": {},
   "outputs": [],
   "source": []
  }
 ],
 "metadata": {
  "kernelspec": {
   "display_name": "Python 3",
   "language": "python",
   "name": "python3"
  },
  "language_info": {
   "codemirror_mode": {
    "name": "ipython",
    "version": 3
   },
   "file_extension": ".py",
   "mimetype": "text/x-python",
   "name": "python",
   "nbconvert_exporter": "python",
   "pygments_lexer": "ipython3",
   "version": "3.6.5"
  }
 },
 "nbformat": 4,
 "nbformat_minor": 2
}
