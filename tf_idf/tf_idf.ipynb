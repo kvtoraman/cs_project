{
 "cells": [
  {
   "cell_type": "code",
   "execution_count": 1,
   "metadata": {},
   "outputs": [],
   "source": [
    "import json\n",
    "from konlpy.tag import Kkma\n",
    "from konlpy.utils import pprint\n",
    "from sklearn.feature_extraction.text import TfidfVectorizer\n",
    "from sklearn.model_selection import train_test_split\n",
    "from sklearn.svm import SVC,LinearSVC,SVR\n",
    "from sklearn.metrics import accuracy_score,mean_squared_error,roc_auc_score\n",
    "import numpy as np\n",
    "from sklearn.linear_model import LogisticRegression,SGDClassifier"
   ]
  },
  {
   "cell_type": "code",
   "execution_count": 2,
   "metadata": {},
   "outputs": [],
   "source": [
    "REVIEWS = \"cs_reviews\"\n",
    "POS = \"pos\""
   ]
  },
  {
   "cell_type": "code",
   "execution_count": 3,
   "metadata": {},
   "outputs": [],
   "source": [
    "f = open(\"../reviews_in_one_txt/\" + REVIEWS + \".txt\",\"r\",encoding=\"utf-8\").readlines()"
   ]
  },
  {
   "cell_type": "code",
   "execution_count": 4,
   "metadata": {},
   "outputs": [],
   "source": [
    "g = open(\"../reviews_in_one_txt/\" + REVIEWS + \"_\" + POS + \".txt\",\"r\",encoding=\"utf-8\").readlines()"
   ]
  },
  {
   "cell_type": "code",
   "execution_count": null,
   "metadata": {},
   "outputs": [],
   "source": []
  },
  {
   "cell_type": "code",
   "execution_count": 5,
   "metadata": {},
   "outputs": [],
   "source": [
    "# kkma = Kkma()\n",
    "# with open(\"../reviews_in_one_txt/\" + REVIEWS+\"_nouns.txt\",\"w\",encoding=\"utf-8\") as out:\n",
    "#     for line in f:\n",
    "#         course = json.loads(line)\n",
    "#         nouns = kkma.nouns(course[\"review_text\"])\n",
    "# #         print(nouns)\n",
    "#         out.write(\" \".join(nouns)+\"\\n\")\n",
    "        "
   ]
  },
  {
   "cell_type": "code",
   "execution_count": 194,
   "metadata": {},
   "outputs": [
    {
     "name": "stdout",
     "output_type": "stream",
     "text": [
      "{'F': 37, 'A': 263, 'C': 62, 'B': 98, 'D': 38}\n",
      "100\n"
     ]
    }
   ],
   "source": [
    "count = {}\n",
    "for i in range(len(f)):\n",
    "    course = json.loads(f[i])\n",
    "    if course[\"강의\"] != \"?\" and len(g[i])>1:\n",
    "        if course[\"강의\"] not in count:\n",
    "            count[course[\"강의\"]] = 0\n",
    "        count[course[\"강의\"]] += 1\n",
    "        \n",
    "print(count)\n",
    "upper_limit = min(count.values())\n",
    "upper_limit = 100\n",
    "print(upper_limit)"
   ]
  },
  {
   "cell_type": "code",
   "execution_count": 195,
   "metadata": {},
   "outputs": [],
   "source": [
    "concat_nouns_list = []\n",
    "for k,v in count.items():\n",
    "    count[k] = 0\n",
    "# mp = {\"A\":5,\"B\":4,\"C\":3,\"D\":2,\"F\":1}\n",
    "mp = {\"A\":1,\"B\":1,\"C\":0,\"D\":0,\"F\":0}\n",
    "\n",
    "labels = []\n",
    "for i in range(len(f)):\n",
    "    line = f[i]\n",
    "    course = json.loads(line)\n",
    "    if course[\"강의\"] != \"?\" and len(g[i])>1:\n",
    "        concat_nouns = g[i]\n",
    "        if count[course[\"강의\"]] < upper_limit:\n",
    "            concat_nouns_list.append(concat_nouns)\n",
    "            labels.append(int(mp[course[\"강의\"]]))\n",
    "            count[course[\"강의\"]] += 1"
   ]
  },
  {
   "cell_type": "code",
   "execution_count": 196,
   "metadata": {},
   "outputs": [],
   "source": [
    "labels = np.array(labels)\n",
    "concat_nouns_list = np.array(concat_nouns_list)\n",
    "data_train, data_test, y_train, y_test = train_test_split(concat_nouns_list,\n",
    "                                    labels,test_size=0.1,random_state=42)"
   ]
  },
  {
   "cell_type": "code",
   "execution_count": 197,
   "metadata": {},
   "outputs": [
    {
     "data": {
      "text/plain": [
       "301"
      ]
     },
     "execution_count": 197,
     "metadata": {},
     "output_type": "execute_result"
    }
   ],
   "source": [
    "len(data_train)"
   ]
  },
  {
   "cell_type": "code",
   "execution_count": 198,
   "metadata": {},
   "outputs": [
    {
     "data": {
      "text/plain": [
       "301"
      ]
     },
     "execution_count": 198,
     "metadata": {},
     "output_type": "execute_result"
    }
   ],
   "source": [
    "len(y_train)"
   ]
  },
  {
   "cell_type": "code",
   "execution_count": 199,
   "metadata": {},
   "outputs": [],
   "source": [
    "# list(data_train)[:2]"
   ]
  },
  {
   "cell_type": "code",
   "execution_count": 200,
   "metadata": {},
   "outputs": [
    {
     "data": {
      "text/plain": [
       "array([0, 1])"
      ]
     },
     "execution_count": 200,
     "metadata": {},
     "output_type": "execute_result"
    }
   ],
   "source": [
    "y_train[:2]"
   ]
  },
  {
   "cell_type": "code",
   "execution_count": 201,
   "metadata": {},
   "outputs": [
    {
     "name": "stdout",
     "output_type": "stream",
     "text": [
      "Added 13\n",
      "Added 13\n"
     ]
    }
   ],
   "source": [
    "def parse_long_str(s):\n",
    "    s = s.split(',')\n",
    "    s = [x.strip() for x in s]\n",
    "    return s\n",
    "good_lecture = parse_long_str(\"사랑, 천사, 친절, 유명, 짱, 참여, 최고, 만족, 유익, 열정적, 갓, 답변, 명강의\")\n",
    "bad_lecture = parse_long_str(\"집중, 혼자, 부족, 자습, 당황, 최악, 인생, 불편, 복잡, 불만, 악명, 비추, 난이(도)\")\n",
    "#todo try weighted average of w2v\n",
    "scores = {}\n",
    "def add_to_dict(l,score):\n",
    "    global scores\n",
    "    print(\"Added \" + str(len(l)))\n",
    "    for i in range(len(l)):\n",
    "        scores[l[i]] = score\n",
    "add_to_dict(good_lecture,1.0)\n",
    "add_to_dict(bad_lecture,-1.0)"
   ]
  },
  {
   "cell_type": "code",
   "execution_count": 202,
   "metadata": {},
   "outputs": [],
   "source": [
    "def enlarge_train_data(data_train,y_train):\n",
    "    x = list(data_train)\n",
    "    y = list(y_train)\n",
    "    for k,v in scores.items():\n",
    "#         x.append(str(k)+\"\\n\")\n",
    "        x.append(\"(%s,NNG)\" % (str(k))+\"\\n\")\n",
    "        if v > 0:\n",
    "            y.append(int(mp['A']))\n",
    "        else:\n",
    "            y.append(int(mp['F']))\n",
    "    \n",
    "    return np.array(x),np.array(y)\n",
    "\n",
    "# data_train,y_train = enlarge_train_data(data_train,y_train)"
   ]
  },
  {
   "cell_type": "code",
   "execution_count": 203,
   "metadata": {},
   "outputs": [
    {
     "data": {
      "text/plain": [
       "301"
      ]
     },
     "execution_count": 203,
     "metadata": {},
     "output_type": "execute_result"
    }
   ],
   "source": [
    "len(data_train)"
   ]
  },
  {
   "cell_type": "code",
   "execution_count": 204,
   "metadata": {},
   "outputs": [
    {
     "data": {
      "text/plain": [
       "301"
      ]
     },
     "execution_count": 204,
     "metadata": {},
     "output_type": "execute_result"
    }
   ],
   "source": [
    "len(y_train)"
   ]
  },
  {
   "cell_type": "code",
   "execution_count": 214,
   "metadata": {},
   "outputs": [],
   "source": [
    "vectorizer = TfidfVectorizer(min_df=3, max_df = 0.8,max_features=200000, ngram_range=(3,5))"
   ]
  },
  {
   "cell_type": "code",
   "execution_count": 215,
   "metadata": {},
   "outputs": [],
   "source": [
    "# vectirizer.fit(..)\n",
    "# X_train = vectorizer.transform(data_train)\n",
    "X_train = vectorizer.fit_transform(data_train)\n",
    "X_test = vectorizer.transform(data_test)"
   ]
  },
  {
   "cell_type": "code",
   "execution_count": 216,
   "metadata": {},
   "outputs": [
    {
     "name": "stdout",
     "output_type": "stream",
     "text": [
      "(301, 9412)\n"
     ]
    }
   ],
   "source": [
    "print(X_train.shape)"
   ]
  },
  {
   "cell_type": "code",
   "execution_count": 217,
   "metadata": {},
   "outputs": [
    {
     "name": "stdout",
     "output_type": "stream",
     "text": [
      "(34, 9412)\n"
     ]
    }
   ],
   "source": [
    "print(X_test.shape)"
   ]
  },
  {
   "cell_type": "code",
   "execution_count": 218,
   "metadata": {},
   "outputs": [
    {
     "data": {
      "text/plain": [
       "LinearSVC(C=1.0, class_weight=None, dual=True, fit_intercept=True,\n",
       "     intercept_scaling=1, loss='squared_hinge', max_iter=1000,\n",
       "     multi_class='ovr', penalty='l2', random_state=None, tol=0.0001,\n",
       "     verbose=0)"
      ]
     },
     "execution_count": 218,
     "metadata": {},
     "output_type": "execute_result"
    }
   ],
   "source": [
    "clf = LinearSVC()\n",
    "clf.fit(X_train,y_train)"
   ]
  },
  {
   "cell_type": "code",
   "execution_count": 219,
   "metadata": {},
   "outputs": [
    {
     "data": {
      "text/plain": [
       "0.7352941176470589"
      ]
     },
     "execution_count": 219,
     "metadata": {},
     "output_type": "execute_result"
    }
   ],
   "source": [
    "predictions = clf.predict(X_test)\n",
    "accuracy_score(y_test,predictions)"
   ]
  },
  {
   "cell_type": "code",
   "execution_count": 220,
   "metadata": {},
   "outputs": [
    {
     "data": {
      "text/plain": [
       "0.2647058823529412"
      ]
     },
     "execution_count": 220,
     "metadata": {},
     "output_type": "execute_result"
    }
   ],
   "source": [
    "mean_squared_error(y_test,predictions)"
   ]
  },
  {
   "cell_type": "code",
   "execution_count": 221,
   "metadata": {},
   "outputs": [
    {
     "data": {
      "text/plain": [
       "array([0, 1, 0, 1, 1, 1, 1, 1, 1, 0, 0, 1, 1, 1, 0, 0, 0, 1, 1, 1, 1, 1,\n",
       "       1, 0, 1, 1, 1, 1, 0, 1, 1, 1, 1, 1])"
      ]
     },
     "execution_count": 221,
     "metadata": {},
     "output_type": "execute_result"
    }
   ],
   "source": [
    "predictions"
   ]
  },
  {
   "cell_type": "code",
   "execution_count": 222,
   "metadata": {},
   "outputs": [
    {
     "data": {
      "text/plain": [
       "array([0, 1, 0, 1, 1, 0, 1, 1, 0, 0, 1, 1, 1, 0, 0, 1, 0, 1, 0, 1, 0, 1,\n",
       "       1, 0, 1, 1, 1, 1, 0, 1, 1, 0, 1, 0])"
      ]
     },
     "execution_count": 222,
     "metadata": {},
     "output_type": "execute_result"
    }
   ],
   "source": [
    "y_test"
   ]
  },
  {
   "cell_type": "code",
   "execution_count": 146,
   "metadata": {},
   "outputs": [
    {
     "name": "stdout",
     "output_type": "stream",
     "text": [
      "pred 3 real 5\n",
      "(전산,NNG) (과,JC) (전공,NNG) (필수,NNG) (,,SP) (데이타,NNG) (구조,NNG) (이,VCP) (ㅂ니다,EFN) (.,SF) (아마,MAG) (전산,NNG) (과,JKM) (진입,NNG) (생,XSN) (여러분,NP) (이,JKS) (가장,MAG) (처음,NNG) (으로,JKM) (마주치,VV) (는,ETD) (전공,NNG) (과목,NNG) (이,VCP) (ㄹ,ETD) (것,NNB) (같,VA) (네요,EFN) (.,SF) (언어,NNG) (는,JX) (Java,OL) (를,JKO) (쓰,VV) (고,ECE) (,,SP) (elice,OL) (.,SF) (io,OL) (라,NNG) (는,JX) (플랫폼,NNG) (에서,JKM) (수업,NNG) (을,JKO) (하,VV) (ㅂ니다,EFN) (.,SF) (퀴즈,NNG) (10,NR) (번,NNM) (,,SP) (과제,NNG) (6,NR) (번,NNM) (,,SP) ((,SS) (과제,NNG) (0,NR) (포함,NNG) (),SS) (미,XPN) (니플,NNG) (젝,UN) (두,MDN) (번,NNB) (이,JKS) (있,VV) (었,EPT) (고,ECE) (,,SP) (중간,NNG) (,,SP) (기말,NNG) (이,JKS) (있,VV) (었,EPT) (습니다,EFN) (.,SF) (과제,NNG) (는,JX) (난이도,NNG) (가,JKS) (그렇게,MAG) (어렵,VA) (ㄴ,ETD) (편,NNB) (은,JX) (아니,VCN) (지만,ECE) (,,SP) (하나,NR) (의,JKG) (과제,NNG) (에,JKM) (5,NR) (문제,NNG) (정도,NNG) (가,JKS) (있,VV) (어서,ECD) (하,VV) (는,ETD) (데,NNB) (시간,NNG) (은,JX) (꽤,MAG) (걸리,VV) (ㅂ니다,EFN) (.,SF) (수업,NNG) (은,JX) (영어,NNG) (수업,NNG) (이,VCP) (ㄴ데,ECE) (영어,NNG) (가,JKS) (유창,XR) (하,XSA) (시,EPH) (어서,ECD) (알아듣,VV) (는,ETD) (데,NNB) (무리,NNG) (가,JKS) (없,VA) (습니다,EFN) (.,SF) (교수님,NNG) (께서,JKS) (친절,NNG) (하,XSV) (시,EPH) (고,ECE) (,,SP) (강의,NNG) (도,JX) (잘,MAG) (하,VV) (어,ECS) (주,VXV) (시,EPH) (ㅂ니다,EFN) (.,SF) (시험,NNG) (은,JX) (어렵,VA) (ㄴ,ETD) (것,NNB) (같,VA) (네요,EFN) (.,SF) (암튼,MAG) (확실히,MAG) (이,MDT) (과목,NNG) (을,JKO) (듣,VV) (고,ECE) (나,NP) (서,JKM) (전산,NNG) (에서,JKM) (어떻,VA) (ㄴ,ETD) (것,NNB) (을,JKO) (하,VV) (는지,ECS) (약간,MAG) (트이,VV) (었,EPT) (습니다,EFN) (.,SF) (추천,NNG) (하,XSV) (ㅂ니다,EFN) (.,SF)\n",
      "\n",
      "pred 2 real 1\n",
      "(수업,NNG) (에,JKM) (대하,VV) (ㄴ,ETD) (설명,NNG) (은,JX) (정확,NNG) (하,XSV) (게,ECD) (아래,NNG) (에,JKM) (쓰이,VV) (ㄴ,ETD) (후기,NNG) (와,JKM) (똑같,VA) (습니다,EFN) (.,SF) (다만,MAG) (성적,NNG) (에,JKM) (크,VA) (게,ECD) (연,NNG) (연,NNG) (하,XSV) (지,ECD) (않,VXV) (고,ECE) (OS,OL) (를,JKO) (즐기,VV) (고자,ECD) (하,VV) (ㄴ다면,ECE) (송,NNG) (교수님,NNG) (OS,OL) (도,JX) (괜찮,VA) (습니다,EFN) (.,SF) (그러,VV) (나,ECE) (이,MDT) (',SS) (즐기,VV) (ㄴ다,ECS) (',SS) (이,VCP) (라는,ETD) (것,NNB) (이,JKS) (무엇,NNG) (이,VCP) (ㄴ지,ECD) (는,JX) (들어보,VV) (시,EPH) (어야,ECD) (알,VV) (ㄹ,ETD) (것,NNB) (이,VCP) (ㅂ니다,EFN) (.,SF) (빈말,NNG) (이,JKC) (아니,VCN) (라,ECD) (정말,MAG) (즐기,VV) (는,ETD) (것,NNB) (만,JX) (이,JKS) (유일,NNG) (하,XSV) (ㄴ,ETD) (해답,NNG) (이,VCP) (ㄴ,ETD) (수업,NNG) (이,VCP) (라는,ETD) (것,NNB) (을,JKO) (깨닫,VV) (게,ECD) (되,VV) (ㅂ니다,EFN) (.,SF) (하,VV) (ㄴ,ETD) (만큼,NNG) (보답,NNG) (받,VV) (는,ETD) (학점,NNG) (/,SP) (유려,XR) (하,XSA) (ㄴ,ETD) (수업,NNG) (진행,NNG) (/,SP) (실라,NNG) (버스,NNG) (대로,JX) (절도,NNG) (있,VV) (는,ETD) (학기,NNG) (설계,NNG) (/,SP) (영어,NNG) (수업,NNG) (/,SP) (여유,NNG) (시간,NNG) (위의,NNG) (항목,NNG) (중,NNB) (하나,NR) (라도,JX) (원하,VV) (ㄴ다면,ECE) (절대,MAG) (듣,VV) (지,ECD) (않,VXV) (는,ETD) (것,NNB) (을,JKO) (추천,NNG) (하,XSV) (ㅂ니다,EFN) (.,SF) (오히려,MAG) (로또,NNG) (학점,NNG) (/,SP) (언제,MAG) (나오,VV) (ㄹ지,ECD) (모르,VV) (는,ETD) (깜짝,MAG) (숙제,NNG) (/,SP) (핀,NNG) (토스,NNG) (는,JX) (저,MDT) (하늘,NNG) (의,JKG) (별,NNG) (로,JKM) (/,SP) (',SS) (유사,NNG) (',SS) (영어,NNG) (수업,NNG) (/,SP) (충동적,NNG) (이,VCP) (ㄴ,ETD) (삶,NNG) (/,SP) (실라,NNG) (버스,NNG) (는,JX) (과목,NNG) (신청,NNG) (하,XSV) (ㄹ,ETD) (때,NNG) (나,VV) (아,ECS) (보,VXV) (는,ETD) (것,NNB) (위의,NNG) (항목,NNG) (모두,NNG) (를,JKO) (원하,VV) (ㄴ다면,ECE) (듣,VV) (는,ETD) (것,NNB) (을,JKO) (추천,NNG) (하,XSV) (ㅂ니다,EFN) (.,SF) (개인적,NNG) (으로,JKM) (는,JX) (한,MDN) (학기,NNG) (동안,NNG) (정말,MAG) (재미있,VA) (게,ECD) (듣,VV) (었,EPT) (고,ECE) (굉장히,MAG) (즐겁,VA) (ㄴ,ETD) (학기,NNG) (이,VCP) (었,EPT) (습니다,EFN) (.,SF) (다만,MAG) (자신,NNG) (의,JKG) (성향,NNG) (이,JKS) (후기,NNG) (에,JKM) (나오,VV) (ㄴ,ETD) (것,NNB) (과,JKM) (다르,VA) (다고,EFN) (생각,NNG) (하,XSV) (면,ECE) (절대,MAG) (듣,VV) (지,ECD) (마,VV) (세요,EFN) (.,SF) (그나저나,MAG) (아래,NNG) (에,JKM) (있,VV) (더,EPT) (ㄴ,ETD) (후기,NNG) (가,JKS) (어느새,MAG) (제,NNG) (위,NNG) (로,JKM) (올라오,VV) (았,EPT) (네요,EFN) (.,SF) (오,NNG) (티,NNG) (엘,NNG) (의,JKG) (정렬,NNG) (시스템,NNG) (을,JKO) (디자인,NNG) (하,XSV) (ㄴ,ETD) (사람,NNG) (은,JX) (당장,NNG) (송,NNG) (OS,OL) (를,JKO) (듣,VV) (으러,ECD) (가십,NNG) (...,SE) (읍,NNG) (읍,NNG)\n",
      "\n",
      "pred 3 real 4\n",
      "(1,NR) (),SS) (이번,NNG) (에,JKM) (11,NR) (명,NNM) (이,JKS) (수강,NNG) (하,XSV) (었,EPT) (는데,ECD) (주변,NNG) (친구,NNG) (들,XSN) (의,JKG) (이야기,NNG) (를,JKO) (들어보,VV) (니,ECD) (대부분,NNG) (예상,NNG) (하,XSV) (었,EPT) (던,EFQ) (학점,NNG) (보다,JKM) (상당히,MAG) (잘,MAG) (받,VV) (은,ETD) (것,NNB) (으로,JKM) (알,VV) (고,ECE) (있,VXV) (습니다,EFN) (.,SF) (2,NR) (),SS) (예전,NNG) (보다,JKM) (로드,NNG) (가,JKS) (줄어들,VV) (기,ETN) (는,JKS) (하,VV) (었,EPT) (지만,ECE) (중간,NNG) (고사,NNG) (이후,NNG) (의,JKG) (로드,NNG) (가,JKS) (어느,MDT) (정도,NNG) (존재,NNG) (하,XSV) (ㅂ니다,EFN) (.,SF) (SafeHome,OL) (project,OL) (의,JKG) (use,OL) (case,OL) (diagram,OL) (을,JKO) (그리,VV) (는,ETD) (숙제,NNG) (나,JC) (grep,OL) (의,JKG) (branch,OL) (coverage,OL) (를,JKO) (높이,VV) (는,ETD) (숙제,NNG) (의,JKG) (로드,NNG) (가,JKS) (쎄,VA) (ㄴ,ETD) (편,NNB) (이,VCP) (ㄴ데,ECE) (,,SP) (이,MDT) (둘,NNG) (만,JX) (잘,MAG) (넘기,VV) (시,EPH) (면,ECE) (크,VA) (게,ECD) (어렵,VA) (ㄴ,ETD) (건,NNM) (없,VA) (습니다,EFN) (.,SF) (3,NR) (),SS) (PPT,OL) (에,JKM) (줄글,NNG) (이,JKS) (많,VA) (다,ECS) (보,VXV) (니,ECD) (강의,NNG) (가,JKS) (쏙쏙,MAG) (들어오,VV) (는,ETD) (편,NNB) (은,JX) (아니,VCN) (ㅂ니다,EFN) (.,SF) (하지만,MAC) (교수님,NNG) (께서,JKS) (학생,NNG) (들,XSN) (의,JKG) (질문,NNG) (을,JKO) (잘,MAG) (받,VV) (아,ECD) (주,VXV) (시,EPH) (고,ECE) (중간,NNG) (에,JKM) (퀴즈,NNG) (를,JKO) (내서,NNG) (학생,NNG) (들,XSN) (이,JKS) (잘,MAG) (따라오,VV) (는지,ECS) (확인,NNG) (하,XSV) (시,EPH) (는,ETD) (방법,NNG) (으로,JKM) (많이,MAG) (커버,NNG) (를,JKO) (하,VV) (어,ECS) (주,VXV) (고,ECE) (계시,VXA) (어서,ECD) (만족,NNG) (하,XSV) (었,EPT) (습니다,EFN) (.,SF) (4,NR) (),SS) (2015,NR) (봄,NNG) (에,JKM) (듣,VV) (었,EPT) (더,EPT) (ㄴ,ETD) (친구,NNG) (들,XSN) (의,JKG) (경우,NNG) (김,NNG) (문,NNG) (주,NNG) (교수님,NNG) (의,JKG) (소,NNG) (공개,NNG) (가,JKS) (거의,MAG) (OS,OL) (급,NNG) (으로,JKM) (힘들,VA) (다고,EFN) (듣,VV) (어서,ECD) (겁,NNG) (이,JKS) (나,VV) (었,EPT) (었,EPT) (는데,ECD) (이번,NNG) (학기,NNG) (의,JKG) (경우,NNG) (교수님,NNG) (이,JKS) (로드,NNG) (를,JKO) (적절히,MAG) (분배,NNG) (하,XSV) (시,EPH) (고,ECE) (내용,NNG) (면,NNG) (에서,JKM) (UML,OL) (보다,JKM) (는,JX) (테,NNG) (스팅,UN) (쪽,NNB) (파트,NNG) (를,JKO) (많이,MAG) (다루,VV) (어,ECS) (주,VXV) (시,EPH) (어서,ECD) (흥미,NNG) (로,JKM) (웠,UN) (슬,VV) (ㅂ니다,EFN) (.,SF) (5,NR) (),SS) (나중,NNG) (에,JKM) (현업,NNG) (에서,JKM) (도,JX) (사용,NNG) (되,XSV) (는,ETD) (부분,NNG) (이,JKS) (많,VA) (으니,ECD) (전산,NNG) (과,JC) (학생,NNG) (이,VCP) (라면,ECD) (꼭,MAG) (한번,MAG) (들어보,VV) (아야,ECD) (하,VV) (는,ETD) (수업,NNG) (이,VCP) (라고,ECD) (생각,NNG) (하,XSV) (ㅂ니다,EFN) (.,SF)\n",
      "\n",
      "pred 5 real 3\n",
      "(이,MDT) (수업,NNG) (을,JKO) (듣,VV) (지,ECD) (않,VXV) (은,ETD) (당신,NP) (이,JKS) (불쌍,XR) (하,XSV) (어,ECS) (...,SE) (류,NNG) (교수님,NNG) (은,JX) (정말,MAG) (인생,NNG) (의,JKG) (최고,NNG) (의,JKG) (교수님,NNG) (Top,OL) (3,NR) (라고,JX) (말씀드리,VV) (고,ECE) (싶,VXA) (다,ECS) (학생,NNG) (을,JKO) (생각,NNG) (하,XSV) (ㄴ,ETD) (강의,NNG) (와,JKM) (언제나,MAG) (발전,NNG) (하,XSV) (는,ETD) (강의,NNG) (,,SP) (교수님,NNG) (께서,JKS) (하,VV) (는,ETD) (강의,NNG) (의,JKG) (모범,NNG) (답안,NNG) (이,VCP) (라고,ECD) (말씀드리,VV) (고,ECE) (싶,VXA) (다,EFN) (학점,NNG) (도,JX) (학생,NNG) (들,XSN) (을,JKO) (배려,NNG) (하,XSV) (어서,ECD) (잘,MAG) (주,VV) (시,EPH) (는,ETD) (것,NNB) (같,VA) (다,EFN) (.,SF)\n",
      "\n",
      "pred 2 real 5\n",
      "(매주,MAG) (과제,NNG) (가,JKS) (있,VV) (어서,ECD) (꽤,MAG) (하드,NNG) (하,XSV) (ㅂ니다,EFN) (.,SF) (그래픽스,NNG) (정말,MAG) (재미있,VA) (어요,EFN) (.,SF) (이,JKS) (수업,NNG) (덕분,NNG) (에,JKM) (현업,NNG) (에서,JKM) (도,JX) (많,VA) (은,ETD) (도움,NNG) (이,JKC) (되,VV) (었,EPT) (습니다,EFN) (.,SF) (교수님,NNG) (도,JX) (정말,MAG) (수업,NNG) (잘하,VV) (시,EPH) (ㅂ니다,EFN) (.,SF) (질문,NNG) (많이,MAG) (하세,NNG) (요,JX) (잘,MAG) (모르,VV) (고,ECE) (생소,XR) (하,XSA) (ㄴ,ETD) (것,NNB) (이,JKS) (당연,XR) (하,XSA) (ㄴ,ETD) (과목,NNG) (이,VCP) (ㅂ니다,EFN) (.,SF)\n",
      "\n",
      "pred 3 real 4\n",
      "(전산,NNG) (과,JKM) (의,JKG) (가장,MAG) (기초,NNG) (과목,NNG) (이,VCP) (ㄴ,ETD) (DS,OL) (일,VV) (ㅂ니다,EFN) (.,SF) (윤,NNG) (성,XSN) (의,JKG) (교수님,NNG) (께,JKM) (서,VV) (는,ETD) (수업,NNG) (을,JKO) (그렇,VA) (게,ECD) (까,VV) (지,ECD) (잘,MAG) (하,VV) (지,EFN) (는,JX) (않,VXV) (으시,EPH) (었,EPT) (지만,ECE) (항상,MAG) (학생,NNG) (들,XSN) (을,JKO) (친근,XR) (하,XSA) (게,ECD) (챙기,VV) (어,ECS) (주,VXV) (시,EPH) (어서,ECD) (좋,VA) (았,EPT) (습니다,EFN) (.,SF) (기본적,NNG) (으로,JKM) (필요,NNG) (하,XSV) (ㄴ,ETD) (내용,NNG) (들,XSN) (은,JX) (빠짐없이,MAG) (다,MAG) (다루,VV) (어,ECS) (지,VXV) (ㄴ,ETD) (것,NNB) (같,VA) (고,ECE) (자바,NNG) (를,JKO) (사용,NNG) (하,XSV) (는,ETD) (과제,NNG) (가,JKS) (몇,MDT) (개,NNM) (있,VV) (었,EPT) (습니다,EFN) (.,SF) (시험,NNG) (도,JX) (무난,XR) (하,XSA) (게,ECD) (나오,VV) (았,EPT) (더,EPT) (ㄴ,ETD) (것,NNB) (으로,JKM) (기억,NNG) (하,XSV) (ㅂ니다,EFN) (.,SF)\n",
      "\n",
      "pred 5 real 4\n",
      "(cg,OL) (배우,VV) (니깐,ECD) (서,VV) (든,ECE) (2,NR) (가,JKS) (그냥,MAG) (텍스,NNG) (치,VV) (어,ECS) (떡,NNG) (칠,NNG) (이,VCP) (라는,ETD) (것,NNB) (을,JKO) (알,VV) (게,ECD) (되,VV) (었,EPT) (습니다,EFN) (.,SF)\n",
      "\n",
      "pred 1 real 3\n",
      "(잘,MAG) (있,VV) (어라,EFO)\n",
      "\n",
      "pred 5 real 1\n",
      "(교수님,NNG) (께서,JKS) (제공,NNG) (하,XSV) (시,EPH) (는,ETD) (자료,NNG) (들,XSN) (,,SP) (교수님,NNG) (의,JKG) (수업,NNG) (등등,NNB) (컨텐츠,NNG) (들,XSN) (이,JKS) (전부,MAG) (유감,NNG) (스럽,XSA) (어서,ECD) (자괴감,NNG) (들,XSN) (고,NNG) (괴롭,VA) (ㄴ,ETD) (수준,NNG) (이,VCP) (었,EPT) (습니다,EFN) (.,SF) (하지만,MAC) (과제,NNG) (는,JX) (좋,VA) (았,EPT) (고,ECE) (,,SP) (이,MDT) (교수님,NNG) (이,JKS) (수업,NNG) (하,XSV) (시,EPH) (어서,ECD) (그렇,VA) (지,ECD) (오토,NNG) (마,NNG) (타,VV) (아,ECS) (수업,NNG) (자체,NNG) (는,JX) (컴,NNP) (트,VV) (어,ECS) (공,NNG) (학과,NNG) (로서,JKM) (한번,MAG) (들어보,VV) (았,EPT) (으면,ECD) (싶,VXA) (은,ETD) (유익,NNG) (하,XSV) (ㄴ,ETD) (내용,NNG) (이,VCP) (었,EPT) (습니다,EFN) (.,SF) (즉,MAG) (수강,NNG) (신청,NNG) (하,VV) (시,EPH) (고,ECE) (자습,NNG) (하,XSV) (시,EPH) (면,ECE) (되,VV) (ㅂ니다,EFN) (.,SF)\n",
      "\n",
      "pred 1 real 2\n",
      "(알,VV) (고,ECE) (개,NNG) (는,JX) (알,VV) (고,ECE) (개이,VV) (ㅂ니다,EFN) (.,SF) (다만,MAG) (교수님,NNG) (강의,NNG) (력,XSN) (이,JKS) (장난,NNG) (이,JKS) (아니,VV) (므로,ECD) (주의,NNG) (하,XSV) (시,EPH) (기,ETN) (를,JKO)\n",
      "\n",
      "pred 5 real 2\n",
      "(열심히,MAG) (하,VV) (면,ECE) (얻,VV) (어,ECD) (갈,VV) (ㄹ,ETD) (것,NNB) (이,JKS) (정말,MAG) (많,VA) (은,ETD) (과목,NNG) (이,VCP) (ㅂ니다,EFN) (.,SF) (로드,NNG) (는,JX) (널,NNG) (넣,VV) (ㄹ,ETD) (하,NNB) (지,XSA) (ㄴ,ETD) (않,VXV) (지만,ECE) (,,SP) (전프구,UN) (나,JC) (시,NNG) (프랑,NNG) (같이,MAG) (듣,VV) (어도,ECD) (듣,VV) (을,ETD) (만하,VXA) (ㅂ니다,EFN) (.,SF) (수업,NNG) (시간,NNG) (대부분,NNG) (은,JX) (학생,NNG) (들,XSN) (의,JKG) (과제물,NNG) (발표,NNG) (로,JKM) (진행,NNG) (되,XSV) (고,ECE) (,,SP) (지각,NNG) (하,XSV) (면,ECE) (바로,MAG) (감점,NNG) (하,XSV) (시,EPH) (ㅂ니다,EFN) (.,SF) (교수님,NNG) (께서,JKS) (첫,MDT) (시간,NNG) (에,JKM) (재,XPN) (수강,NNG) (이나,JC) (W,OL) (뜨,VV) (어,ECS) (있,VXV) (는,ETD) (학생,NNG) (은,JX) (내보내,VV) (시,EPH) (었,EPT) (으니,ECD) (참,VV) (고,ECE) (하,VV) (시,EPH) (기,ETN) (를,JKO) (.,SF)\n",
      "\n",
      "pred 5 real 1\n",
      "(포기,NNG) (하,XSV) (면,ECE) (편하,VA) (어,ECS) (...,SE)\n",
      "\n",
      "pred 1 real 2\n",
      "(교수님,NNG) (이,JKS) (수업,NNG) (준비,NNG) (를,JKO) (잘하,VV) (어,ECS) (오,VV) (고,ECE) (배우,VV) (는,ETD) (내용,NNG) (도,JX) (꽤나,MAG) (알차,VA) (ㅂ니다,EFN) (.,SF) (하,VV) (ㄴ,ETD) (번의,NNG) (중간고사,NNG) (가,JKS) (있,VV) (고,ECE) (,,SP) (학기,NNG) (내내,MAG) (과제,NNG) (와,JKM) (팀,NNG) (프로젝트,NNG) (가,JKS) (당신,NP) (을,JKO) (옥죄,VV) (ㄹ,ETD) (것,NNB) (이,VCP) (ㅂ니다,EFN) (.,SF) (그런데,MAG) (그,MDT) (팀,NNG) (프로젝트,NNG) (와,JC) (과제,NNG) (는,JX) (성적,NNG) (에,JKM) (사실상,MAG) (아무렇,VA) (ㄴ,ETD) (영향,NNG) (을,JKO) (주,VV) (지,ECD) (않,VXV) (습니다,EFN) (.,SF) (중간고사,NNG) (성적,NNG) (이,JKS) (바로,MAG) (당신,NP) (의,JKG) (성적,NNG) (이,VCP) (ㅂ니다,EFN) (.,SF) (중간고사,NNG) (성적,NNG) (이,JKS) (잘,MAG) (나오,VV) (았,EPT) (으면,ECD) (웃,VV) (으면서,ECE) (학기,NNG) (를,JKO) (보내,VV) (면,ECE) (되,VV) (고,ECE) (,,SP) (메디,NNP) (안,NNG) (아래,NNG) (이,VCP) (면,ECE) (그,MDT) (즉시,NNG) (휴학,NNG) (하,XSV) (고,ECE) (군대,NNG) (나,JX) (갈,VV) (는,ETD) (것,NNB) (이,JKS) (정신,NNG) (건강,NNG) (에,JKM) (좋,VA) (습니다,EFN) (.,SF) (참고,NNG) (로,JKM) (유신,NNG) (교수님,NNG) (의,JKG) (수업,NNG) (은,JX) (모두,MAG) (이런,MDT) (식,NNB) (이,VCP) (ㅂ니다,EFN) (.,SF) (과제,NNG) (하,VV) (ㄹ,ETD) (시간,NNG) (에,JKM) (시험,NNG) (공부,NNG) (나,JX) (하,VX) (세요,EFN) (.,SF)\n",
      "\n",
      "pred 5 real 2\n",
      "(정말,MAG) (별,NNG) (로,XSN) (에,JKM) (요,JX) (.,SF) (과,JKM) (고,NNG) (나오,VV) (아서,ECD) (프로그래밍,NNG) (내용,NNG) (알,VV) (고,ECE) (있,VXV) (었,EPT) (는데,ECD) (도,JX) (이,MDT) (수업,NNG) (방식,NNG) (으로,JKM) (얻,VV) (어,ECD) (갈,VV) (ㄹ,ETD) (것,NNB) (은,JKS) (거의,MAG) (없,VA) (다,ECS) (생각,NNG) (되,XSV) (었,EPT) (습니다,EFN) (.,SF) (배경,NNG) (지식,NNG) (없,VA) (는,ETD) (학생,NNG) (이,JKS) (듣,VV) (으면,ECD) (프밍,UN) (에,JKM) (관심,NNG) (끄,VV) (기,ETN) (딱,MAG) (적당,XR) (하,XSA) (ㄴ,ETD) (수업,NNG) (이,VCP) (었,EPT) (어요,EFN) (.,SF)\n",
      "\n",
      "pred 1 real 4\n",
      "(최,NNP) (성희,NNG) (교수님,NNG) (이,JKS) (많이,MAG) (졸리,VV) (다고,EFN) (하,VV) (는,ETD) (여론,NNG) (도,JX) (있,VV) (지만,ECE) (전,NNG) (좋,VA) (았,EPT) (고요,EFN) (그냥,MAG) (진짜,MAG) (평범,XR) (하,XSA) (게,ECD) (수업,NNG) (을,JKO) (듣,VV) (고,ECE) (싶,VXV) (으면,ECD) (좋,VA) (은,ETD) (수업,NNG) (이,VCP) (ㄴ,ETD) (것,NNB) (같,VA) (아요,EFN)\n",
      "\n",
      "pred 2 real 4\n",
      "(교수님,NNG) (이,JKS) (질문,NNG) (하,XSV) (면,ECE) (당황,NNG) (하,XSV) (시,EPH) (ㅂ니다,EFN) (.,SF) (교수님,NNG) (께서,JKS) (전달,NNG) (력,XSN) (이,JKS) (딱히,MAG) (좋,VA) (지,ECD) (않,VXV) (으시,EPH) (ㄴ데,ECE) (,,SP) (수업,NNG) (을,JKO) (개선,NNG) (하,XSV) (려는,ETD) (의지,NNG) (가,JKS) (보이,VV) (시,EPH) (ㅂ니다,EFN) (.,SF) (책,NNG) (자체,NNG) (가,JKS) (알고리즘,NNG) (계의,NNG) (바이블,NNG) (과,JKM) (같,VA) (은,ETD) (책,NNG) (이,VCP) (기에,ECD) (수업,NNG) (컨텐츠,NNG) (자체,NNG) (는,JX) (정말,MAG) (좋,VA) (아요,EFN) (.,SF) (첫,MDT) (수업,NNG) (때,NNG) (교수님,NNG) (의,JKG) (영어,NNG) (실력,NNG) (에,JKM) (약간,MAG) (당황,NNG) (하,XSV) (였,EPT) (는데,ECD) (,,SP) (의외로,MAG) (수업,NNG) (을,JKO) (들어보,VV) (면,ECE) (교수님,NNG) (이,JKS) (정말,MAG) (못,MAG) (가르치,VV) (시,EPH) (는,ETD) (것,NNB) (은,JX) (아니,VCN) (ㅂ니다,EFN) (.,SF) (널,NNG) (널,NNG) (하,XSV) (ㅂ니다,EFN) (.,SF) (학점,NNG) (짜,VV) (게,ECD) (주,VXV) (시,EPH) (ㅂ니다,EFN) (.,SF) (이,NR) (분,NNB) (은,JX) (거르,VV) (시,EPH) (면,ECE) (되,VV) (ㄹ,ETD) (것,NNB) (같,VA) (네요,EFN) (.,SF)\n",
      "\n"
     ]
    }
   ],
   "source": [
    "for i in range(len(predictions)):\n",
    "    if predictions[i]!= y_test[i]:\n",
    "        print(\"pred\",predictions[i],\"real\",y_test[i])\n",
    "        print(data_test[i])\n",
    "        "
   ]
  },
  {
   "cell_type": "code",
   "execution_count": null,
   "metadata": {},
   "outputs": [],
   "source": []
  },
  {
   "cell_type": "code",
   "execution_count": null,
   "metadata": {},
   "outputs": [],
   "source": []
  }
 ],
 "metadata": {
  "kernelspec": {
   "display_name": "Python 3",
   "language": "python",
   "name": "python3"
  },
  "language_info": {
   "codemirror_mode": {
    "name": "ipython",
    "version": 3
   },
   "file_extension": ".py",
   "mimetype": "text/x-python",
   "name": "python",
   "nbconvert_exporter": "python",
   "pygments_lexer": "ipython3",
   "version": "3.6.5"
  }
 },
 "nbformat": 4,
 "nbformat_minor": 2
}
