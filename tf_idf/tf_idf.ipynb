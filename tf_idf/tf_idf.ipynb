{
 "cells": [
  {
   "cell_type": "code",
   "execution_count": 1,
   "metadata": {},
   "outputs": [],
   "source": [
    "import json\n",
    "from konlpy.tag import Kkma\n",
    "from konlpy.utils import pprint\n",
    "from sklearn.feature_extraction.text import TfidfVectorizer\n",
    "from sklearn.model_selection import train_test_split\n",
    "from sklearn.svm import SVC,LinearSVC,SVR\n",
    "from sklearn.metrics import accuracy_score,mean_squared_error,roc_auc_score\n",
    "import numpy as np\n",
    "from sklearn.linear_model import LogisticRegression,SGDClassifier"
   ]
  },
  {
   "cell_type": "code",
   "execution_count": 2,
   "metadata": {},
   "outputs": [],
   "source": [
    "REVIEWS = \"cs_reviews\"\n",
    "POS = \"pos\""
   ]
  },
  {
   "cell_type": "code",
   "execution_count": 3,
   "metadata": {},
   "outputs": [],
   "source": [
    "f = open(\"../reviews_in_one_txt/\" + REVIEWS + \".txt\",\"r\",encoding=\"utf-8\").readlines()"
   ]
  },
  {
   "cell_type": "code",
   "execution_count": 4,
   "metadata": {},
   "outputs": [],
   "source": [
    "g = open(\"../reviews_in_one_txt/\" + REVIEWS + \"_\" + POS + \".txt\",\"r\",encoding=\"utf-8\").readlines()"
   ]
  },
  {
   "cell_type": "code",
   "execution_count": null,
   "metadata": {},
   "outputs": [],
   "source": []
  },
  {
   "cell_type": "code",
   "execution_count": 5,
   "metadata": {},
   "outputs": [],
   "source": [
    "# kkma = Kkma()\n",
    "# with open(\"../reviews_in_one_txt/\" + REVIEWS+\"_nouns.txt\",\"w\",encoding=\"utf-8\") as out:\n",
    "#     for line in f:\n",
    "#         course = json.loads(line)\n",
    "#         nouns = kkma.nouns(course[\"review_text\"])\n",
    "# #         print(nouns)\n",
    "#         out.write(\" \".join(nouns)+\"\\n\")\n",
    "        "
   ]
  },
  {
   "cell_type": "code",
   "execution_count": 121,
   "metadata": {},
   "outputs": [
    {
     "name": "stdout",
     "output_type": "stream",
     "text": [
      "37\n"
     ]
    }
   ],
   "source": [
    "count = {}\n",
    "for i in range(len(f)):\n",
    "    course = json.loads(f[i])\n",
    "    if course[\"강의\"] != \"?\" and len(g[i])>1:\n",
    "        if course[\"강의\"] not in count:\n",
    "            count[course[\"강의\"]] = 0\n",
    "        count[course[\"강의\"]] += 1\n",
    "upper_limit = min(count.values())\n",
    "print(upper_limit)"
   ]
  },
  {
   "cell_type": "code",
   "execution_count": 44,
   "metadata": {},
   "outputs": [],
   "source": [
    "concat_nouns_list = []\n",
    "count = {}\n",
    "mp = {\"A\":5,\"B\":4,\"C\":3,\"D\":2,\"F\":1}\n",
    "# mp = {\"A\":1,\"B\":1,\"C\":0,\"D\":0,\"F\":0}\n",
    "\n",
    "labels = []\n",
    "for i in range(len(f)):\n",
    "    line = f[i]\n",
    "    course = json.loads(line)\n",
    "    if course[\"강의\"] != \"?\" and len(g[i])>1:\n",
    "        concat_nouns = g[i]\n",
    "        concat_nouns_list.append(concat_nouns)\n",
    "        if count[course[\"강의\"]] < upper_limit:\n",
    "            labels.append(int(mp[course[\"강의\"]]))\n",
    "            count[course[\"강의\"]] += 1"
   ]
  },
  {
   "cell_type": "code",
   "execution_count": 45,
   "metadata": {},
   "outputs": [],
   "source": [
    "labels = np.array(labels)\n",
    "concat_nouns_list = np.array(concat_nouns_list)\n",
    "data_train, data_test, y_train, y_test = train_test_split(concat_nouns_list,\n",
    "                                    labels,test_size=0.1,random_state=42)"
   ]
  },
  {
   "cell_type": "code",
   "execution_count": 46,
   "metadata": {},
   "outputs": [
    {
     "data": {
      "text/plain": [
       "448"
      ]
     },
     "execution_count": 46,
     "metadata": {},
     "output_type": "execute_result"
    }
   ],
   "source": [
    "len(data_train)"
   ]
  },
  {
   "cell_type": "code",
   "execution_count": 47,
   "metadata": {},
   "outputs": [
    {
     "data": {
      "text/plain": [
       "448"
      ]
     },
     "execution_count": 47,
     "metadata": {},
     "output_type": "execute_result"
    }
   ],
   "source": [
    "len(y_train)"
   ]
  },
  {
   "cell_type": "code",
   "execution_count": 48,
   "metadata": {},
   "outputs": [
    {
     "data": {
      "text/plain": [
       "['(성적,NNG) (은,JX) (잘,MAG) (주,VV) (시,EPH) (는,ETD) (거,NNB) (같,VA) (습니다,EFN) (.,SF) (다만,MAG) (퀴즈,NNG) (+,SW) (플젝,UN) (비율,NNG) ((,SS) (퀴즈,NNG) (는,JX) (쉽,VA) (ㄴ,ETD) (거,NNB) (2,NR) (번,NNM) (보,VV) (아서,ECD) (의미,NNG) (없,VA) (음,ETN) (),SS) (이,MDT) (50,NR) (%,SW) (로,JKM) (매우,MAG) (높,VA) (으니,ECD) (플젝,UN) (점수,NNG) (에서,JKM) (까먹,VV) (지,ECD) (않,VXV) (도록,ECD) (주의,NNG) (하,XSV) (세요,EFN) (.,SF) (수업,NNG) (에서,JKM) (중요,NNG) (하,XSV) (ㄴ,ETD) (개념,NNG) (이,VCP) (다,ECS) (싶,VXV) (으면,ECD) (한국어,NNG) (로,JKM) (보충,NNG) (설명도,NNG) (많이,MAG) (하,VV) (어,ECS) (주,VXV) (시,EPH) (고,ECE) (좋,VA) (습니다,EFN) (.,SF) (로드,NNM) (도,JX) (전산학,NNG) (부의,NNG) (다른,MDT) (4,NR) (학점,NNG) (과목,NNG) (들,XSN) (에,JKM) (비하,VV) (어서,ECD) (매우,MAG) (넣,VV) (ㄹ,ETD) (널,NNG) (하,XSV) (ㄴ,ETD) (편,NNB) (이,VCP) (ㅂ니다,EFN) (.,SF) (플젝,UN) (이,JKS) (7,NR) (개,NNM) (이,VCP) (지만,ECE) (대부분,NNG) (쉽,VA) (게,ECD) (하,VV) (ㄹ,ETD) (수,NNB) (있,VV) (고,ECE) (랩,NNG) (도,JX) (2,NR) (번,NNM) ((,SS) (필,NNG) (참,MAG) (아니,VV) (ㅁ,ETN) (),SS) (밖에,JX) (없,VA) (었,EPT) (어요,EFN) (.,SF)\\n',\n",
       " '(중간고사,NNG) (이전,NNG) (에,JKM) (겐트젠,UN) (,,SP) (힐,NNG) (베르트,NNG) (,,SP) (자연,NNG) (유도,NNG) (에,JKM) (대하,VV) (어,ECS) (배우,VV) (ㅂ니다,EFN) (.,SF) (기말,NNG) (고사,NNG) (가,JKS) (끝나,VV) (고,ECE) (겐트젠,UN) (,,SP) (힐,NNG) (베르트,NNG) (,,SP) (자연,NNG) (유도,NNG) (를,JKO) (다시,MAG) (배우,VV) (ㅂ니다,EFN) ((,SS) (???,SW) (),SS) (.,SF) (아,VV) (아,ECS) (!,SF) (그리고,MAG) (동그라미,NNG) (,,SP) (네모,NNG) (,,SP) (다이,NNG) (아몬드,NNG) (를,JKO) (배우,VV) (고,ECE) ((,SS) (?????,SW) (),SS) (,,SP) (신이,NNG) (존재,NNG) (하,XSV) (ㄴ다는,ETD) (증명,NNG) (도,JX) (배우,VV) (ㅂ니다,EFN) ((,SS) (???????,SW) (),SS) (.,SF) (무슨,MDT) (소리,NNG) (이,VCP) (냐,EFQ) (구,NR) (이,VCP) (요,EFN) (?,SF) (궁금하,VA) (죠,EFN) (?,SF) (바로,MAG) (신청,NNG) (하,XSV) (세요,EFN) (^^,EMO)\\n']"
      ]
     },
     "execution_count": 48,
     "metadata": {},
     "output_type": "execute_result"
    }
   ],
   "source": [
    "list(data_train)[:2]"
   ]
  },
  {
   "cell_type": "code",
   "execution_count": 49,
   "metadata": {},
   "outputs": [
    {
     "data": {
      "text/plain": [
       "array([5, 5])"
      ]
     },
     "execution_count": 49,
     "metadata": {},
     "output_type": "execute_result"
    }
   ],
   "source": [
    "y_train[:2]"
   ]
  },
  {
   "cell_type": "code",
   "execution_count": 50,
   "metadata": {},
   "outputs": [
    {
     "name": "stdout",
     "output_type": "stream",
     "text": [
      "Added 13\n",
      "Added 13\n"
     ]
    }
   ],
   "source": [
    "def parse_long_str(s):\n",
    "    s = s.split(',')\n",
    "    s = [x.strip() for x in s]\n",
    "    return s\n",
    "good_lecture = parse_long_str(\"사랑, 천사, 친절, 유명, 짱, 참여, 최고, 만족, 유익, 열정적, 갓, 답변, 명강의\")\n",
    "bad_lecture = parse_long_str(\"집중, 혼자, 부족, 자습, 당황, 최악, 인생, 불편, 복잡, 불만, 악명, 비추, 난이(도)\")\n",
    "#todo try weighted average of w2v\n",
    "scores = {}\n",
    "def add_to_dict(l,score):\n",
    "    global scores\n",
    "    print(\"Added \" + str(len(l)))\n",
    "    for i in range(len(l)):\n",
    "        scores[l[i]] = score\n",
    "add_to_dict(good_lecture,1.0)\n",
    "add_to_dict(bad_lecture,-1.0)"
   ]
  },
  {
   "cell_type": "code",
   "execution_count": 51,
   "metadata": {},
   "outputs": [],
   "source": [
    "def enlarge_train_data(data_train,y_train):\n",
    "    x = list(data_train)\n",
    "    y = list(y_train)\n",
    "    for k,v in scores.items():\n",
    "#         x.append(str(k)+\"\\n\")\n",
    "        x.append(\"(%s,NNG)\" % (str(k))+\"\\n\")\n",
    "        if v > 0:\n",
    "            y.append(int(mp['A']))\n",
    "        else:\n",
    "            y.append(int(mp['F']))\n",
    "    \n",
    "    return np.array(x),np.array(y)\n",
    "\n",
    "data_train,y_train = enlarge_train_data(data_train,y_train)"
   ]
  },
  {
   "cell_type": "code",
   "execution_count": 52,
   "metadata": {},
   "outputs": [
    {
     "data": {
      "text/plain": [
       "474"
      ]
     },
     "execution_count": 52,
     "metadata": {},
     "output_type": "execute_result"
    }
   ],
   "source": [
    "len(data_train)"
   ]
  },
  {
   "cell_type": "code",
   "execution_count": 53,
   "metadata": {},
   "outputs": [
    {
     "data": {
      "text/plain": [
       "474"
      ]
     },
     "execution_count": 53,
     "metadata": {},
     "output_type": "execute_result"
    }
   ],
   "source": [
    "len(y_train)"
   ]
  },
  {
   "cell_type": "code",
   "execution_count": 106,
   "metadata": {},
   "outputs": [],
   "source": [
    "vectorizer = TfidfVectorizer(max_features=200000, ngram_range=(3,5))"
   ]
  },
  {
   "cell_type": "code",
   "execution_count": 107,
   "metadata": {},
   "outputs": [],
   "source": [
    "vectirizer.fit(..)\n",
    "X_train = vectorizer.transform(data_train)\n",
    "# X_train = vectorizer.fit_transform(data_train)\n",
    "X_test = vectorizer.transform(data_test)"
   ]
  },
  {
   "cell_type": "code",
   "execution_count": 108,
   "metadata": {},
   "outputs": [
    {
     "name": "stdout",
     "output_type": "stream",
     "text": [
      "(474, 179757)\n"
     ]
    }
   ],
   "source": [
    "print(X_train.shape)"
   ]
  },
  {
   "cell_type": "code",
   "execution_count": 109,
   "metadata": {},
   "outputs": [
    {
     "name": "stdout",
     "output_type": "stream",
     "text": [
      "(50, 179757)\n"
     ]
    }
   ],
   "source": [
    "print(X_test.shape)"
   ]
  },
  {
   "cell_type": "code",
   "execution_count": 110,
   "metadata": {},
   "outputs": [
    {
     "data": {
      "text/plain": [
       "LinearSVC(C=1.0, class_weight=None, dual=True, fit_intercept=True,\n",
       "     intercept_scaling=1, loss='squared_hinge', max_iter=1000,\n",
       "     multi_class='ovr', penalty='l2', random_state=None, tol=0.0001,\n",
       "     verbose=0)"
      ]
     },
     "execution_count": 110,
     "metadata": {},
     "output_type": "execute_result"
    }
   ],
   "source": [
    "clf = LinearSVC()\n",
    "clf.fit(X_train,y_train)"
   ]
  },
  {
   "cell_type": "code",
   "execution_count": 111,
   "metadata": {},
   "outputs": [
    {
     "data": {
      "text/plain": [
       "0.6"
      ]
     },
     "execution_count": 111,
     "metadata": {},
     "output_type": "execute_result"
    }
   ],
   "source": [
    "predictions = clf.predict(X_test)\n",
    "accuracy_score(y_test,predictions)"
   ]
  },
  {
   "cell_type": "code",
   "execution_count": 112,
   "metadata": {},
   "outputs": [
    {
     "data": {
      "text/plain": [
       "2.24"
      ]
     },
     "execution_count": 112,
     "metadata": {},
     "output_type": "execute_result"
    }
   ],
   "source": [
    "mean_squared_error(y_test,predictions)"
   ]
  },
  {
   "cell_type": "code",
   "execution_count": 113,
   "metadata": {},
   "outputs": [
    {
     "data": {
      "text/plain": [
       "array([5, 5, 5, 5, 5, 5, 5, 5, 5, 5, 5, 5, 5, 5, 5, 5, 5, 5, 5, 5, 5, 5,\n",
       "       5, 5, 5, 5, 5, 5, 5, 5, 5, 5, 5, 5, 5, 5, 5, 5, 5, 5, 5, 5, 5, 5,\n",
       "       5, 5, 5, 5, 5, 5])"
      ]
     },
     "execution_count": 113,
     "metadata": {},
     "output_type": "execute_result"
    }
   ],
   "source": [
    "predictions"
   ]
  },
  {
   "cell_type": "code",
   "execution_count": 100,
   "metadata": {},
   "outputs": [
    {
     "data": {
      "text/plain": [
       "array([5, 2, 5, 5, 5, 5, 4, 4, 5, 4, 2, 4, 5, 5, 5, 5, 5, 5, 1, 5, 5, 5,\n",
       "       5, 5, 5, 2, 5, 2, 3, 4, 5, 3, 5, 3, 5, 5, 1, 5, 5, 5, 5, 5, 4, 5,\n",
       "       1, 4, 3, 5, 4, 3])"
      ]
     },
     "execution_count": 100,
     "metadata": {},
     "output_type": "execute_result"
    }
   ],
   "source": [
    "y_test"
   ]
  },
  {
   "cell_type": "code",
   "execution_count": 101,
   "metadata": {},
   "outputs": [
    {
     "name": "stdout",
     "output_type": "stream",
     "text": [
      "pred 5 real 2\n",
      "(결론,NNG) (만,JX) (이야기,NNG) (드리,VV) (ㅂ니다,EFN) (듣,VV) (지,ECD) (마,NNG) (세요,NNP) (로,JKM) (드,VV) (는,ETD) (21,NR) (학점,NNG) (정도,NNG) (되,VV) (ㅂ니다,EFN) (하루,NNG) (에,JKM) (3,NR) (시간,NNM) (씩,MAG) (코딩,NNG) (하,XSV) (어도,ECD) (힘들,VA) (ㄴ,ETD) (과제,NNG) (라고,JX) (교수님,NNG) (께,JKM) (말씀드리,VV) (었,EPT) (더니,ECD) (왜,MAG) (하루,NNG) (에,JKM) (3,NR) (시간,NNM) (밖에,JX) (안하,NNG) (이,VCP) (냐,EFQ) (고,JKQ) (답변,NNG) (을,JKO) (주,VV) (시,EPH) (네요,EFN) (그렇,VA) (다고,EFN) (성적,NNG) (을,JKO) (잘,MAG) (주,VV) (시,EPH) (는,ETD) (것,NNB) (도,JX) (아니,VCN) (ㅂ니다,EFN) (자신,NNG) (의,JKG) (한계,NNG) (를,JKO) (시험,NNG) (하,XSV) (고,ECE) (싶,VXA) (거나,ECE) (,,SP) (너무,MAG) (하,VV) (ㄹ,ETD) (것,NNB) (이,JKS) (없,VA) (고,ECE) (심심,XR) (하,XSA) (시,EPH) (ㄴ,ETD) (졸업,NNG) (직전,NNG) (이,VCP) (ㄴ,ETD) (분,NNG) (들,XSN) (은,JX) (추천,NNG) (드리,VV) (ㅂ니다,EFN)\n",
      "\n",
      "pred 5 real 4\n",
      "(Careful,OL) (with,OL) (your,OL) (homeworks,OL) (.,SF) (Go,OL) (to,OL) (labs,OL) (,,SP) (even,OL) (HW,OL) (introduction,OL) (labs,OL) (.,SF)\n",
      "\n",
      "pred 5 real 4\n",
      "(안,MAG) (좋,VA) (다는,ETD) (후기,NNG) (가,JKS) (압도적,NNG) (이,VCP) (네요,EFN) (.,SF) (글쎄,IC) (요,NNG) (..,SW) (비록,MAG) (교수님,NNG) (께서,JKS) (영어,NNG) (를,JKO) (못,MAG) (하,VV) (시,EPH) (지만,ECE) (노력,NNG) (하,XSV) (어서,ECD) (들어보,VV) (면,ECE) (명쾌,XR) (하,XSA) (ㄴ,ETD) (말씀,NNG) (많이,MAG) (하,VV) (시,EPH) (ㅂ니다,EFN) (.,SF) (전달,NNG) (력,XSN) (이,JKS) (다소,MAG) (떨어지,VV) (지만,ECE) (수업,NNG) (을,JKO) (열심히,MAG) (준비,NNG) (하,XSV) (어,ECS) (오시,VV) (어서,ECD) (질적,NNG) (으로,JKM) (ㄴ,JX) (우수,NNG) (하,XSV) (ㅂ니다,EFN) (.,SF) (단지,MAG) (영어,NNG) (를,JKO) (못하,VX) (ㄴ다는,ETD) (이유,NNG) (로,JKM) (교수님,NNG) (의,JKG) (강의,NNG) (가,JKS) (폄하,NNG) (받,VV) (는,ETD) (것,NNB) (이,JKS) (아쉽,VA) (네요,EFN) (.,SF) (앞,NNG) (으로,JKM) (알,VV) (고,ECE) (개,NNG) (듣,VV) (으시,EPH) (ㄹ,ETD) (분,NNB) (은,JX) (소문,NNG) (에,JKM) (휘둘리,VV) (지,ECD) (말,VXV) (고,ECE) (편견,NNG) (없이,MAG) (들어보,VV) (세요,EFN) (.,SF) (많,VA) (은,ETD) (것,NNB) (을,JKO) (배우,VV) (어,ECS) (가시,VV) (ㄹ,ETD) (수,NNB) (있,VV) (는,ETD) (강의,NNG) (이,VCP) (ㅂ니다,EFN) (.,SF)\n",
      "\n",
      "pred 5 real 4\n",
      "(수업,NNG) (시간,NNG) (에,JKM) (예시,NNG) (를,JKO) (종종,MAG) (가져오,VV) (시,EPH) (어서,ECD) (이해,NNG) (하,XSV) (기,ETN) (편하,VA) (었,EPT) (습니다,EFN) (.,SF) (조교,NNG) (님,XSN) (귀엽,VA) (었,EPT) (어요,EFN) (.,SF) (어느,MDT) (정도,NNG) (는,JX) (하,VV) (는,ETD) (만큼,NNB) (나오,VV) (는데,ECD) (그,MDT) (이후,NNG) (는,JX) (센스,NNG) (나,JX) (타,VV) (고,ECE) (남,NNG) (차이,NNG) (같,VA) (습니다,EFN) (.,SF) (무엇,NNG) (을,JKO) (더,MAG) (공부,NNG) (하,XSV) (어야,ECD) (하,VV) (ㄹ지,ECD) (모르,VV) (겠,EPT) (는데,ECD) (그,MDT) (이상,NNG) (의,JKG) (것,NNB) (을,JKO) (물어보,VV) (ㅂ니다,EFN) (.,SF) (프밍,UN) (길,VA) (는,ETD) (기필,NNG) (이,VCP) (다,ECS) (보,VXV) (니,ECD) (교수님,NNG) (은,JX) (그렇게,MAG) (많이,MAG) (알,VV) (ㄴ,ETD) (탈것,NNG) (같,VA) (습니다,EFN) (.,SF) (시간표,NNG) (이쁘,VA) (게,ECD) (짜,VV) (시,EPH) (고,ECE) (종종,MAG) (일찍,MAG) (끝내주,VV) (시,EPH) (는,ETD) (교수님,NNG) (있,VV) (으시,EPH) (니,ECD) (찾아보,VV) (세요,EFN) (.,SF) (이영희,NNG) (교수님,NNG) (은,JX) (주로,MAG) (12,NR) (시,NNM) (에,JKM) (끝내주,VV) (시,EPH) (었,EPT) (습니다,EFN) (.,SF)\n",
      "\n",
      "pred 5 real 2\n",
      "(알,VV) (고,ECE) (개,NNG) (는,JX) (알,VV) (고,ECE) (개이,VV) (ㅂ니다,EFN) (.,SF) (다만,MAG) (교수님,NNG) (강의,NNG) (력,XSN) (이,JKS) (장난,NNG) (이,JKS) (아니,VV) (므로,ECD) (주의,NNG) (하,XSV) (시,EPH) (기,ETN) (를,JKO)\n",
      "\n",
      "pred 5 real 4\n",
      "(1,NR) (),SS) (학점,NNG) (:,SP) (3,NR) (:,SP) (4,NR) (:,SP) (3,NR) (으로,JKM) (기필,NNG) (과목,NNG) (답,XSA) (게,ECD) (적절,XR) (하,XSA) (게,ECD) (주,VXV) (시,EPH) (ㅂ니다,EFN) (.,SF) (하지만,MAC) (평균,NNG) (보다,JKM) (약간,MAG) (높,VA) (은,ETD) (점수,NNG) (대,NNG) (에,JKM) (엄청나,VA) (게,ECD) (많,VA) (은,ETD) (사람,NNG) (이,JKS) (몰리,VV) (어,ECS) (있,VXV) (어,ECD) (,,SP) (사소,XR) (하,XSA) (ㄴ,ETD) (실,NNG) (수가,NNG) (학점,NNG) (을,JKO) (가르,VV) (기,ETN) (도,JX) (하,VX) (니,ECD) (주의,NNG) (하,XSV) (어야,ECD) (하,VV) (ㅂ니다,EFN) (.,SF) (2,NR) (),SS) (로드,NNM) (:,SP) (성적,NNG) (에,JKM) (들어가,VV) (지,ECD) (않,VXV) (는,ETD) (퀴즈,NNG) (를,JKO) (Lab,OL) (시간,NNG) (에,JKM) (매번,MAG) (치,VV) (ㅂ니다,EFN) (.,SF) (이,JKS) (퀴즈,NNG) (에서,JKM) (나오,VV) (ㄴ,ETD) (문제,NNG) (들,XSN) (은,JX) (중간고사,NNG) (나,JC) (기말,NNG) (고사,NNG) (에,JKM) (비슷,XR) (하,XSA) (게,ECD) (출제,NNG) (되,XSV) (는데,ECD) (,,SP) (조,NNG) (교장,NNG) (님,XSN) (께서,JKS) (나중,NNG) (에,JKM) (공개,NNG) (를,JKO) (하,VV) (지,ECD) (않,VXV) (으시,EPH) (ㅂ니다,EFN) (.,SF) (따르,VV) (아서,ECD) (이,MDT) (퀴즈,NNG) (들,XSN) (을,JKO) (퀴즈,NNG) (를,JKO) (치,VV) (ㄹ,ETD) (당시,NNG) (메모,NNG) (장,NNG) (에,JKM) (복사,NNG) (하,XSV) (어,ECS) (놓,VXV) (았,EPT) (다가,ECD) (시험,NNG) (기간,NNG) (에,JKM) (복습,NNG) (하,XSV) (면,ECE) (크,VA) (ㄴ,ETD) (도움,NNG) (이,JKC) (되,VV) (ㅂ니다,EFN) (.,SF) (또,MAG) (하,VV) (ㄴ,ETD) (과제,NNG) (가,JKS) (4,NR) (개,NNM) (가,JKS) (있,VV) (는데,ECD) (,,SP) (프로그래밍,NNG) (에,JKM) (익숙,XR) (하,XSA) (지,ECD) (않,VXA) (다면,ECE) (시간,NNG) (을,JKO) (꽤,MAG) (많이,MAG) (투자,NNG) (하,XSV) (어야,ECD) (하,VV) (ㅂ니다,EFN) (.,SF) (과제,NNG) (에서,JKM) (도,JX) (시험,NNG) (문제,NNG) (가,JKS) (비슷,XR) (하,XSA) (게,ECD) (나오,VV) (므로,ECD) (시험,NNG) (기간,NNG) (에,JKM) (과제,NNG) (의,JKG) (코드,NNG) (를,JKO) (복습,NNG) (하,XSV) (는,ETD) (것,NNB) (도,JX) (도움,NNG) (이,JKC) (되,VV) (ㅂ니다,EFN) (.,SF) (또,MAG) (한,MDN) (교수님,NNG) (이,JKS) (수업,NNG) (시간,NNG) (에,JKM) (던지,VV) (었,EPT) (더,EPT) (ㄴ,ETD) (질문,NNG) (들,XSN) (과,JKO) (,,SP) (강조하,VV) (었,EPT) (더,EPT) (ㄴ,ETD) (내용,NNG) (들,XSN) (,,SP) (랩,NNG) (,,SP) (족보,NNG) (에서,JKM) (도,JX) (시험,NNG) (문제,NNG) (가,JKS) (나오,VV) (니,ECD) (공부,NNG) (하,XSV) (어야,ECD) (하,VV) (ㄹ,ETD) (것,NNB) (이,JKS) (상당히,MAG) (많,VA) (습니다,EFN) (.,SF) (3,NR) (),SS) (강의,NNG) (:,SP) (교수님,NNG) (께서,JKS) (지루,XR) (하,XSA) (지,ECD) (않,VXV) (게,ECD) (수업,NNG) (하,XSV) (어,ECS) (주,VXV) (시,EPH) (어서,ECD) (강의,NNG) (자체,NNG) (는,JX) (훌륭,XR) (하,XSA) (ㅂ니다,EFN) (.,SF) (초반,NNG) (에,JKM) (는,JX) (한국어,NNG) (로,JKM) (하,VV) (시,EPH) (다가,ECD) (,,SP) (나중,NNG) (에,JKM) (는,JX) (한국어,NNG) (와,JKM) (영어,NNG) (를,JKO) (혼용,NNG) (하,XSV) (여,ECS) (사용하,VV) (었,EPT) (습니다,EFN) (.,SF) (또,MAG) (,,SP) (학생,NNG) (들,XSN) (이,JKS) (잘,MAG) (이해,NNG) (하,XSV) (지,ECD) (못하,VX) (었,EPT) (다,ECS) (싶,VXA) (은,ETD) (내용,NNG) (은,JX) (영어,NNG) (로,JKM) (한,MDN) (번,NNB) (말씀하,VV) (시,EPH) (ㄴ,ETD) (뒤,NNG) (한국어,NNG) (로,JKM) (다시,MAG) (말씀,NNG) (하,XSV) (여,ECS) (학생,NNG) (들,XSN) (의,JKG) (이해,NNG) (를,JKO) (돕,VV) (는데,ECD) (크,VA) (게,ECD) (도움,NNG) (을,JKO) (주,VV) (시,EPH) (었,EPT) (습니다,EFN) (.,SF) (수업,NNG) (시간,NNG) (에,JKM) (질문,NNG) (을,JKO) (받,VV) (는,ETD) (것,NNB) (을,JKO) (굉장히,MAG) (좋아하,VV) (시,EPH) (어서,ECD) (질문,NNG) (이,JKS) (있,VV) (으면,ECD) (그,MDT) (자리,NNG) (에서,JKM) (바로,MAG) (손,NNG) (을,JKO) (듣,VV) (어,EFN) (라고,JKQ) (말씀,NNG) (하,XSV) (시,EPH) (ㅂ니다,EFN) (.,SF)\n",
      "\n",
      "pred 5 real 1\n",
      "(학점,NNG) (은,JX) (꿀,NNG) (이나,JX) (안,MAG) (듣,VV) (는,ETD) (것,NNB) (을,JKO) (추천,NNG)\n",
      "\n",
      "pred 5 real 2\n",
      "(버클리,NNG) (CS,OL) (61,NR) (A,OL) (기출,NNG) (한,MDN) (번,NNB) (보,VV) (세요,EFN) (.,SF) ((,SS) (',SS) (시간,NNG) (많,VA) (으시,EPH) (면,ECE) (',SS) (보세,NNG) (요,JX) (,,SP) (기출,NNG) (이,JKS) (좀,MAG) (많,VA) (아서,ECD) (분류,NNG) (잘하,VV) (시,EPH) (어서,ECD) (보시,VV) (어야,ECD) (해,NNG) (요,JX) (),SS) (예,NNG) (를,JKO) (듣,VV) (어서,ECD) (mid,OL) (3,NR) (에서,JKM) (98,NR) (SP,OL) (이나,JX) (01,NR) (FALL,OL) (등등,NNB) (이,JKS) (예전,NNG) (기출,NNG) (로,JKM) (그대로,MAG) (나오,VV) (아,ECS) (있,VXV) (어요,EFN) (.,SF) (그리고,MAG) (pp,OL) (이전,NNG) (기출,NNG) (많이,MAG) (나오,VV) (니,ECD) (꼭,MAG) (보,VV) (세요,EFN) (.,SF) (중간,NNG) (때,NNG) (기출,NNG) (대충,NNG) (보,VV) (고,ECE) (말,VXV) (았,EPT) (다가,ECD) (후회,NNG) (하,XSV) (고,ECE) (기말,NNG) (에,JKM) (기출,NNG) (보고,NNG) (열심히,MAG) (하,VV) (니,ECD) (중간,NNG) (커버,NNG) (치,VV) (는,ETD) (정도,NNG) (까지,JX) (는,JX) (하,VV) (더,EPT) (라구요,EFN) (.,SF)\n",
      "\n",
      "pred 5 real 2\n",
      "(띵,MAG) (강,NNG) (이,VCP) (ㅂ니다,EFN) (.,SF) (로드,NNG) (는,JX) (높,VA) (습니다,EFN) (.,SF) (한가,XR) (하,XSA) (ㄴ,ETD) (학기,NNG) (에,JKM) (듣,VV) (으시,EPH) (기,ETN) (를,JKO) (.,SF)\n",
      "\n",
      "pred 5 real 3\n",
      "(학점,NNG) (정말,MAG) (잘,MAG) (주,VV) (시,EPH) (고요,EFN) (.,SF) (자기,NP) (가,JKS) (웹,NNG) (이나,JC) (네트워크,NNG) (쪽,NNB) (일,NNG) (하,VV) (고,ECE) (싶,VXA) (으시,EPH) (면,ECE) (꼭,MAG) (듣,VV) (으시,EPH) (기,ETN) (를,JKO) (바라,VV) (ㅂ니다,EFN) (.,SF) (KENS,OL) (는,JX) (꽤,MAG) (빡세,VA) (네요,EFN) (.,SF) (플젝,UN) (이,JKS) (두,MDN) (개,NNM) (나오,VV) (는데,ECD) (OS,OL) (랑,JC) (같이,MAG) (듣,VV) (은,ETD) (저,NP) (의,JKG) (플메,UN) (가,JKS) (대충,MAG) (OS,OL) (플젝,UN) (하나,NR) (랑,JC) (맞먹,VV) (는다고,EFQ) (하,VV) (네요,EFN) (.,SF) (내용,NNG) (도,JX) (외우,VV) (ㄹ,ETD) (것,NNB) (이,JKS) (많,VA) (은,ETD) (거,NNB) (여,NNG) (서,JKM) (넣,VV) (ㄹ,ETD) (널,NNG) (하,XSV) (ㅁ,ETN) (은,JX) (D,OL) (드리,VV) (ㅂ니다,EFN) (.,SF)\n",
      "\n",
      "pred 5 real 4\n",
      "(cg,OL) (배우,VV) (니깐,ECD) (서,VV) (든,ECE) (2,NR) (가,JKS) (그냥,MAG) (텍스,NNG) (치,VV) (어,ECS) (떡,NNG) (칠,NNG) (이,VCP) (라는,ETD) (것,NNB) (을,JKO) (알,VV) (게,ECD) (되,VV) (었,EPT) (습니다,EFN) (.,SF)\n",
      "\n",
      "pred 5 real 3\n",
      "(수업,NNG) (을,JKO) (너무,MAG) (혼자,NNG) (서,JKM) (나가,VV) (려고,ECD) (하,VV) (시,EPH) (는,ETD) (거,NNB) (같,VA) (습니다,EFN) (.,SF) (학점,NNG) (은,JX) (역시,MAG) (기필,NNG) (이,VCP) (다,ECS) (보,VXV) (니,ECD) (잘,MAG) (안주,NNG) (시,VV) (ㅂ니다,EFN) (.,SF)\n",
      "\n",
      "pred 5 real 3\n",
      "(개인적,NNG) (으로,JKM) (별로,MAG) (...,SE) (수업,NNG) (매일,MAG) (15,NR) (분,NNM) (씩,MAG) (늦,VA) (게,ECD) (오시,VV) (고,ECE) (,,SP) (수업,NNG) (진도,NNP) (조절,NNG) (도,JX) (실패,NNG) (하,XSV) (시,EPH) (어서,ECD) (나중,NNG) (에,JKM) (는,JX) (하루,NNG) (에,JKM) (한,MDN) (chapter,OL) (씩,MAG) (나가,VV) (시,EPH) (었,EPT) (습니다,EFN) (.,SF) (교수님,NNG) (이,JKS) (수업,NNG) (에,JKM) (불성실,NNG) (하,XSV) (ㄴ,ETD) (것,NNB) (이,JKS) (눈,NNG) (에,JKM) (보이,VV) (었,EPT) (습니다,EFN) (.,SF) (플젝,UN) (7,NR) (개,NNM) (나오,VV) (았,EPT) (고,ECE) (다,MAG) (주옥같,VA) (고,ECE) (좋,VA) (은,ETD) (플젝들입니다,UN) (만,JX) (,,SP) (아무래도,MAG) (처음,NNG) (하,VV) (는,ETD) (입장,NNG) (에서,JKM) (는,JX) (쉽,VA) (지,ECD) (않,VXV) (으시,EPH) (ㄹ,ETD) (것,NNB) (이,VCP) (ㅂ니다,EFN) (.,SF) (학점,NNG) (도,JX) (잘,MAG) (안주,NNG) (시,VV) (었,EPT) (어요,EFN) (.,SF) (ㅠㅠ,EMO)\n",
      "\n",
      "pred 5 real 1\n",
      "(성적,NNG) (:,SP) (열심히,MAG) (하면,NNP) (A,OL) (-,SW) (늘,VV) (ㄴ,ETD) (쉽,VA) (게,ECD) (받으,VV) (ㄹ,ETD) (수,NNB) (있음,NNG) (.,SF) ((,SS) (A,OL) (+,SW) (은,NNG) (절대,NNG) (평가,NNG) (이,VCP) (라,EFN) (사실상,MAG) (불가능,NNG) (),SS) (난이,NNG) (도,JX) (:,SP) (솔직히,MAG) (매우,MAG) (쉽,VA) (ㅁ,ETN) (.,SF) (강의,NNG) (:,SP) (못하,VX) (시,EPH) (지,ECD) (는,JX) (않,VXV) (는데,ECD) (목,NNG) (소리,NNG) (톤,NNG) (이나,JC) (등등,NNB) (그냥,MAG) (솔직히,MAG) (정이,NNG) (안감,NNG) (..,SW) (한글,NNG) (로,JKM) (강의,NNG) (하,VV) (시,EPH) (ㄹ,ETD) (때,NNG) (보,VV) (면,ECE) (강의,NNG) (잘,MAG) (하심,NNG) (.,SF) (학생,NNG) (들,XSN) (을,JKO) (좀,MAG) (더,MAG) (배려,NNG) (하,XSV) (어,ECS) (주,VXV) (시,EPH) (면,ECE) (좋,VA) (을,ETD) (듯,NNB) (과제,NNG) (:,SP) (족보,NNG) (다,MAG) (있음,NNG) (.,SF) (구하,VV) (시,EPH) (면,ECE) (만점,NNG) (.,SF) (퀴즈,NNG) (:,SP) (가끔,MAG) (보,VV) (는데,ECD) (렉,NNG) (치,VV) (어,ECS) (이해,NNG) (하,XSV) (고,ECE) (있,VXV) (으면,ECD) (왠,MDT) (만,JX) (하면,NNP) (만점,NNG) (중간,NNG) (/,SP) (기말,NNG) (:,SP) (학점,NNG) (을,JKO) (결정,NNG) (하,XSV) (는,ETD) (것,NNB) (은,JKS) (사실상,MAG) (중간,NNG) (/,SP) (기말,NNG) (시험,NNG) (점수,NNG) (이,VCP) (ㄴ데,ECE) (,,SP) (이것,NP) (이,JKS) (기출,NNG) (문제,NNG) (에서,JKM) (다,MAG) (나오,VV) (ㅁ,ETN) (.,SF) ((,SS) (이거,NP) (매우,MAG) (중요,NNG) (하,XSV) (ㅁ,ETN) (),SS) (무,NNG) (조건,NNG) (족보,NNG) (받,VV) (으시,EPH) (어야,ECD) (하,VV) (ㅁ,ETN) (.,SF) (나,NP) (는,JX) (12,NR) (,,SP) (13,NR) (,,SP) (14,NR) (,,SP) (15,NR) (,,SP) (16,NR) (족보,NNG) (풀,VV) (고,ECE) (가,VV) (었,EPT) (는데,ECD) (거기,NP) (서,JKM) (다,MAG) (나오,VV) (ㅁ,ETN) (.,SF) (문제,NNG) (구조,NNG) (만,JX) (조금,MAG) (바꾸,VV) (거나,ECE) (하,VV) (어서,ECD) (문제,NNG) (나오,VV) (니까,ECD) (꼭,MAG) (참,VV) (고,ECE) (하,VX) (세요,EFN) (.,SF) ((,SS) (기출,NNG) (족보,NNG) (필수,NNG) (!!,SW) (이,VCP) (다,EFN) (못,MAG) (풀,VV) (어,ECD) (보,VV) (더라도,ECD) (대충,MAG) (눈,NNG) (으로,JKM) (보,VV) (고,ECE) (갈,VV) (는,ETD) (거,NNB) (라도,JX) (하자,NNG) (),SS)\n",
      "\n",
      "pred 5 real 4\n",
      "(학점,NNG) (은,JX) (보통,NNG) (.,SF) (평균,NNG) (평균,NNG) (B,OL) (0,NR) (,,SP) (미디,NNG) (언,NNG) (미디,NNG) (언,NNG) (B,OL) (+,SW) (A,OL) (많이,MAG) (뿌리,VV) (시,EPH) (지만,ECE) (그만큼,MAG) (주변,NNG) (에,JKM) (C,OL) (이하,NNG) (도,JX) (종종,MAG) (보이,VV) (었,EPT) (습니다,EFN) (.,SF) (이산,NNG) (구조,NNG) (,,SP) (DS,OL) (듣,VV) (을,ETD) (필요없,VA) (지만,ECE) (배우,VV) (었,EPT) (다면,ECE) (조금,NNG) (공부,NNG) (덜하,VA) (어도,ECD) (되,VV) (ㅂ니다,EFN) (?,SF) (중간고사,NNG) (때,NNG) (수업,NNG) (때,NNG) (나오,VV) (ㄴ,ETD) (수도,NNG) (코드,NNG) (들,XSN) (웬만,XR) (하,XSA) (면,ECE) (틀리,VV) (지,ECD) (않,VXV) (게,ECD) (다,MAG) (외우,VV) (어,ECS) (가시길,NNG) (..,SW) ((,SS) (거기,NP) (서,JKM) (응용,NNG) (되,XSV) (어,ECD) (나오,VV) (ㅂ니다,EFN) (),SS) (기말,NNG) (은,JX) (치,NNG) (팅,UN) (페이퍼,NNG) (있,VV) (습니다,EFN) (.,SF)\n",
      "\n",
      "pred 5 real 1\n",
      "(1,NR) (.,SF) (비현,NNG) (실적,NNG) (이,VCP) (ㄴ,ETD) (목표,NNG) (:,SP) (i,OL) (),SS) (랜덤,NNG) (매칭,NNG) (되,XSV) (ㄴ,ETD) (학부,NNG) (생,XSN) (2-4,OL) (명이,NNG) (ii,OL) (),SS) (3,NR) (달,NNG) (동안,NNG) (구현,NNG) (가능,NNG) (하,XSV) (면서,ECE) (도,JX) (iii,OL) (),SS) (특허,NNG) (를,JKO) (내,VV) (ㄹ,ETD) (수,NNB) (있,VV) (는,ETD) (독창성,NNG) (과,JKM) (신규,NNG) (성,XSN) (이,JKS) (있,VV) (으며,ECE) (iv,OL) (),SS) (실용성,NNG) (도,JX) (있,VV) (는,ETD) (프로젝트,NNG) (주제,NNG) (를,JKO) (v,OL) (),SS) (2,NR) (주,NNG) (안,NNG) (에,JKM) (생각,NNG) (하,XSV) (어야,ECD) (하,VV) (ㅂ니다,EFN) (.,SF) (이런,MDT) (아이디어,NNG) (가,JKS) (생각나,VV) (시,EPH) (면,ECE) (자퇴,NNG) (하,XSV) (시,EPH) (고,ECE) (빌,VV) (ㄹ,ETD) (게이츠,NNG) (가,JKC) (되,VV) (시,EPH) (는,ETD) (것,NNB) (이,JKS) (좀,MAG) (더,MAG) (좋,VA) (을,ETD) (거,NNB) (같,VA) (습니다,EFN) (.,SF) (2,NR) (.,SF) (너무나,MAG) (짧,VA) (은,ETD) (개발,NNG) (시간,NNG) (:,SP) (아이디어,NNG) (내고,NNG) (특허,NNG) (명세서,NNG) (작성,NNG) (하,XSV) (면,ECE) (실제,NNG) (개발,NNG) (시간,NNG) (은,JX) (1.5,NR) (개월,NNM) (정도,NNG) (남,VV) (습니다,EFN) (.,SF) (3,NR) (.,SF) (한국어,NNG) (수업,NNG) (:,SP) (전산,NNG) (필수,NNG) (수업,NNG) (이,VCP) (므로,ECD) (외국인,NNG) (학생,NNG) (들,XSN) (도,JX) (듣,VV) (는,ETD) (수업,NNG) (이,VCP) (ㄴ데,ECE) (일부,NNG) (교수님,NNG) (은,JX) (한국어,NNG) (강의,NNG) (를,JKO) (하,VV) (시,EPH) (ㅂ니다,EFN) (.,SF) (4,NR) (.,SF) (쓸모,NNG) (없,VA) (는,ETD) (특허,NNG) (:,SP) (왜,MAG) (쓰,VV) (어야,ECD) (하,VV) (는지,ECS) (모르,VV) (는,ETD) (특허,NNG) (명세서,NNG) (를,JKO) (쓰,VV) (어야,ECD) (하,VV) (고,ECE) (이것,NP) (이,JKS) (평가,NNG) (항목,NNG) (에,JKM) (들어가,VV) (ㅂ니다,EFN) (.,SF) (물론,MAG) (저희,NP) (가,JKS) (스스로,MAG) (쓰,VV) (어야,ECD) (하,VX) (지만,ECE) (,,SP) (변리사,NNG) (에게,JKM) (도움,NNG) (을,JKO) (받,VV) (아도,ECD) (되,VV) (ㅂ니다,EFN) (.,SF) (이것,NP) (이,JKS) (무슨,MDT) (소리,NNG) (이,VCP) (ㄴ지,ECD) (잘,MAG) (모르,VV) (시,EPH) (겠,EPT) (다면,ECE) (정상,NNG) (이,VCP) (ㅂ니다,EFN) (.,SF) (저,NP) (도,JX) (그리하,VV) (였,EPT) (습니다,EFN) (.,SF) (결론,NNG) (.,SF) (전산,NNG) (필,NNG) (수라,NNG) (어자,NNG) (피,NNG) (듣,VV) (어야,ECD) (하,VV) (는,ETD) (과목,NNG) (이,VCP) (지만,ECE) (,,SP) (강의,NNG) (계획서,NNG) (에,JKM) (',SS) (특허,NNG) (',SS) (나,NNG) (',SS) (랜덤,NNG) (',SS) (이,VCP) (라는,ETD) (단어,NNG) (가,JKS) (있,VA) (다면,ECE) (마음,NNG) (의,JKG) (준비,NNG) (를,JKO) (하,VV) (고,ECE) (가시,VV) (기,ETN) (바라,VV) (ㅂ니다,EFN) (.,SF)\n",
      "\n",
      "pred 5 real 4\n",
      "(프밍,UN) (은,JX) (반,NNG) (별로,MAG) (PPT,OL) (까지,JX) (모두,MAG) (똑같,VA) (아서,ECD) (...,SE) (딱히,MAG) (교수님,NNG) (을,JKO) (보,VV) (고,ECE) (듣,VV) (는,ETD) (수업,NNG) (은,JX) (아니,VCN) (ㄴ,ETD) (것,NNB) (같,VA) (아요,EFN) (.,SF) (그냥,MAG) (알맞,VA) (는,ETD) (시간,NNG) (에,JKM) (채우,VV) (어서,ECD) (듣,VV) (으세요,EFA) (!,SF) (다만,MAG) (되,VV) (도록,ECD) (1,NR) (학년,NNG) (때,NNG) (끝내,VV) (아야,ECD) (하,VV) (는,ETD) (것,NNB) (이,JKS) (,,SP) (시간,NNG) (이,JKS) (괴랄맞아,UN) (서,JKM) (시간표,NNG) (짜,VV) (기,ETN) (되게,MAG) (어렵,VA) (ㄹ,ETD) (거,NNB) (에,JKM) (요,JX) (!,SF)\n",
      "\n",
      "pred 5 real 3\n",
      "(강,NNG) (성원,NNG) (...,SE) (그,NP) (는,JX) (...,SE) (L,OL) (.,SF) (O,OL) (.,SF) (V,OL) (.,SF) (E,OL) (...,SE)\n",
      "\n",
      "pred 5 real 4\n",
      "(설명,NNG) (을,JKO) (차근차근,MAG) (하,VV) (는,ETD) (것,NNB) (을,JKO) (좋아하,VV) (는,ETD) (교수님,NNG) (입,VV) (니,EFQ) (다,MAG) (.,SF) (그래서,MAG) (인지,NNG) (2,NR) (시간,NNG) (강의,NNG) (를,JKO) (거의,MAG) (꽉,MAG) (채우,VV) (는,ETD) (경우,NNG) (가,JKS) (빈번히,MAG) (있,VV) (었,EPT) (죠,EFN) (.,SF) (그렇,VV) (지만,ECE) (프로그래밍,NNG) (을,JKO) (처음,NNG) (접하,VV) (든지,ECE) (오,VV) (아,ECS) (관계없이,MAG) (듣,VV) (으면,ECD) (남,VV) (는,ETD) (것,NNB) (이,JKS) (있,VV) (는,ETD) (강의,NNG) (이,VCP) (라는,ETD) (느낌,NNG) (을,JKO) (받,VV) (았,EPT) (습니다,EFN) (.,SF)\n",
      "\n",
      "pred 5 real 3\n",
      "(영어,NNG) (를,JKO) (꾀,VV) (어,ECS) (잘하,VV) (시,EPH) (어서,ECD) (설명,NNG) (을,JKO) (물,NNG) (흐르,VV) (듯이,ECD) (하,VV) (시,EPH) (ㅂ니다,EFN) (.,SF) (그래서,MAG) (한,MDN) (번,NNB) (놓치,VV) (면,ECE) (집중,NNG) (이,JKS) (계속,MAG) (안되,VA) (구요,EFN) (...,SE) (ㅋㅋㅋ,EMO) (PPT,OL) (내용,NNG) (상관없이,MAG) (교수님,NNG) (이,JKS) (하,VV) (시,EPH) (ㄹ,ETD) (말씀,NNG) (을,JKO) (쭉,MAG) (하,VV) (시,EPH) (는데,ECD) (솔직히,MAG) (네트워크,NNG) (에,JKM) (대하,VV) (ㄴ,ETD) (개념,NNG) (을,JKO) (처음,NNG) (배우,VV) (는,ETD) (입장,NNG) (으로서,JKM) (는,JX) (이해,NNG) (하,XSV) (기,ETN) (가,JKS) (어렵,VA) (었,EPT) (습니다,EFN) (ㅠㅠ,EMO) (수업,NNG) (에,JKM) (집중,NNG) (하,XSV) (기,ETN) (도,JX) (요,JX) (.,SF) (근데,MAG) (설명,NNG) (잘,MAG) (알아듣,VV) (는,ETD) (분,NNG) (들,XSN) (은,JX) (질문,NNG) (도,JX) (하,VV) (고,ECE) (그러,VV) (더,EPT) (라구요,EFN) (.,SF) (수업,NNG) (시간,NNG) (의,JKG) (태도,NNG) (에,JKM) (대하,VV) (어서,ECD) (는,JX) (크,VA) (게,ECD) (터치,NNG) (안,NNG) (하,XSV) (시,EPH) (는,ETD) (편,NNB) (이,VCP) (ㅂ니다,EFN) (.,SF) (숙제,NNG) (도,JX) (적당히,MAG) (나오,VV) (았,EPT) (습니다,EFN) (.,SF)\n",
      "\n"
     ]
    }
   ],
   "source": [
    "for i in range(len(predictions)):\n",
    "    if predictions[i]!= y_test[i]:\n",
    "        print(\"pred\",predictions[i],\"real\",y_test[i])\n",
    "        print(data_test[i])\n",
    "        "
   ]
  },
  {
   "cell_type": "code",
   "execution_count": null,
   "metadata": {},
   "outputs": [],
   "source": []
  },
  {
   "cell_type": "code",
   "execution_count": null,
   "metadata": {},
   "outputs": [],
   "source": []
  }
 ],
 "metadata": {
  "kernelspec": {
   "display_name": "Python 3",
   "language": "python",
   "name": "python3"
  },
  "language_info": {
   "codemirror_mode": {
    "name": "ipython",
    "version": 3
   },
   "file_extension": ".py",
   "mimetype": "text/x-python",
   "name": "python",
   "nbconvert_exporter": "python",
   "pygments_lexer": "ipython3",
   "version": "3.6.5"
  }
 },
 "nbformat": 4,
 "nbformat_minor": 2
}
