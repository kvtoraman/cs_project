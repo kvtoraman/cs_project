{
 "cells": [
  {
   "cell_type": "code",
   "execution_count": 226,
   "metadata": {},
   "outputs": [],
   "source": [
    "import json\n",
    "from konlpy.tag import Kkma\n",
    "from konlpy.utils import pprint\n",
    "from sklearn.feature_extraction.text import TfidfVectorizer\n",
    "from sklearn.model_selection import train_test_split\n",
    "from sklearn.svm import SVC,LinearSVC,SVR\n",
    "from sklearn.metrics import accuracy_score,mean_squared_error,roc_auc_score,f1_score\n",
    "import numpy as np\n",
    "from sklearn.linear_model import LogisticRegression,SGDClassifier"
   ]
  },
  {
   "cell_type": "code",
   "execution_count": 683,
   "metadata": {},
   "outputs": [],
   "source": [
    "REVIEWS = \"cs_reviews\"\n",
    "POS = \"pos\""
   ]
  },
  {
   "cell_type": "code",
   "execution_count": 709,
   "metadata": {},
   "outputs": [],
   "source": [
    "f = open(\"../reviews_in_one_txt/\" + REVIEWS + \".txt\",\"r\",encoding=\"utf-8\").readlines()"
   ]
  },
  {
   "cell_type": "code",
   "execution_count": 710,
   "metadata": {},
   "outputs": [],
   "source": [
    "g = open(\"../reviews_in_one_txt/\" + REVIEWS + \"_\" + POS + \".txt\",\"r\",encoding=\"utf-8\").readlines()"
   ]
  },
  {
   "cell_type": "code",
   "execution_count": null,
   "metadata": {},
   "outputs": [],
   "source": []
  },
  {
   "cell_type": "code",
   "execution_count": 686,
   "metadata": {},
   "outputs": [],
   "source": [
    "# kkma = Kkma()\n",
    "# with open(\"../reviews_in_one_txt/\" + REVIEx`WS+\"_nouns.txt\",\"w\",encoding=\"utf-8\") as out:\n",
    "#     for line in f:\n",
    "#         course = json.loads(line)\n",
    "#         nouns = kkma.nouns(course[\"review_text\"])\n",
    "# #         print(nouns)\n",
    "#         out.write(\" \".join(nouns)+\"\\n\")\n",
    "        "
   ]
  },
  {
   "cell_type": "code",
   "execution_count": 687,
   "metadata": {},
   "outputs": [
    {
     "name": "stdout",
     "output_type": "stream",
     "text": [
      "{0: 137, 1: 361}\n",
      "250\n"
     ]
    }
   ],
   "source": [
    "count = {}\n",
    "for i in range(len(f)):\n",
    "    course = json.loads(f[i])\n",
    "    if course[\"강의\"] != \"?\" and len(g[i])>1:\n",
    "        if mp[course[\"강의\"]] not in count:\n",
    "            count[mp[course[\"강의\"]]] = 0\n",
    "        count[mp[course[\"강의\"]]] += 1\n",
    "        \n",
    "print(count)\n",
    "upper_limit = min(count.values())\n",
    "upper_limit = 250\n",
    "print(upper_limit)"
   ]
  },
  {
   "cell_type": "code",
   "execution_count": 719,
   "metadata": {},
   "outputs": [
    {
     "name": "stdout",
     "output_type": "stream",
     "text": [
      "(1,NR) (.,SF) (비현,NNG) (실적,NNG) (이,VCP) (ㄴ,ETD) (목표,NNG) (:,SP) (i,OL) (),SS) (랜덤,NNG) (매칭,NNG) (되,XSV) (ㄴ,ETD) (학부,NNG) (생,XSN) (2-4,OL) (명이,NNG) (ii,OL) (),SS) (3,NR) (달,NNG) (동안,NNG) (구현,NNG) (가능,NNG) (하,XSV) (면서,ECE) (도,JX) (iii,OL) (),SS) (특허,NNG) (를,JKO) (내,VV) (ㄹ,ETD) (수,NNB) (있,VV) (는,ETD) (독창성,NNG) (과,JKM) (신규,NNG) (성,XSN) (이,JKS) (있,VV) (으며,ECE) (iv,OL) (),SS) (실용성,NNG) (도,JX) (있,VV) (는,ETD) (프로젝트,NNG) (주제,NNG) (를,JKO) (v,OL) (),SS) (2,NR) (주,NNG) (안,NNG) (에,JKM) (생각,NNG) (하,XSV) (어야,ECD) (하,VV) (ㅂ니다,EFN) (.,SF) (이런,MDT) (아이디어,NNG) (가,JKS) (생각나,VV) (시,EPH) (면,ECE) (자퇴,NNG) (하,XSV) (시,EPH) (고,ECE) (빌,VV) (ㄹ,ETD) (게이츠,NNG) (가,JKC) (되,VV) (시,EPH) (는,ETD) (것,NNB) (이,JKS) (좀,MAG) (더,MAG) (좋,VA) (을,ETD) (거,NNB) (같,VA) (습니다,EFN) (.,SF) (2,NR) (.,SF) (너무나,MAG) (짧,VA) (은,ETD) (개발,NNG) (시간,NNG) (:,SP) (아이디어,NNG) (내고,NNG) (특허,NNG) (명세서,NNG) (작성,NNG) (하,XSV) (면,ECE) (실제,NNG) (개발,NNG) (시간,NNG) (은,JX) (1.5,NR) (개월,NNM) (정도,NNG) (남,VV) (습니다,EFN) (.,SF) (3,NR) (.,SF) (한국어,NNG) (수업,NNG) (:,SP) (전산,NNG) (필수,NNG) (수업,NNG) (이,VCP) (므로,ECD) (외국인,NNG) (학생,NNG) (들,XSN) (도,JX) (듣,VV) (는,ETD) (수업,NNG) (이,VCP) (ㄴ데,ECE) (일부,NNG) (교수님,NNG) (은,JX) (한국어,NNG) (강의,NNG) (를,JKO) (하,VV) (시,EPH) (ㅂ니다,EFN) (.,SF) (4,NR) (.,SF) (쓸모,NNG) (없,VA) (는,ETD) (특허,NNG) (:,SP) (왜,MAG) (쓰,VV) (어야,ECD) (하,VV) (는지,ECS) (모르,VV) (는,ETD) (특허,NNG) (명세서,NNG) (를,JKO) (쓰,VV) (어야,ECD) (하,VV) (고,ECE) (이것,NP) (이,JKS) (평가,NNG) (항목,NNG) (에,JKM) (들어가,VV) (ㅂ니다,EFN) (.,SF) (물론,MAG) (저희,NP) (가,JKS) (스스로,MAG) (쓰,VV) (어야,ECD) (하,VX) (지만,ECE) (,,SP) (변리사,NNG) (에게,JKM) (도움,NNG) (을,JKO) (받,VV) (아도,ECD) (되,VV) (ㅂ니다,EFN) (.,SF) (이것,NP) (이,JKS) (무슨,MDT) (소리,NNG) (이,VCP) (ㄴ지,ECD) (잘,MAG) (모르,VV) (시,EPH) (겠,EPT) (다면,ECE) (정상,NNG) (이,VCP) (ㅂ니다,EFN) (.,SF) (저,NP) (도,JX) (그리하,VV) (였,EPT) (습니다,EFN) (.,SF) (결론,NNG) (.,SF) (전산,NNG) (필,NNG) (수라,NNG) (어자,NNG) (피,NNG) (듣,VV) (어야,ECD) (하,VV) (는,ETD) (과목,NNG) (이,VCP) (지만,ECE) (,,SP) (강의,NNG) (계획서,NNG) (에,JKM) (',SS) (특허,NNG) (',SS) (나,NNG) (',SS) (랜덤,NNG) (',SS) (이,VCP) (라는,ETD) (단어,NNG) (가,JKS) (있,VA) (다면,ECE) (마음,NNG) (의,JKG) (준비,NNG) (를,JKO) (하,VV) (고,ECE) (가시,VV) (기,ETN) (바라,VV) (ㅂ니다,EFN) (.,SF)\n",
      "\n",
      "(시스템,NNG) (쪽,NNB) (에서,JKM) (John,OL) (SP,OL) (와,JKM) (함께,MAG) (가장,MAG) (남,VV) (는,ETD) (것,NNB) (이,JKS) (많,VA) (은,ETD) (강의,NNG) (이,VCP) (었,EPT) (더,EPT) (ㄴ,ETD) (것,NNB) (같,VA) (습니다,EFN) (.,SF) (영어,NNG) (유창,NNG) (하,XSV) (시,EPH) (고,ECE) (컴퓨터,NNG) (아키텍쳐,UN) (의,JKG) (개념,NNG) (을,JKO) (정도,NNG) (껏,XSN) (깊,VA) (으면서,ECE) (도,JX) (동시,NNG) (에,JKM) (넓,VA) (게,ECD) (잘,MAG) (가르치,VV) (어,ECS) (주,VXV) (시,EPH) (ㅂ니다,EFN) (.,SF) (프로젝트,NNG) (는,JX) (수업,NNG) (시간,NNG) (에서,JKM) (배우,VV) (ㄴ,ETD) (내용,NNG) (을,JKO) (직접,MAG) (구현,NNG) (하,XSV) (는,ETD) (방식,NNG) (이,VCP) (라,ECD) (프로젝트,NNG) (와,JKM) (수업,NNG) (간,NNB) (상호,NNG) (시너지,NNG) (가,JKS) (좋,VA) (구요,EFN) (,,SP) (프로젝트,NNG) (난이도,NNG) (를,JKO) (그때그때,MAG) (학생,NNG) (들,XSN) (의견,NNG) (반영,NNG) (하,XSV) (어서,ECD) (조절,NNG) (하,XSV) (어,ECS) (주,VXV) (시,EPH) (어서,ECD) (신경,NNG) (을,JKO) (많이,MAG) (쓰,VV) (어,ECS) (주신,NNG) (달,VV) (는,ETD) (느낌,NNG) (을,JKO) (받,VV) (았,EPT) (습니다,EFN) (.,SF) (성적,NNG) (도,JX) (후하,VA) (게,ECD) (잘,MAG) (주,VV) (시,EPH) (ㄴ,ETD) (듯,NNB) (하,VV) (ㅂ니다,EFN)\n",
      "\n",
      "(개인적,NNG) (으로,JKM) (별로,MAG) (...,SE) (수업,NNG) (매일,MAG) (15,NR) (분,NNM) (씩,MAG) (늦,VA) (게,ECD) (오시,VV) (고,ECE) (,,SP) (수업,NNG) (진도,NNP) (조절,NNG) (도,JX) (실패,NNG) (하,XSV) (시,EPH) (어서,ECD) (나중,NNG) (에,JKM) (는,JX) (하루,NNG) (에,JKM) (한,MDN) (chapter,OL) (씩,MAG) (나가,VV) (시,EPH) (었,EPT) (습니다,EFN) (.,SF) (교수님,NNG) (이,JKS) (수업,NNG) (에,JKM) (불성실,NNG) (하,XSV) (ㄴ,ETD) (것,NNB) (이,JKS) (눈,NNG) (에,JKM) (보이,VV) (었,EPT) (습니다,EFN) (.,SF) (플젝,UN) (7,NR) (개,NNM) (나오,VV) (았,EPT) (고,ECE) (다,MAG) (주옥같,VA) (고,ECE) (좋,VA) (은,ETD) (플젝들입니다,UN) (만,JX) (,,SP) (아무래도,MAG) (처음,NNG) (하,VV) (는,ETD) (입장,NNG) (에서,JKM) (는,JX) (쉽,VA) (지,ECD) (않,VXV) (으시,EPH) (ㄹ,ETD) (것,NNB) (이,VCP) (ㅂ니다,EFN) (.,SF) (학점,NNG) (도,JX) (잘,MAG) (안주,NNG) (시,VV) (었,EPT) (어요,EFN) (.,SF) (ㅠㅠ,EMO)\n",
      "\n",
      "(류,NNG) (석영,NNG) (교수님,NNG) (이,JKS) (가르치,VV) (시,EPH) (는,ETD) (한,NNG) (이,MDT) (시대,NNG) (의,JKG) (최고,NNG) (의,JKG) (과목,NNG) (이,VCP) (ㄹ,ETD) (꺼,NNG) (같,VA) (아요,EFN) (.,SF) (두,MDN) (번,NNB) (듣,VV) (으세요,EFA) (.,SF) (출석,NNG) (과,JC) (태,NNG) (도로,NNG) (성적,NNG) (을,JKO) (결정,NNG) (하,XSV) (고,ECE) (,,SP) (시험,NNG) (같,VA) (은,ETD) (것,NNB) (은,JX) (없,VA) (습니다,EFN) (.,SF) (따라가,VV) (지,ECD) (못하,VX) (ㄴ다고,ECE) (하,VV) (어서,ECD) (많이,MAG) (힘들,VA) (지,ECD) (도,JX) (않,VXV) (고,ECE) (조,NNP) (교,NNG) (님,XSN) (들이,VV) (친절하게,UN) (도와주,VV) (시,EPH) (어서,ECD) (잘,MAG) (버티,VV) (ㄹ,ETD) (수,NNB) (있,VV) (었,EPT) (어요,EFN) (!,SF) (코딩,NNG) (입문,NNG) (하,XSV) (시,EPH) (는,ETD) (거,NNB) (이,VCP) (면,ECE) (꼭,MAG) (들어보,VV) (시,EPH) (는걸,EFI) (추천,NNG) (하,XSV) (ㅂ니다,EFN)\n",
      "\n",
      "(수업,NNG) (내용,NNG) (의,JKG) (기반,NNG) (이,JKC) (되,VV) (는,ETD) (교과서,NNG) ((,SS) (SICP,OL) (),SS) (를,JKO) (웹,NNG) (상,XSN) (에서,JKM) (쉽,VA) (게,ECD) (찾,VV) (을,ETD) (수,NNB) (있,VV) (어서,ECD) (수업,NNG) (놓치,VV) (어도,ECD) (찾,VV) (아서,ECD) (공부,NNG) (하,XSV) (ㄹ,ETD) (수,NNB) (있,VV) (었,EPT) (습니다,EFN) (.,SF) (진도,NNP) (내용,NNG) (자체,NNG) (도,JX) (어렵,VA) (ㄴ,ETD) (내용,NNG) (은,JX) (아니,VCN) (라서,ECD) (가끔,MAG) (은,JX) (강의,NNG) (보다,JKM) (교과서,NNG) (찾,VV) (아,ECD) (읽,VV) (는,ETD) (것,NNB) (이,JKS) (더,MAG) (도움,NNG) (이,JKC) (되,VV) (기,ETN) (도,JX) (하,VV) (ㅂ니다,EFN) (.,SF) (평가,NNG) (는,JX) (플밍기,UN) (처럼,JKM) (출석,NNG) (100,NR) (+,SW) (숙제,NNG) (300,NR) (으로,JKM) (총,NNG) (400,NR) (점,NNM) (에서,JKM) (300,NR) (점,NNM) (을,JKO) (못,MAG) (넘기,VV) (면,ECE) (F,OL) (를,JKO) (받,VV) (고,ECE) (,,SP) (학점,NNG) (은,JX) (오직,MAG) (중간,NNG) (,,SP) (기말,NNG) (로,JKM) (만,JX) (나오,VV) (아서,ECD) (시험,NNG) (부담,NNG) (이,JKS) (좀,MAG) (있,VV) (습니다,EFN) (.,SF) (15,NR) (가을,NNG) (때,VV) (ㄴ,ETD) (아침,NNG) (9,NR) (시,NNM) (수업,NNG) (이,VCP) (라,ECD) (수업,NNG) (때,NNG) (잘,MAG) (안,MAG) (듣,VV) (고,ECE) (교과서,NNG) (로,JKM) (거의,MAG) (연습,NNG) (문제,NNG) (푸,VV) (는,ETD) (방법,NNG) (으로,JKM) (공부,NNG) (하,XSV) (었,EPT) (는데,ECD) (시험,NNG) (볼,NNG) (때,VV) (ㄴ,ETD) (이,MDT) (방법,NNG) (이,JKS) (효과적,NNG) (이,VCP) (ㄴ,ETD) (것,NNB) (같,VA) (습니다,EFN) (.,SF) (교수님,NNG) (의,JKG) (강의,NNG) (력,XSN) (은,JX) (생각,NNG) (보다,JKM) (별,NNG) (로,XSN) (이,VCP) (었,EPT) (어요,EFN) (.,SF) (한국어,NNG) (로,JKM) (강의,NNG) (하,XSV) (시,EPH) (면,ECE) (잘,MAG) (하,VV) (시,EPH) (ㄹ,ETD) (것,NNB) (같,VA) (은데,ECD) (영어,NNG) (로,JKM) (하,VV) (시,EPH) (려니,EFN) (전달,NNG) (이,JKS) (잘,MAG) (안되,VA) (는,ETD) (느낌,NNG) (이,VCP) (었,EPT) (습니다,EFN) (.,SF) (과제,NNG) (는,JX) (15,NR) (가을,NNG) (기준,NNG) (5,NR) (개,NNM) (이,VCP) (었,EPT) (는데,ECD) (,,SP) (로드,NNG) (가,JKS) (크,VA) (지,EFN) (는,JX) (않,VXV) (고,ECE) (개념,NNG) (이해,NNG) (하,XSV) (고,ECE) (있,VXV) (으면,ECD) (쉽,VA) (게,ECD) (하,VV) (ㄹ,ETD) (수,NNB) (있,VV) (습니다,EFN) (.,SF) (과제,NNG) (때문,NNB) (에,JKM) (KLMS,OL) (에,JKM) (질문,NNG) (하,XSV) (어도,ECD) (아무,MDT) (답변,NNG) (이,JKS) (없,VA) (어서,ECD) (조,NNP) (교,NNG) (님,XSN) (들이,VV) (없는,UN) (것,NNB) (같,VA) (았,EPT) (어요,EFN) (.,SF) (중간고사,NNG) (채점,NNG) (도,JX) (거의,MAG) (5,NR) (주,NNM) (가까이,MAG) (지나,VV) (서,ECD) (나오,VV) (았,EPT) (습니다,EFN) (.,SF) (이,NR) (과목,NNG) (듣,VV) (으면,ECD) (CS,OL) (320,NR) (PL,OL) (듣,VV) (을,ETD) (때,NNG) (과제,NNG) (하,XSV) (기,ETN) (편하,VA) (다,ECS) (는,JX) (게,NNG) (장점,NNG) (이,VCP) (ㄴ,ETD) (것,NNB) (같,VA) (네요,EFN) (.,SF) (성적,NNG) (은,JX) (주변,NNG) (에서,JKM) (짜,VV) (게,ECD) (받,VV) (았,EPT) (다는,ETD) (말,NNG) (을,JKO) (많이,MAG) (듣,VV) (었,EPT) (습니다,EFN) (.,SF)\n",
      "\n",
      "(전산,NNG) (학부,NNG) (2,NR) (학년,NNG) (이,VCP) (라면,ECD) (꼭,MAG) (듣,VV) (어야,ECD) (하,VV) (는,ETD) (숨기,VV) (어,ECS) (진,NNG) (전,NNG) (필,NNG) (.,SF) (수업,NNG) (커리큘림,UN) (이,JKS) (사전,NNG) (에,JKM) (잘,MAG) (짜여지,VV) (어,ECS) (있,VXV) (는,ETD) (느낌,NNG) (이,VCP) (었,EPT) (고,ECE) (영어,NNG) (강의,NNG) (도,JX) (깔끔,XR) (하,XSA) (ㅂ니다,EFN) (.,SF) (문제,NNG) (가,JKS) (있,VA) (다면,ECE) (진도,NNP) (속도,NNG) (조절,NNG) (에,JKM) (실패,NNG) (하,XSV) (어서,ECD) (기말,NNG) (직전,NNG) (에,JKM) (는,JX) (안,MAG) (그리하,VV) (여도,ECD) (어렵,VA) (ㄴ,ETD) (내용,NNG) (폭풍,NNG) (같이,JKM) (커버,NNG) (하,XSV) (ㅂ니다,EFN) (.,SF) (플젝,UN) (이,JKS) (7,NR) (개,NNM) (나,JX) (있,VV) (어서,ECD) (로드,NNG) (가,JKS) (꽤,MAG) (되,VV) (는데,ECD) (,,SP) (개인적,NNG) (으로,JKM) (이,MDT) (플젝,UN) (들,NNG) (안,MAG) (하,VV) (는,ETD) (학기,NNG) (보다,JKM) (하,VV) (는,ETD) (학기,NNG) (에,JKM) (듣,VV) (는,ETD) (것,NNB) (을,JKO) (추천,NNG) (하,XSV) (ㅂ니다,EFN) (.,SF) (강의,NNG) (때,NNG) (배우,VV) (는,ETD) (거,NNB) (보다,JKM) (ㄴ,JX) (플젝,UN) (하면서,NNG) (배우,VV) (는,ETD) (것,NNB) (이,JKS) (훨씬,MAG) (많,VA) (기,ETN) (때문,NNB) (에,JKM) (정말,MAG) (좋,VA) (아요,EFN) (.,SF) (시험,NNG) (문제,NNG) (의,JKG) (응용,NNG) (력,XSN) (이나,JX) (난이도,NNG) (는,JX) (아주,MAG) (높지,VA) (ㄴ,ETD) (않,VXA) (은데,ECD) (애초,NNG) (에,JKM) (SP,OL) (에서,JKM) (다루,VV) (는,ETD) (개념,NNG) (을,JKO) (이,MDT) (과목,NNG) (에서,JKM) (처음,NNG) (접하,VV) (어서,ECD) (어렵,VA) (게,ECD) (느껴지,VV) (었,EPT) (더,EPT) (ㄴ,ETD) (것,NNB) (같,VA) (아요,EFN) (.,SF)\n",
      "\n",
      "(교수님,NNG) (이,JKS) (수업,NNG) (을,JKO) (정말,MAG) (못하,VX) (시,EPH) (ㅂ니다,EFN) (.,SF) (교수님,NNG) (이,JKS) (수업,NNG) (을,JKO) (정말,MAG) (못하,VX) (시,EPH) (ㅂ니다,EFN) (.,SF) (교수님,NNG) (이,JKS) (수업,NNG) (을,JKO) (정말,MAG) (못하,VX) (시,EPH) (ㅂ니다,EFN) (.,SF) (교수님,NNG) (이,JKS) (수업,NNG) (을,JKO) (정말,MAG) (못하,VX) (시,EPH) (ㅂ니다,EFN) (.,SF) (교수님,NNG) (이,JKS) (수업,NNG) (을,JKO) (정말,MAG) (못하,VX) (시,EPH) (ㅂ니다,EFN) (.,SF)\n",
      "\n",
      "(학점,NNG) (은,JX) (아직,MAG) (받,VV) (지,ECD) (않,VXV) (았,EPT) (습니다만,ECE) (,,SP) (솔직히,MAG) (그렇,VA) (게,ECD) (좋,VA) (을,ETD) (것,NNB) (같,VA) (지,ECD) (는,JX) (않,VV) (아,ECD) (보이,VV) (네요,EFN) (일단,MAG) (교수님,NNG) (이,JKS) (나쁘,VA) (거나,ECE) (그,VV) (러,ECD) (시진,NNG) (않,VV) (지만,ECE) (,,SP) (과목,NNG) (자체,NNG) (가,JKS) (정말,MAG) (풀타임,NNG) (으로,JKM) (이,MDT) (과목,NNG) (에,JKM) (모든,MDT) (노력,NNG) (을,JKO) (쏟,VV) (기,ETN) (를,JKO) (원하,VV) (ㅂ니다,EFN) (.,SF) (특히,MAG) (쓰,VV) (ㄹ,ETD) (데,NNB) (없,VA) (는,ETD) (특허,NNG) (명세서,NNG) (작성,NNG) (이나,JC) (각종,NNG) (발표,NNG) (준비,NNG) (는,JX) (너무나,MAG) (많,VA) (은,ETD) (시간,NNG) (을,JKO) (소모,NNG) (하,XSV) (고,ECE) (말,VXV) (았,EPT) (네요,EFN) (.,SF) (개인적,NNG) (으로,JKM) (는,JX) (최,NNP) (옥,NNG) (주교,NNG) (수,NNG) (님,XSN) (보다,JKM) (는,JX) (김,NNG) (명철,NNG) (교수님,NNG) (이나,JX) (최,XPN) (호진,NNP) (교수님,NNG) (이,JKS) (빨리,MAG) (바뀌,VV) (시,EPH) (었,EPT) (으면,ECD) (좋,VA) (겠,EPT) (다는,ETD) (생각,NNG) (이,JKS) (듣,VV) (었,EPT) (습니다,EFN) (.,SF)\n",
      "\n",
      "(프밍,UN) (은,JX) (기필,NNG) (과목,NNG) (이,VCP) (라,ECD) (1,NR) (학년,NNG) (들,XSN) (이,JKS) (다같이,MAG) (듣,VV) (다,ECS) (보,VXV) (니,ECD) (성적,NNG) (은,JX) (일괄적,NNG) (으로,JKM) (나가,VV) (는데,ECD) (,,SP) (교수님,NNG) (마다,JX) (수업,NNG) (이,JKS) (다,MAG) (닿,VV) (ㄹ라요,ECD) (문,NNG) (수복,NNG) (교수님,NNG) (은,JX) (정말,MAG) (영어,NNG) (로,JKM) (수업,NNG) (하,XSV) (시,EPH) (어도,ECD) (깔끔,XR) (하,XSA) (게,ECD) (잘,MAG) (들리,VV) (고,ECE) (이해,NNG) (도,JX) (잘,MAG) (되,VV) (었,EPT) (더,EPT) (ㄴ,ETD) (것,NNB) (같,VA) (아요,EFN) (..,SW) (!,SF) (무엇,NNG) (보다,JKM) (좋,VA) (았,EPT) (더,EPT) (ㄴ,ETD) (건,NNG) (수업,NNG) (이,JKS) (일찍,MAG) (끝나,VV) (ㄴ다는,ETD) (거,NNB) (..,SW) (!,SF) (설명,NNG) (을,JKO) (덜,MAG) (하,VV) (어,ECS) (주,VXV) (고,ECE) (이렇,VA) (ㄴ,ETD) (것,NNB) (이,JKS) (아니,VCN) (라,ECD) (짧,VA) (고,ECE) (굵,VA) (게,ECD) (잘,MAG) (설명,NNG) (하,XSV) (어,ECS) (주,VXV) (시,EPH) (어서,ECD) (일찍,MAG) (끝나,VV) (는,ETD) (거,NNB) (이,VCP) (라,EFN) (굉장히,MAG) (만족,NNG) (스럽,XSA) (었,EPT) (어요,EFN)\n",
      "\n",
      "(수업,NNG) (시간,NNG) (에,JKM) (예시,NNG) (를,JKO) (종종,MAG) (가져오,VV) (시,EPH) (어서,ECD) (이해,NNG) (하,XSV) (기,ETN) (편하,VA) (었,EPT) (습니다,EFN) (.,SF) (조교,NNG) (님,XSN) (귀엽,VA) (었,EPT) (어요,EFN) (.,SF) (어느,MDT) (정도,NNG) (는,JX) (하,VV) (는,ETD) (만큼,NNB) (나오,VV) (는데,ECD) (그,MDT) (이후,NNG) (는,JX) (센스,NNG) (나,JX) (타,VV) (고,ECE) (남,NNG) (차이,NNG) (같,VA) (습니다,EFN) (.,SF) (무엇,NNG) (을,JKO) (더,MAG) (공부,NNG) (하,XSV) (어야,ECD) (하,VV) (ㄹ지,ECD) (모르,VV) (겠,EPT) (는데,ECD) (그,MDT) (이상,NNG) (의,JKG) (것,NNB) (을,JKO) (물어보,VV) (ㅂ니다,EFN) (.,SF) (프밍,UN) (길,VA) (는,ETD) (기필,NNG) (이,VCP) (다,ECS) (보,VXV) (니,ECD) (교수님,NNG) (은,JX) (그렇게,MAG) (많이,MAG) (알,VV) (ㄴ,ETD) (탈것,NNG) (같,VA) (습니다,EFN) (.,SF) (시간표,NNG) (이쁘,VA) (게,ECD) (짜,VV) (시,EPH) (고,ECE) (종종,MAG) (일찍,MAG) (끝내주,VV) (시,EPH) (는,ETD) (교수님,NNG) (있,VV) (으시,EPH) (니,ECD) (찾아보,VV) (세요,EFN) (.,SF) (이영희,NNG) (교수님,NNG) (은,JX) (주로,MAG) (12,NR) (시,NNM) (에,JKM) (끝내주,VV) (시,EPH) (었,EPT) (습니다,EFN) (.,SF)\n",
      "\n"
     ]
    }
   ],
   "source": [
    "concat_nouns_list = []\n",
    "for k,v in count.items():\n",
    "    count[k] = 0\n",
    "# mp = {\"A\":5,\"B\":4,\"C\":3,\"D\":2,\"F\":1}\n",
    "mp = {\"A\":1,\"B\":1,\"C\":0,\"D\":0,\"F\":0}\n",
    "\n",
    "labels = []\n",
    "for i in range(len(f)):\n",
    "    line = f[i]\n",
    "    course = json.loads(line)\n",
    "    if course[\"강의\"] == \"?\" or len(g[i])<=1:\n",
    "        continue\n",
    "    concat_nouns = g[i]\n",
    "    if i<200:\n",
    "        print(concat_nouns)\n",
    "    \n",
    "    if count[mp[course[\"강의\"]]] < upper_limit:\n",
    "        concat_nouns_list.append(concat_nouns)\n",
    "        labels.append(int(mp[course[\"강의\"]]))\n",
    "        count[mp[course[\"강의\"]]] += 1"
   ]
  },
  {
   "cell_type": "code",
   "execution_count": 720,
   "metadata": {},
   "outputs": [],
   "source": [
    "labels = np.array(labels)\n",
    "concat_nouns_list = np.array(concat_nouns_list)\n",
    "data_train, data_test, y_train, y_test = train_test_split(concat_nouns_list,\n",
    "                                    labels,test_size=0.1,random_state=42)"
   ]
  },
  {
   "cell_type": "code",
   "execution_count": 721,
   "metadata": {},
   "outputs": [
    {
     "data": {
      "text/plain": [
       "348"
      ]
     },
     "execution_count": 721,
     "metadata": {},
     "output_type": "execute_result"
    }
   ],
   "source": [
    "len(data_train)"
   ]
  },
  {
   "cell_type": "code",
   "execution_count": 722,
   "metadata": {},
   "outputs": [
    {
     "data": {
      "text/plain": [
       "348"
      ]
     },
     "execution_count": 722,
     "metadata": {},
     "output_type": "execute_result"
    }
   ],
   "source": [
    "len(y_train)"
   ]
  },
  {
   "cell_type": "code",
   "execution_count": 725,
   "metadata": {},
   "outputs": [
    {
     "data": {
      "text/plain": [
       "'(듣,VV) (을,ETD) (때,NNG) (는,JX) (로드,NNG) (가,JKS) (많,VA) (다고,EFN) (생각,NNG) (하,XSV) (었,EPT) (습니다,EFN) (.,SF) (그러,VV) (나,ECE) (3,NR) (학년,NNG) (이,JKC) (되,VV) (ㄴ,ETD) (지금,MAG) (외치,VV) (어,ECS) (보,VXV) (ㅂ니다,EFN) (.,SF) (전산,NNG) (과,JKM) (4,NR) (학점,NNG) (과목,NNG) (중,NNB) (에,JKM) (제일,NNG) (로드,NNG) (없,VA) (는,ETD) (과목,NNG) (중,NNB) (하나,NR) (라고,JX) (.,SF)\\n'"
      ]
     },
     "execution_count": 725,
     "metadata": {},
     "output_type": "execute_result"
    }
   ],
   "source": [
    "list(data_test)[3]"
   ]
  },
  {
   "cell_type": "code",
   "execution_count": 726,
   "metadata": {},
   "outputs": [
    {
     "data": {
      "text/plain": [
       "1"
      ]
     },
     "execution_count": 726,
     "metadata": {},
     "output_type": "execute_result"
    }
   ],
   "source": [
    "y_train[2]"
   ]
  },
  {
   "cell_type": "code",
   "execution_count": 727,
   "metadata": {},
   "outputs": [
    {
     "name": "stdout",
     "output_type": "stream",
     "text": [
      "Added 13\n",
      "Added 13\n"
     ]
    }
   ],
   "source": [
    "def parse_long_str(s):\n",
    "    s = s.split(',')\n",
    "    s = [x.strip() for x in s]\n",
    "    return s\n",
    "good_lecture = parse_long_str(\"사랑, 천사, 친절, 유명, 짱, 참여, 최고, 만족, 유익, 열정적, 갓, 답변, 명강의\")\n",
    "bad_lecture = parse_long_str(\"집중, 혼자, 부족, 자습, 당황, 최악, 인생, 불편, 복잡, 불만, 악명, 비추, 난이(도)\")\n",
    "#todo try weighted average of w2v\n",
    "scores = {}\n",
    "def add_to_dict(l,score):\n",
    "    global scores\n",
    "    print(\"Added \" + str(len(l)))\n",
    "    for i in range(len(l)):\n",
    "        scores[l[i]] = score\n",
    "add_to_dict(good_lecture,1.0)\n",
    "add_to_dict(bad_lecture,-1.0)"
   ]
  },
  {
   "cell_type": "code",
   "execution_count": 728,
   "metadata": {},
   "outputs": [],
   "source": [
    "def enlarge_train_data(data_train,y_train):\n",
    "    x = list(data_train)\n",
    "    y = list(y_train)\n",
    "    for k,v in scores.items():\n",
    "#         x.append(str(k)+\"\\n\")\n",
    "#         unit = \"(%s,NNG) \" % (str(k))\n",
    "        unit = \"%s \" % (str(k))\n",
    "        x.append(unit*1)\n",
    "        \n",
    "        if v > 0:\n",
    "            y.append(int(mp['A']))\n",
    "        else:\n",
    "            y.append(int(mp['F']))\n",
    "    \n",
    "    return np.array(x),np.array(y)\n",
    "\n",
    "# data_train,y_train = enlarge_train_data(data_train,y_train)"
   ]
  },
  {
   "cell_type": "code",
   "execution_count": 729,
   "metadata": {},
   "outputs": [
    {
     "data": {
      "text/plain": [
       "348"
      ]
     },
     "execution_count": 729,
     "metadata": {},
     "output_type": "execute_result"
    }
   ],
   "source": [
    "len(data_train)"
   ]
  },
  {
   "cell_type": "code",
   "execution_count": 730,
   "metadata": {},
   "outputs": [
    {
     "data": {
      "text/plain": [
       "348"
      ]
     },
     "execution_count": 730,
     "metadata": {},
     "output_type": "execute_result"
    }
   ],
   "source": [
    "len(y_train)"
   ]
  },
  {
   "cell_type": "code",
   "execution_count": 736,
   "metadata": {},
   "outputs": [],
   "source": [
    "vectorizer = TfidfVectorizer(min_df=3, max_df = 0.8,max_features=200000)"
   ]
  },
  {
   "cell_type": "code",
   "execution_count": 737,
   "metadata": {},
   "outputs": [],
   "source": [
    "# vectirizer.fit(..)\n",
    "# X_train = vectorizer.transform(data_train)\n",
    "X_train = vectorizer.fit_transform(data_train)\n",
    "X_test = vectorizer.transform(data_test)"
   ]
  },
  {
   "cell_type": "code",
   "execution_count": 738,
   "metadata": {},
   "outputs": [],
   "source": [
    "tfidf_features = vectorizer.get_feature_names()"
   ]
  },
  {
   "cell_type": "code",
   "execution_count": 739,
   "metadata": {},
   "outputs": [
    {
     "data": {
      "text/plain": [
       "1144"
      ]
     },
     "execution_count": 739,
     "metadata": {},
     "output_type": "execute_result"
    }
   ],
   "source": [
    "len(tfidf_features)"
   ]
  },
  {
   "cell_type": "code",
   "execution_count": 662,
   "metadata": {},
   "outputs": [
    {
     "name": "stdout",
     "output_type": "stream",
     "text": [
      "(400, 1156)\n"
     ]
    }
   ],
   "source": [
    "print(X_train.shape)"
   ]
  },
  {
   "cell_type": "code",
   "execution_count": 663,
   "metadata": {},
   "outputs": [
    {
     "name": "stdout",
     "output_type": "stream",
     "text": [
      "(39, 1156)\n"
     ]
    }
   ],
   "source": [
    "print(X_test.shape)"
   ]
  },
  {
   "cell_type": "code",
   "execution_count": null,
   "metadata": {},
   "outputs": [],
   "source": []
  },
  {
   "cell_type": "code",
   "execution_count": 664,
   "metadata": {},
   "outputs": [
    {
     "data": {
      "text/plain": [
       "LinearSVC(C=1.0, class_weight=None, dual=True, fit_intercept=True,\n",
       "     intercept_scaling=1, loss='squared_hinge', max_iter=1000,\n",
       "     multi_class='ovr', penalty='l2', random_state=None, tol=0.0001,\n",
       "     verbose=0)"
      ]
     },
     "execution_count": 664,
     "metadata": {},
     "output_type": "execute_result"
    }
   ],
   "source": [
    "clf = LinearSVC()\n",
    "clf.fit(X_train,y_train)"
   ]
  },
  {
   "cell_type": "code",
   "execution_count": 665,
   "metadata": {},
   "outputs": [
    {
     "data": {
      "text/plain": [
       "0.6923076923076923"
      ]
     },
     "execution_count": 665,
     "metadata": {},
     "output_type": "execute_result"
    }
   ],
   "source": [
    "predictions = clf.predict(X_test)\n",
    "accuracy_score(y_test,predictions)"
   ]
  },
  {
   "cell_type": "code",
   "execution_count": 666,
   "metadata": {},
   "outputs": [
    {
     "data": {
      "text/plain": [
       "0.3076923076923077"
      ]
     },
     "execution_count": 666,
     "metadata": {},
     "output_type": "execute_result"
    }
   ],
   "source": [
    "mean_squared_error(y_test,predictions)"
   ]
  },
  {
   "cell_type": "code",
   "execution_count": 644,
   "metadata": {},
   "outputs": [
    {
     "data": {
      "text/plain": [
       "array([1, 1, 1, 1, 1, 1, 1, 1, 1, 1, 0, 1, 1, 1, 1, 0, 0, 1, 1, 1, 1, 1,\n",
       "       1, 1, 1, 1, 1, 1, 1, 1, 1, 1, 0, 1, 1, 1, 1, 1, 1])"
      ]
     },
     "execution_count": 644,
     "metadata": {},
     "output_type": "execute_result"
    }
   ],
   "source": [
    "predictions"
   ]
  },
  {
   "cell_type": "code",
   "execution_count": 645,
   "metadata": {},
   "outputs": [
    {
     "data": {
      "text/plain": [
       "array([1, 1, 1, 1, 1, 1, 1, 1, 0, 1, 0, 1, 1, 1, 0, 1, 1, 1, 1, 1, 1, 1,\n",
       "       1, 1, 0, 1, 1, 1, 1, 0, 0, 0, 0, 1, 1, 0, 1, 1, 1])"
      ]
     },
     "execution_count": 645,
     "metadata": {},
     "output_type": "execute_result"
    }
   ],
   "source": [
    "y_test"
   ]
  },
  {
   "cell_type": "code",
   "execution_count": 646,
   "metadata": {},
   "outputs": [],
   "source": [
    "for i in range(len(predictions)):\n",
    "    if predictions[i]!= y_test[i]:\n",
    "#         print(\"pred\",predictions[i],\"real\",y_test[i])\n",
    "#         print(data_test[i])\n",
    "        pass\n",
    "        "
   ]
  },
  {
   "cell_type": "code",
   "execution_count": 647,
   "metadata": {},
   "outputs": [
    {
     "name": "stdout",
     "output_type": "stream",
     "text": [
      "0.7692307692307693 0.5846153846153846\n"
     ]
    },
    {
     "data": {
      "text/plain": [
       "0.7337278106508877"
      ]
     },
     "execution_count": 647,
     "metadata": {},
     "output_type": "execute_result"
    }
   ],
   "source": [
    "micro = f1_score(y_test, predictions, average='micro')  \n",
    "macro = f1_score(y_test, predictions, average='macro')  \n",
    "print(micro,macro)\n",
    "f1_score(y_test, predictions, average='weighted')  "
   ]
  },
  {
   "cell_type": "code",
   "execution_count": null,
   "metadata": {},
   "outputs": [],
   "source": []
  },
  {
   "cell_type": "code",
   "execution_count": null,
   "metadata": {},
   "outputs": [],
   "source": []
  }
 ],
 "metadata": {
  "kernelspec": {
   "display_name": "Python 3",
   "language": "python",
   "name": "python3"
  },
  "language_info": {
   "codemirror_mode": {
    "name": "ipython",
    "version": 3
   },
   "file_extension": ".py",
   "mimetype": "text/x-python",
   "name": "python",
   "nbconvert_exporter": "python",
   "pygments_lexer": "ipython3",
   "version": "3.6.5"
  }
 },
 "nbformat": 4,
 "nbformat_minor": 2
}
