{
 "cells": [
  {
   "cell_type": "code",
   "execution_count": 1,
   "metadata": {},
   "outputs": [
    {
     "name": "stderr",
     "output_type": "stream",
     "text": [
      "c:\\users\\minkyu\\appdata\\local\\programs\\python\\python35\\lib\\site-packages\\gensim\\utils.py:1212: UserWarning: detected Windows; aliasing chunkize to chunkize_serial\n",
      "  warnings.warn(\"detected Windows; aliasing chunkize to chunkize_serial\")\n"
     ]
    }
   ],
   "source": [
    "from gensim.models.keyedvectors import KeyedVectors\n",
    "from gensim.models import word2vec\n",
    "pos_vectors = KeyedVectors.load_word2vec_format('../pos_cs.vec', binary=False)\n"
   ]
  },
  {
   "cell_type": "code",
   "execution_count": 2,
   "metadata": {},
   "outputs": [],
   "source": [
    "import json\n",
    "import numpy as np\n",
    "from konlpy.tag import Kkma\n",
    "from konlpy.utils import pprint\n",
    "import math\n",
    "import random\n",
    "import csv\n",
    "l_quality= open(\"LectureQuality.txt\", \"r\", encoding=\"utf-8\").readlines()\n",
    "load= open(\"Load.txt\", \"r\", encoding=\"utf-8\").readlines()\n",
    "grade= open(\"Grade.txt\", \"r\", encoding=\"utf-8\").readlines()\n",
    "CATEGORY_COUNT = 3"
   ]
  },
  {
   "cell_type": "code",
   "execution_count": 3,
   "metadata": {},
   "outputs": [],
   "source": [
    "scores = []\n",
    "subjects = [l_quality, load, grade]\n",
    "def add_to_dict(subject):\n",
    "    subject_scores={}\n",
    "    for i in range(len(subject)):\n",
    "        p = subject[i].split(\"\\t\")\n",
    "        subject_scores[p[0]] = float(p[1][:-1])\n",
    "    scores.append(subject_scores)\n",
    "\n",
    "for subject in subjects:\n",
    "    add_to_dict(subject)"
   ]
  },
  {
   "cell_type": "code",
   "execution_count": 4,
   "metadata": {},
   "outputs": [],
   "source": [
    "subject_mp = {\"강의\":0,\"널널\":1,\"성적\":2}\n",
    "def calculate_score(s, subject_str):\n",
    "    result = 0\n",
    "    for k,v in scores[subject_mp[subject_str]].items():\n",
    "        if k in s:\n",
    "            result += v\n",
    "#     result=1.0/(1+math.exp(-result))\n",
    "    result=math.tanh(result)\n",
    "    return result"
   ]
  },
  {
   "cell_type": "code",
   "execution_count": 5,
   "metadata": {},
   "outputs": [],
   "source": [
    "REVIEWS = \"cs_reviews\"\n",
    "\n",
    "f = open(\"../reviews_in_one_txt/\" + REVIEWS + \".txt\",\"r\",encoding=\"utf-8\").readlines()\n",
    "\n",
    "scores_list = []\n",
    "subjects_str = [\"강의\", \"널널\", \"성적\"]\n",
    "for subject_str in subjects_str:\n",
    "    scores_list_subject=[]\n",
    "    for i in range(len(f[:])):\n",
    "        line = f[i]\n",
    "        course = json.loads(line)\n",
    "        scores_list_subject.append(calculate_score(course[\"review_text\"], subject_str))\n",
    "    scores_list.append(scores_list_subject)\n"
   ]
  },
  {
   "cell_type": "code",
   "execution_count": 6,
   "metadata": {},
   "outputs": [],
   "source": [
    "f_count_word = {}\n",
    "count_word = {}\n",
    "mp = {\"A\":5,\"B\":4,\"C\":3,\"D\":2,\"F\":1}\n",
    "\n",
    "def calc_weight(s):\n",
    "    return (mp[s]) - 3\n",
    "\n",
    "for i in range(len(f)):\n",
    "    line = f[i]\n",
    "    course = json.loads(line)\n",
    "    if course[\"강의\"] == \"?\":\n",
    "        continue\n",
    "    words = course[\"review_text\"].split()\n",
    "    for w in words:\n",
    "        if w not in count_word:\n",
    "            count_word[w] = 0\n",
    "        count_word[w] += calc_weight(course[\"강의\"])\n"
   ]
  },
  {
   "cell_type": "code",
   "execution_count": 7,
   "metadata": {},
   "outputs": [],
   "source": [
    "sorted_by_value = sorted(count_word.items(), key=lambda kv: kv[1])[::-1]"
   ]
  },
  {
   "cell_type": "code",
   "execution_count": 8,
   "metadata": {},
   "outputs": [],
   "source": [
    "# sorted_by_value"
   ]
  },
  {
   "cell_type": "code",
   "execution_count": null,
   "metadata": {},
   "outputs": [],
   "source": []
  },
  {
   "cell_type": "code",
   "execution_count": 9,
   "metadata": {},
   "outputs": [
    {
     "name": "stdout",
     "output_type": "stream",
     "text": [
      "강의\n",
      "A 0.6211884250342136\n",
      "B 0.46235307391633623\n",
      "C 0.3632670851017241\n",
      "D 0.22809750764816017\n",
      "F -0.14825863563907732\n",
      "-----------------------\n",
      "널널\n",
      "A 0.6477555882381878\n",
      "B 0.5485845505671064\n",
      "C 0.4577797871649972\n",
      "D 0.27807863658615634\n",
      "F -0.13546262635607487\n",
      "-----------------------\n",
      "성적\n",
      "A 0.77733352240092\n",
      "B 0.7638739952538164\n",
      "C 0.6485726798919386\n",
      "D 0.3010624520956459\n",
      "F -0.04403226531526962\n",
      "-----------------------\n"
     ]
    }
   ],
   "source": [
    "score_sum=[0]*7\n",
    "numberof = [0]*7\n",
    "\n",
    "def calc_score_avg(column_name):\n",
    "    for i in range(len(f[:])):\n",
    "        course = json.loads(f[i])\n",
    "        #print(mp[course[\"강의\"]],(scores_list[i]))\n",
    "        if course[column_name] == \"?\":\n",
    "            continue\n",
    "        score_sum[mp[course[column_name]]] += scores_list[subject_mp[column_name]][i]\n",
    "        numberof[mp[course[column_name]]] += 1;\n",
    "    \n",
    "\n",
    "for x in subjects_str:\n",
    "    print(x)\n",
    "    score_sum=[0 for j in range(7)]\n",
    "    numberof = [0 for j in range(7)]\n",
    "    calc_score_avg(x)\n",
    "    sorted_letters = sorted(mp.items(), key=lambda kv: score_sum[kv[1]]/numberof[kv[1]])[::-1]\n",
    "\n",
    "    for p,v in sorted_letters:\n",
    "        print(p,score_sum[v]/numberof[v])\n",
    "#     for k,v in mp.items():\n",
    "#         print(k,score_sum[v]/numberof[v])\n",
    "    print(\"-----------------------\")\n"
   ]
  },
  {
   "cell_type": "code",
   "execution_count": 10,
   "metadata": {},
   "outputs": [
    {
     "name": "stderr",
     "output_type": "stream",
     "text": [
      "c:\\users\\minkyu\\appdata\\local\\programs\\python\\python35\\lib\\site-packages\\gensim\\matutils.py:737: FutureWarning: Conversion of the second argument of issubdtype from `int` to `np.signedinteger` is deprecated. In future, it will be treated as `np.int32 == np.dtype(int).type`.\n",
      "  if np.issubdtype(vec.dtype, np.int):\n"
     ]
    }
   ],
   "source": [
    "def append_noun(s):\n",
    "    return \"('%s','Noun')\" % (s)\n",
    "\n",
    "naver_wv_categories = [\"강의\", \"부담\", \"성적\"]\n",
    "wv_update = {}\n",
    "for i in range(CATEGORY_COUNT):\n",
    "    for k,v in scores[i].items():\n",
    "        if append_noun(k) in pos_vectors.vocab:\n",
    "#             print(k,naver_wv_categories[i])\n",
    "#             print(pos_vectors.similarity(append_noun(k),append_noun(naver_wv_categories[i])))\n",
    "            wv_update[k] = pos_vectors.similarity(append_noun(k),append_noun(naver_wv_categories[i]))\n",
    "        "
   ]
  },
  {
   "cell_type": "code",
   "execution_count": 11,
   "metadata": {},
   "outputs": [
    {
     "data": {
      "text/plain": [
       "['강의', '널널', '성적']"
      ]
     },
     "execution_count": 11,
     "metadata": {},
     "output_type": "execute_result"
    }
   ],
   "source": [
    "subjects_str"
   ]
  },
  {
   "cell_type": "code",
   "execution_count": 12,
   "metadata": {},
   "outputs": [],
   "source": [
    "review_update = {}\n",
    "review_update_list = {}\n",
    "\n",
    "for i in range(len(f)):\n",
    "    line = f[i]\n",
    "    course = json.loads(line)\n",
    "\n",
    "    for j in range(CATEGORY_COUNT):\n",
    "        if course[subjects_str[j]] == \"?\":\n",
    "            continue\n",
    "        for k,v in scores[j].items():\n",
    "             if k in course[\"review_text\"]:\n",
    "                if k not in review_update_list:\n",
    "                    review_update_list[k] = []\n",
    "                review_update_list[k].append(calc_weight(course[subjects_str[j]]))\n",
    "\n",
    "for j in range(CATEGORY_COUNT):\n",
    "    for k,v in scores[j].items():\n",
    "        review_update[k] = 0\n",
    "        if k in review_update_list:\n",
    "            review_update[k] = sum(review_update_list[k])/len(review_update_list[k])\n"
   ]
  },
  {
   "cell_type": "code",
   "execution_count": 13,
   "metadata": {
    "scrolled": true
   },
   "outputs": [],
   "source": [
    "# review_update"
   ]
  },
  {
   "cell_type": "code",
   "execution_count": null,
   "metadata": {},
   "outputs": [],
   "source": []
  },
  {
   "cell_type": "code",
   "execution_count": 14,
   "metadata": {},
   "outputs": [],
   "source": [
    "def calc_aggregated_score(s, subject_str):\n",
    "    result = 0\n",
    "    for k,v in aggregated_scores[subject_mp[subject_str]].items():\n",
    "        if k in s:\n",
    "            result += v\n",
    "#     result=1.0/(1+math.exp(-result))\n",
    "    if len(s) == 0:\n",
    "        return 0\n",
    "    result =result*100.0/ math.log(len(s)+1,2)\n",
    "    result=math.tanh(result)\n",
    "    return result\n",
    "\n",
    "def calc_aggregated_score_sum(column_name):\n",
    "    for i in range(len(f[:])):\n",
    "        course = json.loads(f[i])\n",
    "        if course[column_name] == \"?\":\n",
    "            continue\n",
    "        score_sum[mp[course[column_name]]] += calc_aggregated_score(course[\"review_text\"], column_name)\n",
    "        numberof[mp[course[column_name]]] += 1;"
   ]
  },
  {
   "cell_type": "code",
   "execution_count": 15,
   "metadata": {},
   "outputs": [],
   "source": [
    "import matplotlib.pyplot as plt"
   ]
  },
  {
   "cell_type": "code",
   "execution_count": 16,
   "metadata": {},
   "outputs": [
    {
     "name": "stdout",
     "output_type": "stream",
     "text": [
      "강의\n"
     ]
    },
    {
     "data": {
      "image/png": "[encoded data removed]",
      "text/plain": [
       "<Figure size 432x288 with 1 Axes>"
      ]
     },
     "metadata": {},
     "output_type": "display_data"
    },
    {
     "name": "stdout",
     "output_type": "stream",
     "text": [
      "널널\n"
     ]
    },
    {
     "data": {
      "image/png": "[encoded data removed]",
      "text/plain": [
       "<Figure size 432x288 with 1 Axes>"
      ]
     },
     "metadata": {},
     "output_type": "display_data"
    },
    {
     "name": "stdout",
     "output_type": "stream",
     "text": [
      "성적\n"
     ]
    },
    {
     "data": {
      "image/png": "[encoded data removed]",
      "text/plain": [
       "<Figure size 432x288 with 1 Axes>"
      ]
     },
     "metadata": {},
     "output_type": "display_data"
    }
   ],
   "source": [
    "ALPHA = 0.8\n",
    "BETA = 0.1\n",
    "GAMMA = 1 - ALPHA - BETA\n",
    "#print(\"Alpha:\",alpha,\"Beta:\",beta,\"Gamma:\",GAMMA)\n",
    "aggregated_scores = [{} for i in range(CATEGORY_COUNT)]\n",
    "for i in range(CATEGORY_COUNT):\n",
    "    for k,v in scores[i].items():\n",
    "        aggregated_scores[i][k] = v*ALPHA\n",
    "        if k in review_update:\n",
    "            aggregated_scores[i][k] += review_update[k]*BETA\n",
    "\n",
    "        if k in wv_update:\n",
    "            aggregated_scores[i][k] += wv_update[k]*GAMMA\n",
    "\n",
    "for x in subjects_str:\n",
    "    print(x)\n",
    "    score_sum=[0 for j in range(7)]\n",
    "    numberof = [0 for j in range(7)]\n",
    "    calc_aggregated_score_sum(x)\n",
    "    x_plt_list = []\n",
    "    y_plt_list = []\n",
    "\n",
    "    sorted_letters = sorted(mp.items(), key=lambda kv: score_sum[kv[1]]/numberof[kv[1]])[::-1]\n",
    "\n",
    "    for k,v in sorted_letters:\n",
    "#             print(k,score_sum[v]/numberof[v])\n",
    "        x_plt_list.append(score_sum[v]/numberof[v])\n",
    "        y_plt_list.append(k)\n",
    "\n",
    "    plt.plot(y_plt_list,x_plt_list)\n",
    "    plt.show()\n",
    "#         break\n",
    "\n",
    "#         print(\"-----------------------\")            "
   ]
  },
  {
   "cell_type": "code",
   "execution_count": 17,
   "metadata": {
    "scrolled": true
   },
   "outputs": [],
   "source": [
    "# for i in range(CATEGORY_COUNT):\n",
    "#     with open(str(i) + \"_updated.txt\",\"w\",encoding=\"utf-8\") as out:\n",
    "#         for k,v in aggregated_scores[i].items():\n",
    "#             out.write(k+\"\\t\" + str(v) + \"\\n\")"
   ]
  },
  {
   "cell_type": "code",
   "execution_count": 18,
   "metadata": {},
   "outputs": [
    {
     "name": "stdout",
     "output_type": "stream",
     "text": [
      "강의\n",
      "B 0.6277311183344445\n",
      "F -0.10502991686387952\n",
      "C 0.5585893626386034\n",
      "D 0.513204346468619\n",
      "A 0.7529830077084988\n",
      "-----------------------\n",
      "널널\n",
      "B 0.7736527736830946\n",
      "F 0.07991766233543936\n",
      "C 0.7705003664618074\n",
      "D 0.5770457011788926\n",
      "A 0.8025373145523862\n",
      "-----------------------\n",
      "성적\n",
      "B 0.8658663533163133\n",
      "F -6.702670164924842e-12\n",
      "C 0.7953472722828706\n",
      "D 0.3489713638455241\n",
      "A 0.8519809189281917\n",
      "-----------------------\n"
     ]
    }
   ],
   "source": [
    "threshholds = {}\n",
    "for x in subjects_str:\n",
    "    print(x)\n",
    "    score_sum=[0 for j in range(7)]\n",
    "    numberof = [0 for j in range(7)]\n",
    "    letter_avg = 0\n",
    "    i = 0 \n",
    "    calc_aggregated_score_sum(x)\n",
    "    for k,v in mp.items():\n",
    "        if k==\"C\":\n",
    "            i1 = score_sum[v]/numberof[v]\n",
    "        elif k==\"D\":\n",
    "            i2 = score_sum[v]/numberof[v]        \n",
    "        print(k,score_sum[v]/numberof[v])\n",
    "        letter_avg += score_sum[v]/numberof[v]\n",
    "        i+=1\n",
    "    threshholds[x] = (i1*4+i2)/5\n",
    "    letter_avg/= 5 \n",
    "    #threshholds[x] = letter_avg\n",
    "    print(\"-----------------------\")"
   ]
  },
  {
   "cell_type": "code",
   "execution_count": 19,
   "metadata": {},
   "outputs": [
    {
     "data": {
      "text/plain": [
       "{'강의': 0.5495123594046065, '널널': 0.7318094334052245, '성적': 0.7060720905954013}"
      ]
     },
     "execution_count": 19,
     "metadata": {},
     "output_type": "execute_result"
    }
   ],
   "source": [
    "threshholds"
   ]
  },
  {
   "cell_type": "code",
   "execution_count": 20,
   "metadata": {},
   "outputs": [],
   "source": [
    "# college_years = [\"freshman\",\"sophomore\",\"junior\",\"senior\"]\n",
    "# allowed_majors = [\"CS\"]\n",
    "# sentiment_mp = {True: \"pos\", False: \"neg\"}\n",
    "# subject_mp = {\"강의\":0,\"널널\":1,\"성적\":2}\n",
    "# rev_subject_mp = {0:\"강의\", 1:\"널널\", 2:\"성적\"}\n",
    "\n",
    "# def get_year(course_code):\n",
    "#     if int(course_code[-3]) - 1 < 4:\n",
    "#         return college_years[int(course_code[-3]) - 1]\n",
    "#     else:\n",
    "#         return \"graduate\"\n",
    "    \n",
    "# def flare_from_json(course, is_pos, category):\n",
    "#     course_code = course[\"course_code\"]\n",
    "#     course_name = course[\"course_name\"]\n",
    "#     result = \"\"\n",
    "#     if course_code[:2] not in allowed_majors:\n",
    "#         return \"\"\n",
    "#     result += get_year(course_code) + \"-\"\n",
    "#     result += course_code + \"-\"\n",
    "#     result += sentiment_mp[is_pos] + \"-\"\n",
    "#     result += category\n",
    "#     return result\n",
    "\n",
    "\n",
    "# count_reviews = {}\n",
    "# for i in range(len(f)):\n",
    "#     course = json.loads(f[i])\n",
    "#     for category in subjects_str:\n",
    "#         score = calc_aggregated_score(course[\"review_text\"],category)\n",
    "#         is_pos = score > threshholds[category]\n",
    "#         row = flare_from_json(course, is_pos,category)\n",
    "#         if row == \"\":\n",
    "#             continue\n",
    "#         if row not in count_reviews:\n",
    "#             count_reviews[row] = 0\n",
    "#         count_reviews[row] += 1\n",
    "# with open(\"csonly_reviews_withsentiment_in_flare.csv\",\"w\",encoding=\"utf-8\") as out:\n",
    "#     for k,v in count_reviews.items():\n",
    "#         out.write(k+','+str(v)+\"\\n\")"
   ]
  },
  {
   "cell_type": "code",
   "execution_count": 21,
   "metadata": {},
   "outputs": [],
   "source": [
    "def mingyu_calc_aggregated_score_sum(column_name,i):\n",
    "    course = json.loads(f[i])\n",
    "    return  calc_aggregated_score(course[\"review_text\"], column_name)"
   ]
  },
  {
   "cell_type": "code",
   "execution_count": 22,
   "metadata": {},
   "outputs": [
    {
     "name": "stdout",
     "output_type": "stream",
     "text": [
      "['강의', '널널', '성적']\n"
     ]
    }
   ],
   "source": [
    "pos = {}\n",
    "neg = {}\n",
    "PNS = {}\n",
    "course_list = []\n",
    "print(subjects_str)\n",
    "\n",
    "for i in range(len(f[:])):\n",
    "    course = json.loads(f[i])\n",
    "#     print(course[\"course_code\"]+\"\\t\",end=\"\")\n",
    "    if course[\"course_code\"] not in pos:\n",
    "        pos[course[\"course_code\"]] = [[0,0],[0,0],[0,0]]\n",
    "        neg[course[\"course_code\"]] = [[0,0],[0,0],[0,0]]\n",
    "        PNS[course[\"course_code\"]] = [[0,0],[0,0],[0,0]]#[0,0,0]\n",
    "        course_list.append(course[\"course_code\"])\n",
    "    for x in subjects_str:\n",
    "#             out.write(str(calc_aggregated_score_sum(x,i))+\"\\t\")\n",
    "#         print(str(calc_aggregated_score_sum(x,i))+\"\\t\",end=\"\")\n",
    "        sc = mingyu_calc_aggregated_score_sum(x,i)\n",
    "        if sc>threshholds[x]:\n",
    "            pos[course[\"course_code\"]][subject_mp[x]][0] += (sc - threshholds[x])*10\n",
    "            pos[course[\"course_code\"]][subject_mp[x]][1] += 1\n",
    "        else:\n",
    "            neg[course[\"course_code\"]][subject_mp[x]][0] -= (sc - threshholds[x])*10\n",
    "            neg[course[\"course_code\"]][subject_mp[x]][1] += 1\n",
    "    for x in subjects_str:\n",
    "        pos_score = pos[course[\"course_code\"]][subject_mp[x]][0]\n",
    "        neg_score = neg[course[\"course_code\"]][subject_mp[x]][0]\n",
    "        pos[course[\"course_code\"]][subject_mp[x]][0] = round(pos_score/(pos_score+neg_score)*100,1)\n",
    "        neg[course[\"course_code\"]][subject_mp[x]][0] = round(neg_score/(pos_score+neg_score)*100,1)\n"
   ]
  },
  {
   "cell_type": "code",
   "execution_count": 23,
   "metadata": {},
   "outputs": [
    {
     "name": "stdout",
     "output_type": "stream",
     "text": [
      "CS966\n",
      "[0.0, 0] [0.0, 0] [0.0, 0]\n",
      "[100.0, 1] [100.0, 1] [100.0, 1]\n",
      "CS341\n",
      "[49.6, 17] [69.5, 16] [94.8, 19]\n",
      "[50.4, 3] [30.5, 4] [5.2, 1]\n",
      "CS322\n",
      "[57.8, 15] [68.1, 18] [70.6, 20]\n",
      "[42.2, 9] [31.9, 6] [29.4, 4]\n",
      "CS311\n",
      "[65.5, 28] [41.9, 29] [74.8, 33]\n",
      "[34.5, 10] [58.1, 9] [25.2, 5]\n",
      "CS109\n",
      "[89.3, 17] [86.8, 17] [93.8, 19]\n",
      "[10.7, 3] [13.2, 3] [6.2, 1]\n",
      "CS270\n",
      "[100.0, 3] [85.2, 2] [100.0, 3]\n",
      "[0.0, 0] [14.8, 1] [0.0, 0]\n",
      "CS476\n",
      "[100.0, 1] [0.0, 0] [100.0, 1]\n",
      "[0.0, 0] [100.0, 1] [0.0, 0]\n",
      "CS448\n",
      "[12.1, 4] [66.2, 7] [84.7, 8]\n",
      "[87.9, 7] [33.8, 4] [15.3, 3]\n",
      "CS494\n",
      "[0.0, 0] [100.0, 1] [100.0, 1]\n",
      "[100.0, 1] [0.0, 0] [0.0, 0]\n",
      "CS220\n",
      "[66.3, 12] [81.1, 15] [89.6, 15]\n",
      "[33.7, 5] [18.9, 2] [10.4, 2]\n",
      "CS101\n",
      "[69.6, 50] [92.1, 61] [84.4, 59]\n",
      "[30.4, 12] [7.9, 1] [15.6, 3]\n",
      "CS442\n",
      "[100.0, 3] [100.0, 3] [100.0, 3]\n",
      "[0.0, 0] [0.0, 0] [0.0, 0]\n",
      "CS320\n",
      "[71.3, 36] [60.2, 35] [91.5, 40]\n",
      "[28.7, 6] [39.8, 7] [8.5, 2]\n",
      "CS330\n",
      "[16.1, 17] [6.6, 14] [53.5, 35]\n",
      "[83.9, 28] [93.4, 31] [46.5, 10]\n",
      "CS422\n",
      "[100.0, 2] [100.0, 2] [100.0, 2]\n",
      "[0.0, 0] [0.0, 0] [0.0, 0]\n",
      "CS474\n",
      "[94.8, 1] [0.0, 0] [0.0, 0]\n",
      "[5.2, 1] [100.0, 2] [100.0, 2]\n",
      "CS493\n",
      "[100.0, 1] [100.0, 1] [100.0, 1]\n",
      "[0.0, 0] [0.0, 0] [0.0, 0]\n",
      "CS454\n",
      "[100.0, 3] [100.0, 3] [100.0, 3]\n",
      "[0.0, 0] [0.0, 0] [0.0, 0]\n",
      "CS204\n",
      "[76.6, 42] [78.2, 45] [88.2, 46]\n",
      "[23.4, 8] [21.8, 5] [11.8, 4]\n",
      "CS350\n",
      "[25.1, 7] [7.8, 5] [19.8, 8]\n",
      "[74.9, 4] [92.2, 6] [80.2, 3]\n",
      "CS230\n",
      "[74.6, 48] [63.8, 47] [72.5, 53]\n",
      "[25.4, 13] [36.2, 14] [27.5, 8]\n",
      "CS206\n",
      "[53.7, 50] [61.2, 54] [71.1, 58]\n",
      "[46.3, 15] [38.8, 11] [28.9, 7]\n",
      "CS500\n",
      "[63.9, 1] [93.2, 5] [93.4, 5]\n",
      "[36.1, 5] [6.8, 1] [6.6, 1]\n",
      "CS584\n",
      "[100.0, 1] [0.0, 0] [100.0, 1]\n",
      "[0.0, 0] [100.0, 1] [0.0, 0]\n",
      "CS402\n",
      "[84.2, 4] [86.8, 4] [87.2, 4]\n",
      "[15.8, 2] [13.2, 2] [12.8, 2]\n",
      "CS489\n",
      "[0.0, 0] [0.0, 0] [0.0, 0]\n",
      "[100.0, 1] [100.0, 1] [100.0, 1]\n",
      "CS202\n",
      "[95.8, 12] [18.7, 9] [74.3, 11]\n",
      "[4.2, 2] [81.3, 5] [25.7, 3]\n",
      "CS360\n",
      "[95.2, 15] [21.6, 10] [93.8, 15]\n",
      "[4.8, 1] [78.4, 6] [6.2, 1]\n",
      "CS592\n",
      "[4.3, 1] [2.6, 1] [2.9, 1]\n",
      "[95.7, 1] [97.4, 1] [97.1, 1]\n",
      "CS548\n",
      "[100.0, 2] [100.0, 2] [100.0, 2]\n",
      "[0.0, 0] [0.0, 0] [0.0, 0]\n",
      "CS310\n",
      "[100.0, 4] [86.3, 3] [93.8, 3]\n",
      "[0.0, 0] [13.7, 1] [6.2, 1]\n",
      "CS496\n",
      "[0.0, 0] [0.0, 0] [0.0, 0]\n",
      "[100.0, 1] [100.0, 1] [100.0, 1]\n",
      "CS470\n",
      "[10.6, 3] [85.2, 4] [100.0, 5]\n",
      "[89.4, 2] [14.8, 1] [0.0, 0]\n",
      "CS453\n",
      "[16.1, 4] [86.4, 4] [86.6, 4]\n",
      "[83.9, 1] [13.6, 1] [13.4, 1]\n",
      "CS211\n",
      "[78.9, 13] [63.4, 12] [79.2, 13]\n",
      "[21.1, 3] [36.6, 4] [20.8, 3]\n",
      "CS459\n",
      "[100.0, 1] [100.0, 1] [100.0, 1]\n",
      "[0.0, 0] [0.0, 0] [0.0, 0]\n",
      "CS409\n",
      "[100.0, 1] [100.0, 1] [100.0, 1]\n",
      "[0.0, 0] [0.0, 0] [0.0, 0]\n",
      "CS520\n",
      "[100.0, 1] [100.0, 1] [100.0, 1]\n",
      "[0.0, 0] [0.0, 0] [0.0, 0]\n",
      "CS300\n",
      "[50.2, 34] [69.1, 45] [88.7, 48]\n",
      "[49.8, 17] [30.9, 6] [11.3, 3]\n",
      "CS374\n",
      "[95.8, 8] [71.2, 6] [87.4, 8]\n",
      "[4.2, 1] [28.8, 3] [12.6, 1]\n",
      "CS522\n",
      "[0.0, 0] [100.0, 1] [100.0, 1]\n",
      "[100.0, 1] [0.0, 0] [0.0, 0]\n",
      "CS443\n",
      "[100.0, 1] [100.0, 1] [100.0, 1]\n",
      "[0.0, 0] [0.0, 0] [0.0, 0]\n",
      "CS672\n",
      "[100.0, 1] [100.0, 1] [100.0, 1]\n",
      "[0.0, 0] [0.0, 0] [0.0, 0]\n",
      "CS510\n",
      "[100.0, 3] [100.0, 3] [100.0, 3]\n",
      "[0.0, 0] [0.0, 0] [0.0, 0]\n",
      "CS457\n",
      "[100.0, 1] [100.0, 1] [100.0, 1]\n",
      "[0.0, 0] [0.0, 0] [0.0, 0]\n",
      "CS660\n",
      "[100.0, 2] [2.5, 1] [2.9, 1]\n",
      "[0.0, 0] [97.5, 1] [97.1, 1]\n",
      "CS408\n",
      "[52.8, 8] [24.8, 12] [67.5, 13]\n",
      "[47.2, 8] [75.2, 4] [32.5, 3]\n",
      "CS570\n",
      "[100.0, 1] [100.0, 1] [100.0, 1]\n",
      "[0.0, 0] [0.0, 0] [0.0, 0]\n",
      "CS492\n",
      "[63.4, 18] [42.5, 18] [47.2, 19]\n",
      "[36.6, 11] [57.5, 11] [52.8, 10]\n",
      "CS550\n",
      "[100.0, 1] [100.0, 1] [100.0, 1]\n",
      "[0.0, 0] [0.0, 0] [0.0, 0]\n",
      "CS420\n",
      "[100.0, 4] [100.0, 4] [100.0, 4]\n",
      "[0.0, 0] [0.0, 0] [0.0, 0]\n",
      "CS380\n",
      "[96.6, 10] [89.1, 9] [95.0, 10]\n",
      "[3.4, 1] [10.9, 2] [5.0, 1]\n"
     ]
    }
   ],
   "source": [
    "with open(\"mingyu.txt\",\"w\",encoding=\"utf-8\") as out:\n",
    "    for k,v in pos.items():\n",
    "        print(k)\n",
    "        print(*pos[k])\n",
    "        print(*neg[k])"
   ]
  },
  {
   "cell_type": "code",
   "execution_count": 24,
   "metadata": {},
   "outputs": [],
   "source": [
    "for k,v in pos.items():\n",
    "    with open(\"../data/\"+k+\".csv\",\"w\",newline='') as file:\n",
    "        writer = csv.writer(file, delimiter=',')\n",
    "        writer.writerow([\"Course\",\"Pos\",\"Neg\"])\n",
    "        for subject in subjects_str :\n",
    "            if subject == \"강의\":\n",
    "                line = [\"Lecture\",str(pos[k][0][0]),str(neg[k][0][0])]\n",
    "            elif subject == \"널널\":\n",
    "                line = [\"Load\",str(pos[k][1][0]),str(neg[k][1][0])]\n",
    "            else:\n",
    "                line = [\"Grade\",str(pos[k][2][0]),str(neg[k][2][0])]\n",
    "            writer.writerow(line)\n",
    "            "
   ]
  },
  {
   "cell_type": "code",
   "execution_count": 25,
   "metadata": {},
   "outputs": [],
   "source": [
    "pos1 = {}\n",
    "neg1 = {}\n",
    "PNS1 = {}\n",
    "\n",
    "for i in range(len(f[:])):\n",
    "    course = json.loads(f[i])\n",
    "    key1 = course[\"course_code\"] +\" \"+ course[\"year\"] +\" \"+ course[\"semester\"]\n",
    "    if course[\"semester\"]!=\"봄\" and course[\"semester\"]!=\"가을\":\n",
    "        pass\n",
    "    else:\n",
    "        #print(course[\"course_code\"]+\"\\t\",end=\"\")\n",
    "        if key1 not in pos1:\n",
    "            pos1[key1] = [[0,0],[0,0],[0,0]]\n",
    "            neg1[key1] = [[0,0],[0,0],[0,0]]\n",
    "            PNS1[key1] = [[0,0],[0,0],[0,0]]#[0,0,0]\n",
    "        for x in subjects_str:\n",
    "    #             out.write(str(calc_aggregated_score_sum(x,i))+\"\\t\")\n",
    "            #print(str(calc_aggregated_score_sum(x,i))+\"\\t\",end=\"\")\n",
    "            sc = mingyu_calc_aggregated_score_sum(x,i)\n",
    "            if sc>0:\n",
    "                pos1[key1][subject_mp[x]][0] += (sc-threshholds[x])*10\n",
    "                pos1[key1][subject_mp[x]][1] += 1\n",
    "            else:\n",
    "                neg1[key1][subject_mp[x]][0] -= (sc-threshholds[x])*10\n",
    "                neg1[key1][subject_mp[x]][1] += 1\n",
    "        #print(\"\")\n",
    "        for x in subjects_str:\n",
    "#             pos_vir1 = pos1[key1][subject_mp[x]][1]\n",
    "#             neg_vir1 = neg1[key1][subject_mp[x]][1]\n",
    "#             if pos_vir1 == 0:\n",
    "#                 pos_vir1 = 1\n",
    "#             if neg_vir1 == 0:\n",
    "#                 neg_vir1 = 1\n",
    "            pos_sum1 = pos1[key1][subject_mp[x]][0]\n",
    "            neg_sum1 = neg1[key1][subject_mp[x]][0]\n",
    "            pos_score = round(pos_sum1/(pos_sum1+neg_sum1)*100,1)\n",
    "            neg_score = round(neg_sum1/(pos_sum1+neg_sum1)*100,1)\n",
    "            PNS1[key1][subject_mp[x]][0] = pos_score-neg_score"
   ]
  },
  {
   "cell_type": "code",
   "execution_count": 26,
   "metadata": {},
   "outputs": [],
   "source": [
    "for course_tmp in course_list:\n",
    "    L =[[\"Categories\",\"Lecture\",\"Load\",\"Grade\"]]\n",
    "    for i in range(2000,2019):\n",
    "        for k1,v1 in PNS1.items():\n",
    "            if k1[0:5] ==course_tmp and k1[6:10] == str(i):\n",
    "                if k1[11:] == \"봄\":\n",
    "                    L.append([k1[6:10]+\" Spring\",v1[0][0],v1[1][0],v1[2][0]])\n",
    "                if k1[11:] == \"가을\":\n",
    "                    L.append([k1[6:10]+\" Fall\",v1[0][0],v1[1][0],v1[2][0]])    \n",
    "    if(len(L)>2):\n",
    "        for idx in range(1,len(L)-1):\n",
    "            if int(L[idx][0][0:4])==int(L[idx+1][0][0:4]) and L[idx][0][5:]==\"Fall\" and L[idx+1][0][5:]==\"Spring\":\n",
    "                tmp = L[idx]\n",
    "                L[idx] = L[idx+1]\n",
    "                L[idx+1] = tmp\n",
    "    with open(\"../data/line/\"+course_tmp+\" line.csv\",\"w\",newline='') as file:\n",
    "        writer = csv.writer(file, delimiter=',')\n",
    "        for i in range(len(L)):\n",
    "            writer.writerow(L[i])"
   ]
  },
  {
   "cell_type": "code",
   "execution_count": null,
   "metadata": {},
   "outputs": [],
   "source": []
  },
  {
   "cell_type": "code",
   "execution_count": null,
   "metadata": {},
   "outputs": [],
   "source": []
  },
  {
   "cell_type": "code",
   "execution_count": null,
   "metadata": {},
   "outputs": [],
   "source": []
  },
  {
   "cell_type": "code",
   "execution_count": null,
   "metadata": {},
   "outputs": [],
   "source": []
  }
 ],
 "metadata": {
  "kernelspec": {
   "display_name": "Python 3",
   "language": "python",
   "name": "python3"
  },
  "language_info": {
   "codemirror_mode": {
    "name": "ipython",
    "version": 3
   },
   "file_extension": ".py",
   "mimetype": "text/x-python",
   "name": "python",
   "nbconvert_exporter": "python",
   "pygments_lexer": "ipython3",
   "version": "3.5.2"
  }
 },
 "nbformat": 4,
 "nbformat_minor": 2
}
