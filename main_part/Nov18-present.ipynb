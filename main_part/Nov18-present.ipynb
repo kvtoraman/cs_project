{
 "cells": [
  {
   "cell_type": "code",
   "execution_count": 1,
   "metadata": {},
   "outputs": [
    {
     "name": "stderr",
     "output_type": "stream",
     "text": [
      "C:\\Users\\kvtor\\Anaconda3\\lib\\site-packages\\gensim\\utils.py:1197: UserWarning: detected Windows; aliasing chunkize to chunkize_serial\n",
      "  warnings.warn(\"detected Windows; aliasing chunkize to chunkize_serial\")\n"
     ]
    }
   ],
   "source": [
    "from gensim.models.keyedvectors import KeyedVectors\n",
    "from gensim.models import word2vec\n",
    "pos_vectors = KeyedVectors.load_word2vec_format('../pos_naver_news.vec', binary=False)\n"
   ]
  },
  {
   "cell_type": "code",
   "execution_count": 2,
   "metadata": {},
   "outputs": [],
   "source": [
    "import json\n",
    "import numpy as np\n",
    "from konlpy.tag import Kkma\n",
    "from konlpy.utils import pprint\n",
    "import math\n",
    "\n",
    "l_quality= open(\"lecture_quality.txt\", \"r\", encoding=\"utf-8\").readlines()\n",
    "load= open(\"load.txt\", \"r\", encoding=\"utf-8\").readlines()\n",
    "grade= open(\"grade.txt\", \"r\", encoding=\"utf-8\").readlines()\n",
    "int_friendly= open(\"international_friendly.txt\", \"r\", encoding=\"utf-8\").readlines()\n",
    "CATEGORY_COUNT = 3"
   ]
  },
  {
   "cell_type": "code",
   "execution_count": 3,
   "metadata": {},
   "outputs": [],
   "source": [
    "scores = []\n",
    "subjects = [l_quality, load, grade]\n",
    "def add_to_dict(subject):\n",
    "    subject_scores={}\n",
    "    for i in range(len(subject)):\n",
    "        p = subject[i].split(\"\\t\")\n",
    "        subject_scores[p[0]] = float(p[1][:-1])\n",
    "    scores.append(subject_scores)\n",
    "\n",
    "for subject in subjects:\n",
    "    add_to_dict(subject)"
   ]
  },
  {
   "cell_type": "code",
   "execution_count": 4,
   "metadata": {},
   "outputs": [],
   "source": [
    "subject_mp = {\"강의\":0,\"널널\":1,\"성적\":2}\n",
    "def calculate_score(s, subject_str):\n",
    "    result = 0\n",
    "    for k,v in scores[subject_mp[subject_str]].items():\n",
    "        if k in s:\n",
    "            result += v\n",
    "#     result=1.0/(1+math.exp(-result))\n",
    "    result=math.tanh(result)\n",
    "    return result"
   ]
  },
  {
   "cell_type": "code",
   "execution_count": 5,
   "metadata": {},
   "outputs": [],
   "source": [
    "REVIEWS = \"cs_reviews\"\n",
    "\n",
    "f = open(\"../reviews_in_one_txt/\" + REVIEWS + \".txt\",\"r\",encoding=\"utf-8\").readlines()\n",
    "\n",
    "scores_list = []\n",
    "subjects_str = [\"강의\", \"널널\", \"성적\"]\n",
    "for subject_str in subjects_str:\n",
    "    scores_list_subject=[]\n",
    "    for i in range(len(f[:])):\n",
    "        line = f[i]\n",
    "        course = json.loads(line)\n",
    "        scores_list_subject.append(calculate_score(course[\"review_text\"], subject_str))\n",
    "    scores_list.append(scores_list_subject)\n"
   ]
  },
  {
   "cell_type": "code",
   "execution_count": 6,
   "metadata": {},
   "outputs": [],
   "source": [
    "f_count_word = {}\n",
    "count_word = {}\n",
    "mp = {\"A\":5,\"B\":4,\"C\":3,\"D\":2,\"F\":1}\n",
    "\n",
    "def calc_weight(s):\n",
    "    return 3 - (mp[s])\n",
    "\n",
    "for i in range(len(f)):\n",
    "    line = f[i]\n",
    "    course = json.loads(line)\n",
    "    if course[\"강의\"] == \"?\":\n",
    "        continue\n",
    "    words = course[\"review_text\"].split()\n",
    "    for w in words:\n",
    "        if w not in count_word:\n",
    "            count_word[w] = 0\n",
    "        count_word[w] += calc_weight(course[\"강의\"])\n"
   ]
  },
  {
   "cell_type": "code",
   "execution_count": 7,
   "metadata": {},
   "outputs": [],
   "source": [
    "sorted_by_value = sorted(count_word.items(), key=lambda kv: kv[1])[::-1]"
   ]
  },
  {
   "cell_type": "code",
   "execution_count": 8,
   "metadata": {},
   "outputs": [],
   "source": [
    "# sorted_by_value"
   ]
  },
  {
   "cell_type": "code",
   "execution_count": null,
   "metadata": {},
   "outputs": [],
   "source": []
  },
  {
   "cell_type": "code",
   "execution_count": 9,
   "metadata": {},
   "outputs": [
    {
     "name": "stdout",
     "output_type": "stream",
     "text": [
      "강의\n",
      "A 0.11654140171441107\n",
      "B -0.11605949892652138\n",
      "C -0.14389836361025826\n",
      "D -0.3468267232471922\n",
      "F -0.35336293460933754\n",
      "-----------------------\n",
      "널널\n",
      "A 0.09717938413993184\n",
      "B -0.04650993923502493\n",
      "C -0.2622337094914021\n",
      "D -0.33851569397971554\n",
      "F -0.4073086596863776\n",
      "-----------------------\n",
      "성적\n",
      "A -0.005961045765132882\n",
      "B -0.10522973634678758\n",
      "C -0.14126067112300067\n",
      "D -0.1548596912691002\n",
      "F -0.028196474317843428\n",
      "-----------------------\n"
     ]
    }
   ],
   "source": [
    "score_sum=[0]*7\n",
    "numberof = [0]*7\n",
    "\n",
    "def calc_score_avg(column_name):\n",
    "    for i in range(len(f[:])):\n",
    "        course = json.loads(f[i])\n",
    "        #print(mp[course[\"강의\"]],(scores_list[i]))\n",
    "        if course[column_name] == \"?\":\n",
    "            continue\n",
    "        score_sum[mp[course[column_name]]] += scores_list[subject_mp[column_name]][i]\n",
    "        numberof[mp[course[column_name]]] += 1;\n",
    "    \n",
    "\n",
    "for x in subjects_str:\n",
    "    print(x)\n",
    "    score_sum=[0 for j in range(7)]\n",
    "    numberof = [0 for j in range(7)]\n",
    "    calc_score_avg(x)\n",
    "    for k,v in mp.items():\n",
    "        print(k,score_sum[v]/numberof[v])\n",
    "    print(\"-----------------------\")\n"
   ]
  },
  {
   "cell_type": "code",
   "execution_count": 10,
   "metadata": {},
   "outputs": [],
   "source": [
    "def append_noun(s):\n",
    "    return \"('%s','Noun')\" % (s)\n",
    "\n",
    "naver_wv_categories = [\"강의\", \"부담\", \"성적\"]\n",
    "wv_update = {}\n",
    "for i in range(CATEGORY_COUNT):\n",
    "    for k,v in scores[i].items():\n",
    "        if append_noun(k) in pos_vectors.vocab:\n",
    "#             print(k,naver_wv_categories[i])\n",
    "#             print(pos_vectors.similarity(append_noun(k),append_noun(naver_wv_categories[i])))\n",
    "            wv_update[k] = pos_vectors.similarity(append_noun(k),append_noun(naver_wv_categories[i]))\n",
    "        "
   ]
  },
  {
   "cell_type": "code",
   "execution_count": 17,
   "metadata": {
    "scrolled": true
   },
   "outputs": [],
   "source": [
    "# wv_update"
   ]
  },
  {
   "cell_type": "code",
   "execution_count": 12,
   "metadata": {},
   "outputs": [
    {
     "data": {
      "text/plain": [
       "['강의', '널널', '성적']"
      ]
     },
     "execution_count": 12,
     "metadata": {},
     "output_type": "execute_result"
    }
   ],
   "source": [
    "subjects_str"
   ]
  },
  {
   "cell_type": "code",
   "execution_count": 13,
   "metadata": {},
   "outputs": [],
   "source": [
    "review_update = {}\n",
    "for i in range(len(f)):\n",
    "    line = f[i]\n",
    "    course = json.loads(line)\n",
    "\n",
    "    for i in range(CATEGORY_COUNT):\n",
    "        if course[subjects_str[i]] == \"?\":\n",
    "            continue\n",
    "        for k,v in scores[i].items():\n",
    "            if k in course[\"review_text\"].split():\n",
    "                if k not in review_update:\n",
    "                    review_update[k] = 0\n",
    "                review_update[k] += calc_weight(course[subjects_str[i]])*100.0/len(course[\"review_text\"])\n",
    "        "
   ]
  },
  {
   "cell_type": "code",
   "execution_count": 18,
   "metadata": {
    "scrolled": true
   },
   "outputs": [],
   "source": [
    "# review_update"
   ]
  },
  {
   "cell_type": "code",
   "execution_count": 15,
   "metadata": {},
   "outputs": [],
   "source": [
    "aggregated_scores = [{} for i in range(CATEGORY_COUNT)]\n",
    "for i in range(CATEGORY_COUNT):\n",
    "    for k,v in scores[i].items():\n",
    "        aggregated_scores[i][k] = v\n",
    "        if k in review_update:\n",
    "            aggregated_scores[i][k] += review_update[k]*0.1\n",
    "        \n",
    "        if k in wv_update:\n",
    "            aggregated_scores[i][k] += wv_update[k]\n",
    "            \n",
    "            "
   ]
  },
  {
   "cell_type": "code",
   "execution_count": 16,
   "metadata": {},
   "outputs": [
    {
     "name": "stdout",
     "output_type": "stream",
     "text": [
      "강의\n",
      "A 0.22922615696817022\n",
      "B 0.05405823837434913\n",
      "C 0.04765070303320543\n",
      "D -0.11107667974773391\n",
      "F -0.16637902913740582\n",
      "-----------------------\n",
      "널널\n",
      "A -0.18696934691497555\n",
      "B -0.23019462132259694\n",
      "C -0.36811701323245655\n",
      "D -0.336929598405219\n",
      "F -0.4729440046232905\n",
      "-----------------------\n",
      "성적\n",
      "A -0.062479484600922085\n",
      "B -0.10389359565606517\n",
      "C -0.1409986103312977\n",
      "D -0.16375215974264584\n",
      "F 0.08446191015236892\n",
      "-----------------------\n"
     ]
    }
   ],
   "source": [
    "def calc_aggregated_score(s, subject_str):\n",
    "    result = 0\n",
    "    for k,v in aggregated_scores[subject_mp[subject_str]].items():\n",
    "        if k in s:\n",
    "            result += v\n",
    "#     result=1.0/(1+math.exp(-result))\n",
    "    result=math.tanh(result)\n",
    "    return result\n",
    "\n",
    "def calc_aggregated_score_sum(column_name):\n",
    "    for i in range(len(f[:])):\n",
    "        course = json.loads(f[i])\n",
    "        if course[column_name] == \"?\":\n",
    "            continue\n",
    "        score_sum[mp[course[column_name]]] += calc_aggregated_score(course[\"review_text\"], column_name)\n",
    "        numberof[mp[course[column_name]]] += 1;\n",
    "\n",
    "for x in subjects_str:\n",
    "    print(x)\n",
    "    score_sum=[0 for j in range(7)]\n",
    "    numberof = [0 for j in range(7)]\n",
    "    calc_aggregated_score_sum(x)\n",
    "    for k,v in mp.items():\n",
    "        print(k,score_sum[v]/numberof[v])\n",
    "    print(\"-----------------------\")"
   ]
  },
  {
   "cell_type": "code",
   "execution_count": null,
   "metadata": {},
   "outputs": [],
   "source": []
  }
 ],
 "metadata": {
  "kernelspec": {
   "display_name": "Python 3",
   "language": "python",
   "name": "python3"
  },
  "language_info": {
   "codemirror_mode": {
    "name": "ipython",
    "version": 3
   },
   "file_extension": ".py",
   "mimetype": "text/x-python",
   "name": "python",
   "nbconvert_exporter": "python",
   "pygments_lexer": "ipython3",
   "version": "3.6.5"
  }
 },
 "nbformat": 4,
 "nbformat_minor": 2
}
