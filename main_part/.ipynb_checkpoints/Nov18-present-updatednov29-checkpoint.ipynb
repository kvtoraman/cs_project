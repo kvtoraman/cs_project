{
 "cells": [
  {
   "cell_type": "code",
   "execution_count": 1,
   "metadata": {},
   "outputs": [
    {
     "name": "stderr",
     "output_type": "stream",
     "text": [
      "C:\\Users\\kvtor\\Anaconda3\\lib\\site-packages\\gensim\\utils.py:1197: UserWarning: detected Windows; aliasing chunkize to chunkize_serial\n",
      "  warnings.warn(\"detected Windows; aliasing chunkize to chunkize_serial\")\n"
     ]
    }
   ],
   "source": [
    "from gensim.models.keyedvectors import KeyedVectors\n",
    "from gensim.models import word2vec\n",
    "pos_vectors = KeyedVectors.load_word2vec_format('../../kor2vec/pos_nouns.vec', binary=False)\n"
   ]
  },
  {
   "cell_type": "code",
   "execution_count": 2,
   "metadata": {},
   "outputs": [],
   "source": [
    "import json\n",
    "import numpy as np\n",
    "from konlpy.tag import Kkma\n",
    "from konlpy.utils import pprint\n",
    "import math\n",
    "import random\n",
    "\n",
    "l_quality= open(\"LectureQuality.txt\", \"r\", encoding=\"utf-8\").readlines()\n",
    "load= open(\"Load.txt\", \"r\", encoding=\"utf-8\").readlines()\n",
    "grade= open(\"Grade.txt\", \"r\", encoding=\"utf-8\").readlines()\n",
    "CATEGORY_COUNT = 3"
   ]
  },
  {
   "cell_type": "code",
   "execution_count": 3,
   "metadata": {},
   "outputs": [],
   "source": [
    "scores = []\n",
    "subjects = [l_quality, load, grade]\n",
    "def add_to_dict(subject):\n",
    "    subject_scores={}\n",
    "    for i in range(len(subject)):\n",
    "        p = subject[i].split(\"\\t\")\n",
    "        subject_scores[p[0]] = float(p[1][:-1])\n",
    "    scores.append(subject_scores)\n",
    "\n",
    "for subject in subjects:\n",
    "    add_to_dict(subject)"
   ]
  },
  {
   "cell_type": "code",
   "execution_count": 4,
   "metadata": {},
   "outputs": [],
   "source": [
    "subject_mp = {\"강의\":0,\"널널\":1,\"성적\":2}\n",
    "def calculate_score(s, subject_str):\n",
    "    result = 0\n",
    "    for k,v in scores[subject_mp[subject_str]].items():\n",
    "        if k in s:\n",
    "            result += v\n",
    "#     result=1.0/(1+math.exp(-result))\n",
    "    result=math.tanh(result)\n",
    "    return result"
   ]
  },
  {
   "cell_type": "code",
   "execution_count": 5,
   "metadata": {},
   "outputs": [],
   "source": [
    "REVIEWS = \"cs_reviews\"\n",
    "\n",
    "f = open(\"../reviews_in_one_txt/\" + REVIEWS + \".txt\",\"r\",encoding=\"utf-8\").readlines()\n",
    "\n",
    "scores_list = []\n",
    "subjects_str = [\"강의\", \"널널\", \"성적\"]\n",
    "for subject_str in subjects_str:\n",
    "    scores_list_subject=[]\n",
    "    for i in range(len(f[:])):\n",
    "        line = f[i]\n",
    "        course = json.loads(line)\n",
    "        scores_list_subject.append(calculate_score(course[\"review_text\"], subject_str))\n",
    "    scores_list.append(scores_list_subject)\n"
   ]
  },
  {
   "cell_type": "code",
   "execution_count": 6,
   "metadata": {},
   "outputs": [],
   "source": [
    "f_count_word = {}\n",
    "count_word = {}\n",
    "mp = {\"A\":5,\"B\":4,\"C\":3,\"D\":2,\"F\":1}\n",
    "\n",
    "def calc_weight(s):\n",
    "    return (mp[s]) - 3\n",
    "\n",
    "for i in range(len(f)):\n",
    "    line = f[i]\n",
    "    course = json.loads(line)\n",
    "    if course[\"강의\"] == \"?\":\n",
    "        continue\n",
    "    words = course[\"review_text\"].split()\n",
    "    for w in words:\n",
    "        if w not in count_word:\n",
    "            count_word[w] = 0\n",
    "        count_word[w] += calc_weight(course[\"강의\"])\n"
   ]
  },
  {
   "cell_type": "code",
   "execution_count": 7,
   "metadata": {},
   "outputs": [],
   "source": [
    "sorted_by_value = sorted(count_word.items(), key=lambda kv: kv[1])[::-1]"
   ]
  },
  {
   "cell_type": "code",
   "execution_count": 8,
   "metadata": {},
   "outputs": [],
   "source": [
    "# sorted_by_value"
   ]
  },
  {
   "cell_type": "code",
   "execution_count": null,
   "metadata": {},
   "outputs": [],
   "source": []
  },
  {
   "cell_type": "code",
   "execution_count": 9,
   "metadata": {},
   "outputs": [
    {
     "name": "stdout",
     "output_type": "stream",
     "text": [
      "강의\n",
      "A 0.6211884250342136\n",
      "B 0.4623530739163361\n",
      "C 0.3632670851017241\n",
      "D 0.22809750764816017\n",
      "F -0.14825863563907732\n",
      "-----------------------\n",
      "널널\n",
      "A 0.6477555882381878\n",
      "B 0.5485845505671065\n",
      "C 0.4577797871649972\n",
      "D 0.27807863658615634\n",
      "F -0.13546262635607484\n",
      "-----------------------\n",
      "성적\n",
      "A 0.77733352240092\n",
      "B 0.7638739952538164\n",
      "C 0.6485726798919386\n",
      "D 0.3010624520956459\n",
      "F -0.04403226531526962\n",
      "-----------------------\n"
     ]
    }
   ],
   "source": [
    "score_sum=[0]*7\n",
    "numberof = [0]*7\n",
    "\n",
    "def calc_score_avg(column_name):\n",
    "    for i in range(len(f[:])):\n",
    "        course = json.loads(f[i])\n",
    "        #print(mp[course[\"강의\"]],(scores_list[i]))\n",
    "        if course[column_name] == \"?\":\n",
    "            continue\n",
    "        score_sum[mp[course[column_name]]] += scores_list[subject_mp[column_name]][i]\n",
    "        numberof[mp[course[column_name]]] += 1;\n",
    "    \n",
    "\n",
    "for x in subjects_str:\n",
    "    print(x)\n",
    "    score_sum=[0 for j in range(7)]\n",
    "    numberof = [0 for j in range(7)]\n",
    "    calc_score_avg(x)\n",
    "    for k,v in mp.items():\n",
    "        print(k,score_sum[v]/numberof[v])\n",
    "    print(\"-----------------------\")\n"
   ]
  },
  {
   "cell_type": "code",
   "execution_count": 10,
   "metadata": {},
   "outputs": [],
   "source": [
    "def append_noun(s):\n",
    "    return \"('%s','Noun')\" % (s)\n",
    "\n",
    "naver_wv_categories = [\"강의\", \"부담\", \"성적\"]\n",
    "wv_update = {}\n",
    "for i in range(CATEGORY_COUNT):\n",
    "    for k,v in scores[i].items():\n",
    "        if append_noun(k) in pos_vectors.vocab:\n",
    "#             print(k,naver_wv_categories[i])\n",
    "#             print(pos_vectors.similarity(append_noun(k),append_noun(naver_wv_categories[i])))\n",
    "            wv_update[k] = pos_vectors.similarity(append_noun(k),append_noun(naver_wv_categories[i]))\n",
    "        "
   ]
  },
  {
   "cell_type": "code",
   "execution_count": 11,
   "metadata": {},
   "outputs": [
    {
     "data": {
      "text/plain": [
       "['강의', '널널', '성적']"
      ]
     },
     "execution_count": 11,
     "metadata": {},
     "output_type": "execute_result"
    }
   ],
   "source": [
    "subjects_str"
   ]
  },
  {
   "cell_type": "code",
   "execution_count": 12,
   "metadata": {},
   "outputs": [],
   "source": [
    "review_update = {}\n",
    "review_update_list = {}\n",
    "\n",
    "for i in range(len(f)):\n",
    "    line = f[i]\n",
    "    course = json.loads(line)\n",
    "\n",
    "    for j in range(CATEGORY_COUNT):\n",
    "        if course[subjects_str[j]] == \"?\":\n",
    "            continue\n",
    "        for k,v in scores[j].items():\n",
    "             if k in course[\"review_text\"]:\n",
    "                if k not in review_update_list:\n",
    "                    review_update_list[k] = []\n",
    "                review_update_list[k].append(calc_weight(course[subjects_str[j]]))\n",
    "\n",
    "for j in range(CATEGORY_COUNT):\n",
    "    for k,v in scores[j].items():\n",
    "        review_update[k] = 0\n",
    "        if k in review_update_list:\n",
    "            review_update[k] = sum(review_update_list[k])/len(review_update_list[k])\n"
   ]
  },
  {
   "cell_type": "code",
   "execution_count": 13,
   "metadata": {
    "scrolled": true
   },
   "outputs": [],
   "source": [
    "# review_update"
   ]
  },
  {
   "cell_type": "code",
   "execution_count": null,
   "metadata": {},
   "outputs": [],
   "source": []
  },
  {
   "cell_type": "code",
   "execution_count": 14,
   "metadata": {},
   "outputs": [],
   "source": [
    "def calc_aggregated_score(s, subject_str):\n",
    "    result = 0\n",
    "    for k,v in aggregated_scores[subject_mp[subject_str]].items():\n",
    "        if k in s:\n",
    "            result += v\n",
    "#     result=1.0/(1+math.exp(-result))\n",
    "    if len(s) == 0:\n",
    "        return 0\n",
    "    result =result*100.0/ len(s)\n",
    "    result=math.tanh(result)\n",
    "    return result\n",
    "\n",
    "def calc_aggregated_score_sum(column_name):\n",
    "    for i in range(len(f[:])):\n",
    "        course = json.loads(f[i])\n",
    "        if course[column_name] == \"?\":\n",
    "            continue\n",
    "        score_sum[mp[course[column_name]]] += calc_aggregated_score(course[\"review_text\"], column_name)\n",
    "        numberof[mp[course[column_name]]] += 1;"
   ]
  },
  {
   "cell_type": "code",
   "execution_count": 15,
   "metadata": {},
   "outputs": [],
   "source": [
    "import matplotlib.pyplot as plt"
   ]
  },
  {
   "cell_type": "code",
   "execution_count": 16,
   "metadata": {
    "scrolled": true
   },
   "outputs": [
    {
     "name": "stdout",
     "output_type": "stream",
     "text": [
      "Alpha: 0.8 Beta: 0.1 Gamma: 0.09999999999999995\n",
      "강의\n",
      "A 0.45126372224687633\n",
      "B 0.33337172903945483\n",
      "C 0.2892046701004706\n",
      "D 0.2256549927011184\n",
      "F -0.011561240800232398\n"
     ]
    },
    {
     "data": {
      "image/png": "[encoded data removed]",
      "text/plain": [
       "<Figure size 432x288 with 1 Axes>"
      ]
     },
     "metadata": {},
     "output_type": "display_data"
    },
    {
     "name": "stdout",
     "output_type": "stream",
     "text": [
      "-----------------------\n",
      "널널\n",
      "A 0.49950879291496314\n",
      "B 0.40995429945302975\n",
      "C 0.370457734303462\n",
      "D 0.258388561363468\n",
      "F 0.01618702957971049\n"
     ]
    },
    {
     "data": {
      "image/png": "[encoded data removed]",
      "text/plain": [
       "<Figure size 432x288 with 1 Axes>"
      ]
     },
     "metadata": {},
     "output_type": "display_data"
    },
    {
     "name": "stdout",
     "output_type": "stream",
     "text": [
      "-----------------------\n",
      "성적\n",
      "A 0.6227773379804866\n",
      "B 0.581996004212027\n",
      "C 0.5627701375236881\n",
      "D 0.25955539448429077\n",
      "F -0.04373702400399463\n"
     ]
    },
    {
     "data": {
      "image/png": "[encoded data removed]",
      "text/plain": [
       "<Figure size 432x288 with 1 Axes>"
      ]
     },
     "metadata": {},
     "output_type": "display_data"
    },
    {
     "name": "stdout",
     "output_type": "stream",
     "text": [
      "-----------------------\n"
     ]
    }
   ],
   "source": [
    "ALPHA = 0.9\n",
    "BETA = 1e-4\n",
    "GAMMA = 1 - ALPHA - BETA\n",
    "for alpha in np.arange(0.8,0.9,0.1):\n",
    "    for beta in np.arange(0.1, 1.1 - alpha, 0.1):\n",
    "        \n",
    "        ALPHA = alpha\n",
    "        BETA = beta\n",
    "        GAMMA = 1 - ALPHA - BETA\n",
    "        if GAMMA < 0 :\n",
    "            continue\n",
    "        print(\"Alpha:\",alpha,\"Beta:\",beta,\"Gamma:\",GAMMA)\n",
    "        aggregated_scores = [{} for i in range(CATEGORY_COUNT)]\n",
    "        for i in range(CATEGORY_COUNT):\n",
    "            for k,v in scores[i].items():\n",
    "                aggregated_scores[i][k] = v*ALPHA\n",
    "                if k in review_update:\n",
    "                    aggregated_scores[i][k] += review_update[k]*BETA\n",
    "\n",
    "                if k in wv_update:\n",
    "                    aggregated_scores[i][k] += wv_update[k]*GAMMA\n",
    "\n",
    "        for x in subjects_str:\n",
    "            print(x)\n",
    "            score_sum=[0 for j in range(7)]\n",
    "            numberof = [0 for j in range(7)]\n",
    "            calc_aggregated_score_sum(x)\n",
    "            x_plt_list = []\n",
    "            y_plt_list = []\n",
    "\n",
    "            for k,v in mp.items():\n",
    "                print(k,score_sum[v]/numberof[v])\n",
    "                x_plt_list.append(score_sum[v]/numberof[v])\n",
    "                y_plt_list.append(k)\n",
    "\n",
    "            plt.plot(y_plt_list,x_plt_list)\n",
    "            plt.show()\n",
    "    #         break\n",
    "\n",
    "            print(\"-----------------------\")            "
   ]
  },
  {
   "cell_type": "code",
   "execution_count": 17,
   "metadata": {
    "scrolled": true
   },
   "outputs": [],
   "source": [
    "# for i in range(CATEGORY_COUNT):\n",
    "#     with open(str(i) + \"_updated.txt\",\"w\",encoding=\"utf-8\") as out:\n",
    "#         for k,v in aggregated_scores[i].items():\n",
    "#             out.write(k+\"\\t\" + str(v) + \"\\n\")"
   ]
  },
  {
   "cell_type": "code",
   "execution_count": 18,
   "metadata": {
    "scrolled": true
   },
   "outputs": [
    {
     "name": "stdout",
     "output_type": "stream",
     "text": [
      "강의\n",
      "A 0.45126372224687633\n",
      "B 0.33337172903945483\n",
      "C 0.2892046701004706\n",
      "D 0.2256549927011184\n",
      "F -0.011561240800232398\n",
      "-----------------------\n",
      "널널\n",
      "A 0.49950879291496314\n",
      "B 0.40995429945302975\n",
      "C 0.370457734303462\n",
      "D 0.258388561363468\n",
      "F 0.01618702957971049\n",
      "-----------------------\n",
      "성적\n",
      "A 0.6227773379804866\n",
      "B 0.581996004212027\n",
      "C 0.5627701375236881\n",
      "D 0.25955539448429077\n",
      "F -0.04373702400399463\n",
      "-----------------------\n"
     ]
    }
   ],
   "source": [
    "threshholds = {}\n",
    "avg_score_category = {}\n",
    "for x in subjects_str:\n",
    "    print(x)\n",
    "    score_sum=[0 for j in range(7)]\n",
    "    numberof = [0 for j in range(7)]\n",
    "    letter_avg = 0\n",
    "    calc_aggregated_score_sum(x)\n",
    "    avg_score_category[x] = {}\n",
    "    for k,v in mp.items():\n",
    "        avg_score_category[x][k] = score_sum[v]/numberof[v]\n",
    "        print(k,score_sum[v]/numberof[v])\n",
    "        letter_avg += score_sum[v]/numberof[v]\n",
    "    letter_avg/= 5 \n",
    "    threshholds[x] = letter_avg\n",
    "    print(\"-----------------------\")"
   ]
  },
  {
   "cell_type": "code",
   "execution_count": 19,
   "metadata": {},
   "outputs": [
    {
     "data": {
      "text/plain": [
       "{'강의': {'A': 0.45126372224687633,\n",
       "  'B': 0.33337172903945483,\n",
       "  'C': 0.2892046701004706,\n",
       "  'D': 0.2256549927011184,\n",
       "  'F': -0.011561240800232398},\n",
       " '널널': {'A': 0.49950879291496314,\n",
       "  'B': 0.40995429945302975,\n",
       "  'C': 0.370457734303462,\n",
       "  'D': 0.258388561363468,\n",
       "  'F': 0.01618702957971049},\n",
       " '성적': {'A': 0.6227773379804866,\n",
       "  'B': 0.581996004212027,\n",
       "  'C': 0.5627701375236881,\n",
       "  'D': 0.25955539448429077,\n",
       "  'F': -0.04373702400399463}}"
      ]
     },
     "execution_count": 19,
     "metadata": {},
     "output_type": "execute_result"
    }
   ],
   "source": [
    "avg_score_category"
   ]
  },
  {
   "cell_type": "code",
   "execution_count": 20,
   "metadata": {},
   "outputs": [],
   "source": [
    "best_scores = {}\n",
    "for x in subjects_str:\n",
    "    best_scores[x] = {}\n",
    "    for k,v in avg_score_category[x].items():\n",
    "#         print(x,k,v,threshholds[x])\n",
    "        best_scores[x][k] = v\n",
    "        "
   ]
  },
  {
   "cell_type": "code",
   "execution_count": 21,
   "metadata": {},
   "outputs": [
    {
     "name": "stdout",
     "output_type": "stream",
     "text": [
      "All reviews 696\n",
      "Labeled revs 505\n"
     ]
    }
   ],
   "source": [
    "labeled = 0\n",
    "\n",
    "for i in range(len(f)):\n",
    "    course = json.loads(f[i])\n",
    "    lets_continue = False\n",
    "    for x in subjects_str:\n",
    "        if course[x] == \"?\":\n",
    "            lets_continue = True\n",
    "            break\n",
    "    if lets_continue:\n",
    "        continue\n",
    "    labeled += 1\n",
    "    \n",
    "print(\"All reviews\",len(f))\n",
    "print(\"Labeled revs\",labeled)"
   ]
  },
  {
   "cell_type": "code",
   "execution_count": 33,
   "metadata": {},
   "outputs": [],
   "source": [
    "# def calc_aggregated_score(s, subject_str):\n",
    "#     result = 0\n",
    "#     for k,v in aggregated_scores[subject_mp[subject_str]].items():\n",
    "#         if k in s:\n",
    "#             result += v\n",
    "# #     result=1.0/(1+math.exp(-result))\n",
    "#     if len(s) == 0:\n",
    "#         return 0\n",
    "#     result =result*100.0/ len(s)\n",
    "#     result=math.tanh(result)\n",
    "#     return result\n",
    "rmse = 0\n",
    "for i in range(len(f)):\n",
    "    course = json.loads(f[i])\n",
    "    lets_continue = False\n",
    "    for x in subjects_str:\n",
    "        if course[x] == \"?\":\n",
    "            lets_continue = True\n",
    "            break\n",
    "    if lets_continue:\n",
    "        continue\n",
    "    for x in subjects_str:\n",
    "        a = calc_aggregated_score(course[\"review_text\"],x)\n",
    "#         print(i,x,a,course[x])\n",
    "        rmse += (best_scores[x][course[x]] - a) ** 2\n",
    "    "
   ]
  },
  {
   "cell_type": "code",
   "execution_count": 34,
   "metadata": {},
   "outputs": [
    {
     "data": {
      "text/plain": [
       "210.38266205449796"
      ]
     },
     "execution_count": 34,
     "metadata": {},
     "output_type": "execute_result"
    }
   ],
   "source": [
    "rmse"
   ]
  },
  {
   "cell_type": "code",
   "execution_count": 35,
   "metadata": {},
   "outputs": [
    {
     "data": {
      "text/plain": [
       "0.37264788151863776"
      ]
     },
     "execution_count": 35,
     "metadata": {},
     "output_type": "execute_result"
    }
   ],
   "source": [
    "math.sqrt(rmse/(labeled*3))"
   ]
  },
  {
   "cell_type": "code",
   "execution_count": 22,
   "metadata": {},
   "outputs": [],
   "source": [
    "college_years = [\"freshman\",\"sophomore\",\"junior\",\"senior\"]\n",
    "allowed_majors = [\"CS\"]\n",
    "sentiment_mp = {True: \"pos\", False: \"neg\"}\n",
    "subject_mp = {\"강의\":0,\"널널\":1,\"성적\":2}\n",
    "rev_subject_mp = {0:\"강의\", 1:\"널널\", 2:\"성적\"}\n",
    "\n",
    "def get_year(course_code):\n",
    "    if int(course_code[-3]) - 1 < 4:\n",
    "        return college_years[int(course_code[-3]) - 1]\n",
    "    else:\n",
    "        return \"graduate\"\n",
    "    \n",
    "def flare_from_json(course, is_pos, category):\n",
    "    course_code = course[\"course_code\"]\n",
    "    course_name = course[\"course_name\"]\n",
    "    result = \"\"\n",
    "    if course_code[:2] not in allowed_majors:\n",
    "        return \"\"\n",
    "    result += get_year(course_code) + \"-\"\n",
    "    result += course_code + \"-\"\n",
    "    result += sentiment_mp[is_pos] + \"-\"\n",
    "    result += category\n",
    "    return result\n",
    "\n",
    "\n",
    "count_reviews = {}\n",
    "for i in range(len(f)):\n",
    "    course = json.loads(f[i])\n",
    "    for category in subjects_str:\n",
    "        score = calc_aggregated_score(course[\"review_text\"],category)\n",
    "        is_pos = score > threshholds[category]\n",
    "        row = flare_from_json(course, is_pos,category)\n",
    "        if row == \"\":\n",
    "            continue\n",
    "        if row not in count_reviews:\n",
    "            count_reviews[row] = 0\n",
    "        count_reviews[row] += 1\n",
    "       "
   ]
  },
  {
   "cell_type": "code",
   "execution_count": null,
   "metadata": {},
   "outputs": [],
   "source": []
  },
  {
   "cell_type": "code",
   "execution_count": 162,
   "metadata": {},
   "outputs": [],
   "source": [
    "with open(\"csonly_reviews_withsentiment_in_flare.csv\",\"w\",encoding=\"utf-8\") as out:\n",
    "    for k,v in count_reviews.items():\n",
    "        out.write(k+','+str(v)+\"\\n\")"
   ]
  },
  {
   "cell_type": "code",
   "execution_count": null,
   "metadata": {},
   "outputs": [],
   "source": []
  }
 ],
 "metadata": {
  "kernelspec": {
   "display_name": "Python 3",
   "language": "python",
   "name": "python3"
  },
  "language_info": {
   "codemirror_mode": {
    "name": "ipython",
    "version": 3
   },
   "file_extension": ".py",
   "mimetype": "text/x-python",
   "name": "python",
   "nbconvert_exporter": "python",
   "pygments_lexer": "ipython3",
   "version": "3.6.5"
  }
 },
 "nbformat": 4,
 "nbformat_minor": 2
}
