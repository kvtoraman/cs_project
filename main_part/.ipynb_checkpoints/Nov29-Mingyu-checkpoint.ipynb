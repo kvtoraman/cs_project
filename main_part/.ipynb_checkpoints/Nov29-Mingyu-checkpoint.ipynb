{
 "cells": [
  {
   "cell_type": "code",
   "execution_count": 18,
   "metadata": {},
   "outputs": [],
   "source": [
    "from gensim.models.keyedvectors import KeyedVectors\n",
    "from gensim.models import word2vec\n",
    "pos_vectors = KeyedVectors.load_word2vec_format('../pos_cs.vec', binary=False)\n"
   ]
  },
  {
   "cell_type": "code",
   "execution_count": 19,
   "metadata": {},
   "outputs": [],
   "source": [
    "import json\n",
    "import numpy as np\n",
    "from konlpy.tag import Kkma\n",
    "from konlpy.utils import pprint\n",
    "import math\n",
    "import random\n",
    "import csv\n",
    "l_quality= open(\"LectureQuality.txt\", \"r\", encoding=\"utf-8\").readlines()\n",
    "load= open(\"Load.txt\", \"r\", encoding=\"utf-8\").readlines()\n",
    "grade= open(\"Grade.txt\", \"r\", encoding=\"utf-8\").readlines()\n",
    "CATEGORY_COUNT = 3"
   ]
  },
  {
   "cell_type": "code",
   "execution_count": 20,
   "metadata": {},
   "outputs": [],
   "source": [
    "scores = []\n",
    "subjects = [l_quality, load, grade]\n",
    "def add_to_dict(subject):\n",
    "    subject_scores={}\n",
    "    for i in range(len(subject)):\n",
    "        p = subject[i].split(\"\\t\")\n",
    "        subject_scores[p[0]] = float(p[1][:-1])\n",
    "    scores.append(subject_scores)\n",
    "\n",
    "for subject in subjects:\n",
    "    add_to_dict(subject)"
   ]
  },
  {
   "cell_type": "code",
   "execution_count": 21,
   "metadata": {},
   "outputs": [],
   "source": [
    "subject_mp = {\"강의\":0,\"널널\":1,\"성적\":2}\n",
    "def calculate_score(s, subject_str):\n",
    "    result = 0\n",
    "    for k,v in scores[subject_mp[subject_str]].items():\n",
    "        if k in s:\n",
    "            result += v\n",
    "#     result=1.0/(1+math.exp(-result))\n",
    "    result=math.tanh(result)\n",
    "    return result"
   ]
  },
  {
   "cell_type": "code",
   "execution_count": 22,
   "metadata": {},
   "outputs": [],
   "source": [
    "REVIEWS = \"cs_reviews\"\n",
    "\n",
    "f = open(\"../reviews_in_one_txt/\" + REVIEWS + \".txt\",\"r\",encoding=\"utf-8\").readlines()\n",
    "\n",
    "scores_list = []\n",
    "subjects_str = [\"강의\", \"널널\", \"성적\"]\n",
    "for subject_str in subjects_str:\n",
    "    scores_list_subject=[]\n",
    "    for i in range(len(f[:])):\n",
    "        line = f[i]\n",
    "        course = json.loads(line)\n",
    "        scores_list_subject.append(calculate_score(course[\"review_text\"], subject_str))\n",
    "    scores_list.append(scores_list_subject)\n"
   ]
  },
  {
   "cell_type": "code",
   "execution_count": 23,
   "metadata": {},
   "outputs": [],
   "source": [
    "f_count_word = {}\n",
    "count_word = {}\n",
    "mp = {\"A\":5,\"B\":4,\"C\":3,\"D\":2,\"F\":1}\n",
    "\n",
    "def calc_weight(s):\n",
    "    return (mp[s]) - 3\n",
    "\n",
    "for i in range(len(f)):\n",
    "    line = f[i]\n",
    "    course = json.loads(line)\n",
    "    if course[\"강의\"] == \"?\":\n",
    "        continue\n",
    "    words = course[\"review_text\"].split()\n",
    "    for w in words:\n",
    "        if w not in count_word:\n",
    "            count_word[w] = 0\n",
    "        count_word[w] += calc_weight(course[\"강의\"])\n"
   ]
  },
  {
   "cell_type": "code",
   "execution_count": 24,
   "metadata": {},
   "outputs": [],
   "source": [
    "sorted_by_value = sorted(count_word.items(), key=lambda kv: kv[1])[::-1]"
   ]
  },
  {
   "cell_type": "code",
   "execution_count": 25,
   "metadata": {},
   "outputs": [],
   "source": [
    "# sorted_by_value"
   ]
  },
  {
   "cell_type": "code",
   "execution_count": null,
   "metadata": {},
   "outputs": [],
   "source": []
  },
  {
   "cell_type": "code",
   "execution_count": 26,
   "metadata": {},
   "outputs": [
    {
     "name": "stdout",
     "output_type": "stream",
     "text": [
      "강의\n",
      "A 0.6223522052029873\n",
      "B 0.45772954317717285\n",
      "C 0.3632670851017241\n",
      "D 0.2051397033342519\n",
      "F -0.14825863563907732\n",
      "-----------------------\n",
      "널널\n",
      "A 0.6492974124926542\n",
      "B 0.5444906360106355\n",
      "C 0.4577797871649972\n",
      "D 0.27807863658615634\n",
      "F -0.13546262635607487\n",
      "-----------------------\n",
      "성적\n",
      "A 0.7812222707273662\n",
      "B 0.7592444558886418\n",
      "C 0.6226297726962611\n",
      "D 0.3010624520956459\n",
      "F -0.04403226531526962\n",
      "-----------------------\n"
     ]
    }
   ],
   "source": [
    "score_sum=[0]*7\n",
    "numberof = [0]*7\n",
    "\n",
    "def calc_score_avg(column_name):\n",
    "    for i in range(len(f[:])):\n",
    "        course = json.loads(f[i])\n",
    "        #print(mp[course[\"강의\"]],(scores_list[i]))\n",
    "        if course[column_name] == \"?\":\n",
    "            continue\n",
    "        score_sum[mp[course[column_name]]] += scores_list[subject_mp[column_name]][i]\n",
    "        numberof[mp[course[column_name]]] += 1;\n",
    "    \n",
    "\n",
    "for x in subjects_str:\n",
    "    print(x)\n",
    "    score_sum=[0 for j in range(7)]\n",
    "    numberof = [0 for j in range(7)]\n",
    "    calc_score_avg(x)\n",
    "    sorted_letters = sorted(mp.items(), key=lambda kv: score_sum[kv[1]]/numberof[kv[1]])[::-1]\n",
    "\n",
    "    for p,v in sorted_letters:\n",
    "        print(p,score_sum[v]/numberof[v])\n",
    "#     for k,v in mp.items():\n",
    "#         print(k,score_sum[v]/numberof[v])\n",
    "    print(\"-----------------------\")\n"
   ]
  },
  {
   "cell_type": "code",
   "execution_count": 27,
   "metadata": {},
   "outputs": [
    {
     "name": "stderr",
     "output_type": "stream",
     "text": [
      "c:\\users\\minkyu\\appdata\\local\\programs\\python\\python35\\lib\\site-packages\\gensim\\matutils.py:737: FutureWarning: Conversion of the second argument of issubdtype from `int` to `np.signedinteger` is deprecated. In future, it will be treated as `np.int32 == np.dtype(int).type`.\n",
      "  if np.issubdtype(vec.dtype, np.int):\n"
     ]
    }
   ],
   "source": [
    "def append_noun(s):\n",
    "    return \"('%s','Noun')\" % (s)\n",
    "\n",
    "naver_wv_categories = [\"강의\", \"부담\", \"성적\"]\n",
    "wv_update = {}\n",
    "for i in range(CATEGORY_COUNT):\n",
    "    for k,v in scores[i].items():\n",
    "        if append_noun(k) in pos_vectors.vocab:\n",
    "#             print(k,naver_wv_categories[i])\n",
    "#             print(pos_vectors.similarity(append_noun(k),append_noun(naver_wv_categories[i])))\n",
    "            wv_update[k] = pos_vectors.similarity(append_noun(k),append_noun(naver_wv_categories[i]))\n",
    "        "
   ]
  },
  {
   "cell_type": "code",
   "execution_count": 28,
   "metadata": {},
   "outputs": [
    {
     "data": {
      "text/plain": [
       "['강의', '널널', '성적']"
      ]
     },
     "execution_count": 28,
     "metadata": {},
     "output_type": "execute_result"
    }
   ],
   "source": [
    "subjects_str"
   ]
  },
  {
   "cell_type": "code",
   "execution_count": 29,
   "metadata": {},
   "outputs": [],
   "source": [
    "review_update = {}\n",
    "review_update_list = {}\n",
    "\n",
    "for i in range(len(f)):\n",
    "    line = f[i]\n",
    "    course = json.loads(line)\n",
    "\n",
    "    for j in range(CATEGORY_COUNT):\n",
    "        if course[subjects_str[j]] == \"?\":\n",
    "            continue\n",
    "        for k,v in scores[j].items():\n",
    "             if k in course[\"review_text\"]:\n",
    "                if k not in review_update_list:\n",
    "                    review_update_list[k] = []\n",
    "                review_update_list[k].append(calc_weight(course[subjects_str[j]]))\n",
    "\n",
    "for j in range(CATEGORY_COUNT):\n",
    "    for k,v in scores[j].items():\n",
    "        review_update[k] = 0\n",
    "        if k in review_update_list:\n",
    "            review_update[k] = sum(review_update_list[k])/len(review_update_list[k])\n"
   ]
  },
  {
   "cell_type": "code",
   "execution_count": 30,
   "metadata": {
    "scrolled": true
   },
   "outputs": [],
   "source": [
    "# review_update"
   ]
  },
  {
   "cell_type": "code",
   "execution_count": null,
   "metadata": {},
   "outputs": [],
   "source": []
  },
  {
   "cell_type": "code",
   "execution_count": 31,
   "metadata": {},
   "outputs": [],
   "source": [
    "def calc_aggregated_score(s, subject_str):\n",
    "    result = 0\n",
    "    for k,v in aggregated_scores[subject_mp[subject_str]].items():\n",
    "        if k in s:\n",
    "            result += v\n",
    "#     result=1.0/(1+math.exp(-result))\n",
    "    if len(s) == 0:\n",
    "        return 0\n",
    "    result =result*100.0/ math.log(len(s)+1,2)\n",
    "    result=math.tanh(result)\n",
    "    return result\n",
    "\n",
    "def calc_aggregated_score_sum(column_name):\n",
    "    for i in range(len(f[:])):\n",
    "        course = json.loads(f[i])\n",
    "        if course[column_name] == \"?\":\n",
    "            continue\n",
    "        score_sum[mp[course[column_name]]] += calc_aggregated_score(course[\"review_text\"], column_name)\n",
    "        numberof[mp[course[column_name]]] += 1;"
   ]
  },
  {
   "cell_type": "code",
   "execution_count": 32,
   "metadata": {},
   "outputs": [],
   "source": [
    "import matplotlib.pyplot as plt"
   ]
  },
  {
   "cell_type": "code",
   "execution_count": 34,
   "metadata": {},
   "outputs": [
    {
     "name": "stdout",
     "output_type": "stream",
     "text": [
      "강의\n"
     ]
    },
    {
     "data": {
      "image/png": "[encoded data removed]",
      "text/plain": [
       "<Figure size 432x288 with 1 Axes>"
      ]
     },
     "metadata": {},
     "output_type": "display_data"
    },
    {
     "name": "stdout",
     "output_type": "stream",
     "text": [
      "널널\n"
     ]
    },
    {
     "data": {
      "image/png": "[encoded data removed]",
      "text/plain": [
       "<Figure size 432x288 with 1 Axes>"
      ]
     },
     "metadata": {},
     "output_type": "display_data"
    },
    {
     "name": "stdout",
     "output_type": "stream",
     "text": [
      "성적\n"
     ]
    },
    {
     "data": {
      "image/png": "[encoded data removed]",
      "text/plain": [
       "<Figure size 432x288 with 1 Axes>"
      ]
     },
     "metadata": {},
     "output_type": "display_data"
    }
   ],
   "source": [
    "ALPHA = 0.8\n",
    "BETA = 0.1\n",
    "GAMMA = 1 - ALPHA - BETA\n",
    "#print(\"Alpha:\",alpha,\"Beta:\",beta,\"Gamma:\",GAMMA)\n",
    "aggregated_scores = [{} for i in range(CATEGORY_COUNT)]\n",
    "for i in range(CATEGORY_COUNT):\n",
    "    for k,v in scores[i].items():\n",
    "        aggregated_scores[i][k] = v*ALPHA\n",
    "        if k in review_update:\n",
    "            aggregated_scores[i][k] += review_update[k]*BETA\n",
    "\n",
    "        if k in wv_update:\n",
    "            aggregated_scores[i][k] += wv_update[k]*GAMMA\n",
    "\n",
    "for x in subjects_str:\n",
    "    print(x)\n",
    "    score_sum=[0 for j in range(7)]\n",
    "    numberof = [0 for j in range(7)]\n",
    "    calc_aggregated_score_sum(x)\n",
    "    x_plt_list = []\n",
    "    y_plt_list = []\n",
    "\n",
    "    sorted_letters = sorted(mp.items(), key=lambda kv: score_sum[kv[1]]/numberof[kv[1]])[::-1]\n",
    "\n",
    "    for k,v in sorted_letters:\n",
    "#             print(k,score_sum[v]/numberof[v])\n",
    "        x_plt_list.append(score_sum[v]/numberof[v])\n",
    "        y_plt_list.append(k)\n",
    "\n",
    "    plt.plot(y_plt_list,x_plt_list)\n",
    "    plt.show()\n",
    "#         break\n",
    "\n",
    "#         print(\"-----------------------\")            "
   ]
  },
  {
   "cell_type": "code",
   "execution_count": 35,
   "metadata": {
    "scrolled": true
   },
   "outputs": [],
   "source": [
    "# for i in range(CATEGORY_COUNT):\n",
    "#     with open(str(i) + \"_updated.txt\",\"w\",encoding=\"utf-8\") as out:\n",
    "#         for k,v in aggregated_scores[i].items():\n",
    "#             out.write(k+\"\\t\" + str(v) + \"\\n\")"
   ]
  },
  {
   "cell_type": "code",
   "execution_count": 95,
   "metadata": {},
   "outputs": [
    {
     "name": "stdout",
     "output_type": "stream",
     "text": [
      "강의\n",
      "D 0.46273985408147833\n",
      "C 0.5586320436181714\n",
      "A 0.7539024863335079\n",
      "B 0.621466019665712\n",
      "F -0.11055693152370247\n",
      "-----------------------\n",
      "널널\n",
      "D 0.5775467948137909\n",
      "C 0.7706307414701353\n",
      "A 0.8108153574654261\n",
      "B 0.7679361005348111\n",
      "F 0.08024878796220615\n",
      "-----------------------\n",
      "성적\n",
      "D 0.3490235125598429\n",
      "C 0.7635457088066958\n",
      "A 0.856110590705456\n",
      "B 0.8606185626740807\n",
      "F -5.963198189208794e-12\n",
      "-----------------------\n"
     ]
    }
   ],
   "source": [
    "threshholds = {}\n",
    "for x in subjects_str:\n",
    "    print(x)\n",
    "    score_sum=[0 for j in range(7)]\n",
    "    numberof = [0 for j in range(7)]\n",
    "    letter_avg = 0\n",
    "    i = 0 \n",
    "    calc_aggregated_score_sum(x)\n",
    "    for k,v in mp.items():\n",
    "        if k==\"C\":\n",
    "            i1 = score_sum[v]/numberof[v]\n",
    "        elif k==\"D\":\n",
    "            i2 = score_sum[v]/numberof[v]        \n",
    "        print(k,score_sum[v]/numberof[v])\n",
    "        letter_avg += score_sum[v]/numberof[v]\n",
    "        i+=1\n",
    "    threshholds[x] = (i1*4+i2)/5\n",
    "    letter_avg/= 5 \n",
    "    #threshholds[x] = letter_avg\n",
    "    print(\"-----------------------\")"
   ]
  },
  {
   "cell_type": "code",
   "execution_count": 96,
   "metadata": {},
   "outputs": [
    {
     "data": {
      "text/plain": [
       "{'강의': 0.5394536057108328, '널널': 0.7320139521388664, '성적': 0.6806412695573252}"
      ]
     },
     "execution_count": 96,
     "metadata": {},
     "output_type": "execute_result"
    }
   ],
   "source": [
    "threshholds"
   ]
  },
  {
   "cell_type": "code",
   "execution_count": 97,
   "metadata": {},
   "outputs": [],
   "source": [
    "# college_years = [\"freshman\",\"sophomore\",\"junior\",\"senior\"]\n",
    "# allowed_majors = [\"CS\"]\n",
    "# sentiment_mp = {True: \"pos\", False: \"neg\"}\n",
    "# subject_mp = {\"강의\":0,\"널널\":1,\"성적\":2}\n",
    "# rev_subject_mp = {0:\"강의\", 1:\"널널\", 2:\"성적\"}\n",
    "\n",
    "# def get_year(course_code):\n",
    "#     if int(course_code[-3]) - 1 < 4:\n",
    "#         return college_years[int(course_code[-3]) - 1]\n",
    "#     else:\n",
    "#         return \"graduate\"\n",
    "    \n",
    "# def flare_from_json(course, is_pos, category):\n",
    "#     course_code = course[\"course_code\"]\n",
    "#     course_name = course[\"course_name\"]\n",
    "#     result = \"\"\n",
    "#     if course_code[:2] not in allowed_majors:\n",
    "#         return \"\"\n",
    "#     result += get_year(course_code) + \"-\"\n",
    "#     result += course_code + \"-\"\n",
    "#     result += sentiment_mp[is_pos] + \"-\"\n",
    "#     result += category\n",
    "#     return result\n",
    "\n",
    "\n",
    "# count_reviews = {}\n",
    "# for i in range(len(f)):\n",
    "#     course = json.loads(f[i])\n",
    "#     for category in subjects_str:\n",
    "#         score = calc_aggregated_score(course[\"review_text\"],category)\n",
    "#         is_pos = score > threshholds[category]\n",
    "#         row = flare_from_json(course, is_pos,category)\n",
    "#         if row == \"\":\n",
    "#             continue\n",
    "#         if row not in count_reviews:\n",
    "#             count_reviews[row] = 0\n",
    "#         count_reviews[row] += 1\n",
    "# with open(\"csonly_reviews_withsentiment_in_flare.csv\",\"w\",encoding=\"utf-8\") as out:\n",
    "#     for k,v in count_reviews.items():\n",
    "#         out.write(k+','+str(v)+\"\\n\")"
   ]
  },
  {
   "cell_type": "code",
   "execution_count": 98,
   "metadata": {},
   "outputs": [],
   "source": [
    "def mingyu_calc_aggregated_score_sum(column_name,i):\n",
    "    course = json.loads(f[i])\n",
    "    return  calc_aggregated_score(course[\"review_text\"], column_name)"
   ]
  },
  {
   "cell_type": "code",
   "execution_count": 99,
   "metadata": {},
   "outputs": [
    {
     "name": "stdout",
     "output_type": "stream",
     "text": [
      "['강의', '널널', '성적']\n"
     ]
    }
   ],
   "source": [
    "pos = {}\n",
    "neg = {}\n",
    "PNS = {}\n",
    "course_list = []\n",
    "print(subjects_str)\n",
    "\n",
    "for i in range(len(f[:])):\n",
    "    course = json.loads(f[i])\n",
    "#     print(course[\"course_code\"]+\"\\t\",end=\"\")\n",
    "    if course[\"course_code\"] not in pos:\n",
    "        pos[course[\"course_code\"]] = [[0,0],[0,0],[0,0]]\n",
    "        neg[course[\"course_code\"]] = [[0,0],[0,0],[0,0]]\n",
    "        PNS[course[\"course_code\"]] = [[0,0],[0,0],[0,0]]#[0,0,0]\n",
    "        course_list.append(course[\"course_code\"])\n",
    "    for x in subjects_str:\n",
    "#             out.write(str(calc_aggregated_score_sum(x,i))+\"\\t\")\n",
    "#         print(str(calc_aggregated_score_sum(x,i))+\"\\t\",end=\"\")\n",
    "        sc = mingyu_calc_aggregated_score_sum(x,i)\n",
    "        if sc>threshholds[x]:\n",
    "            pos[course[\"course_code\"]][subject_mp[x]][0] += (sc - threshholds[x])*10\n",
    "            pos[course[\"course_code\"]][subject_mp[x]][1] += 1\n",
    "        else:\n",
    "            neg[course[\"course_code\"]][subject_mp[x]][0] -= (sc - threshholds[x])*10\n",
    "            neg[course[\"course_code\"]][subject_mp[x]][1] += 1\n"
   ]
  },
  {
   "cell_type": "code",
   "execution_count": 100,
   "metadata": {},
   "outputs": [
    {
     "name": "stdout",
     "output_type": "stream",
     "text": [
      "CS409\n",
      "[4.604320902875153, 1] [2.67985257041894, 1] [3.193587304426748, 1]\n",
      "[0, 0] [0, 0] [0, 0]\n",
      "CS310\n",
      "[17.899615107784662, 4] [7.9870793096487205, 3] [9.580761913280245, 3]\n",
      "[0, 0] [16.96427282733796, 1] [6.806412695573252, 1]\n",
      "CS204\n",
      "[193.42941620585353, 42] [120.59352295485367, 45] [146.90498772601475, 46]\n",
      "[83.09007986096059, 8] [56.542336007960756, 5] [27.22565078229301, 4]\n",
      "CS510\n",
      "[13.816391828675014, 3] [8.039581435819446, 3] [9.580761913280245, 3]\n",
      "[0, 0] [0, 0] [0, 0]\n",
      "CS476\n",
      "[4.552213261626591, 1] [0, 0] [3.193587281618997, 1]\n",
      "[0, 0] [17.32013951236944, 1] [0, 0]\n",
      "CS496\n",
      "[0, 0] [0, 0] [0, 0]\n",
      "[5.394536057108327, 1] [7.320139521388665, 1] [6.806412695573252, 1]\n",
      "CS270\n",
      "[13.81639162493243, 3] [5.358707477963041, 2] [9.580761910562172, 3]\n",
      "[0, 0] [17.320139520786192, 1] [0, 0]\n",
      "CS448\n",
      "[18.420817730512933, 4] [18.75826884641333, 7] [25.350508973151506, 8]\n",
      "[66.99414321880401, 7] [49.28055808555466, 4] [18.44840897930082, 3]\n",
      "CS101\n",
      "[229.8953753691894, 50] [163.4578430130302, 61] [188.42155663930498, 59]\n",
      "[99.03303644243908, 12] [17.320139517949492, 1] [40.41554732294789, 3]\n",
      "CS360\n",
      "[69.07685704441724, 15] [26.61219716006179, 10] [47.903808645680265, 15]\n",
      "[5.394536057108327, 1] [90.93746829799974, 6] [6.806412695573252, 1]\n",
      "CS422\n",
      "[9.210909745006962, 2] [5.357886916518703, 2] [6.387173862549355, 2]\n",
      "[0, 0] [0, 0] [0, 0]\n",
      "CS230\n",
      "[219.8721043148285, 48] [124.87552062311336, 47] [169.25993398284587, 53]\n",
      "[117.89633964728, 13] [181.84166859586065, 14] [114.45110981874606, 8]\n",
      "CS592\n",
      "[4.605463942891673, 1] [2.6798604786113356, 1] [3.193587304426748, 1]\n",
      "[5.394536057108327, 1] [7.320139521388665, 1] [6.806412695573252, 1]\n",
      "CS420\n",
      "[18.421670464840226, 4] [10.704720445176832, 4] [12.107439004794808, 4]\n",
      "[0, 0] [0, 0] [0, 0]\n",
      "CS442\n",
      "[13.816391828675018, 3] [8.03737766189071, 3] [9.580761913280245, 3]\n",
      "[0, 0] [0, 0] [0, 0]\n",
      "CS330\n",
      "[78.16107939072204, 17] [36.1103854351889, 14] [111.77473092091975, 35]\n",
      "[334.8276970047307, 28] [458.94216682520806, 31] [108.06404054473431, 10]\n",
      "CS494\n",
      "[0, 0] [2.6798604786112765, 1] [3.193587304425699, 1]\n",
      "[5.394536057108327, 1] [0, 0] [0, 0]\n",
      "CS520\n",
      "[4.605463942499059, 1] [2.679860466612797, 1] [3.193587304426748, 1]\n",
      "[0, 0] [0, 0] [0, 0]\n",
      "CS374\n",
      "[36.843711543130986, 8] [16.077702863110037, 6] [25.548698435413908, 8]\n",
      "[5.394536057108327, 1] [39.41395461000761, 3] [16.806171507916183, 1]\n",
      "CS966\n",
      "[0, 0] [0, 0] [0, 0]\n",
      "[5.394536057108327, 1] [7.320139521388665, 1] [6.806412695573252, 1]\n",
      "CS570\n",
      "[4.605463942891671, 1] [2.679860323363543, 1] [3.19357238091487, 1]\n",
      "[0, 0] [0, 0] [0, 0]\n",
      "CS350\n",
      "[32.08522554727441, 7] [13.399301912665209, 5] [25.548684888970104, 8]\n",
      "[31.57814422459213, 4] [88.43478210974283, 6] [20.41923808671976, 3]\n",
      "CS443\n",
      "[4.605463942836842, 1] [2.6798604786113356, 1] [3.193587304426748, 1]\n",
      "[0, 0] [0, 0] [0, 0]\n",
      "CS474\n",
      "[4.6054639428907205, 1] [0, 0] [0, 0]\n",
      "[5.394536057108327, 1] [24.64027904277733, 2] [23.611608586698765, 2]\n",
      "CS584\n",
      "[4.6054392823955626, 1] [0, 0] [3.193587304425871, 1]\n",
      "[0, 0] [17.315568007241694, 1] [0, 0]\n",
      "CS311\n",
      "[128.81340128974423, 28] [77.71595365991851, 29] [105.3875958291717, 33]\n",
      "[82.40454112808926, 11] [143.19806587010663, 10] [70.82079562674011, 6]\n",
      "CS322\n",
      "[69.08195654469512, 15] [47.01355825373037, 18] [63.871683518576404, 20]\n",
      "[73.64524054247036, 9] [56.10081554331114, 6] [45.81353465176328, 4]\n",
      "CS320\n",
      "[165.79564958393786, 36] [93.31513304668535, 35] [127.69594075980909, 40]\n",
      "[52.3654102200803, 6] [80.16696254894543, 7] [13.612825391146504, 2]\n",
      "CS660\n",
      "[9.210927885783297, 2] [2.531400363547168, 1] [3.193587304426748, 1]\n",
      "[0, 0] [17.18901615580931, 1] [6.806412695573252, 1]\n",
      "CS492\n",
      "[82.51804825078094, 18] [48.23746907263554, 18] [60.67815878406796, 19]\n",
      "[53.94536057108326, 10] [103.20138214560205, 10] [81.25436494578997, 9]\n",
      "CS341\n",
      "[78.28992394031371, 17] [40.934411301159344, 16] [60.6775843129959, 19]\n",
      "[26.183474266240708, 3] [59.26276534862744, 4] [6.806412695573252, 1]\n",
      "CS550\n",
      "[4.605463940605751, 1] [2.679738768282397, 1] [3.1935873030149766, 1]\n",
      "[0, 0] [0, 0] [0, 0]\n",
      "CS489\n",
      "[0, 0] [0, 0] [0, 0]\n",
      "[5.394536057108327, 1] [7.320139521388665, 1] [6.806412695573252, 1]\n",
      "CS459\n",
      "[4.605463942891673, 1] [2.6798604786113356, 1] [3.193587304426748, 1]\n",
      "[0, 0] [0, 0] [0, 0]\n",
      "CS206\n",
      "[231.5264330800412, 51] [145.48311812092453, 55] [188.4215366710487, 59]\n",
      "[143.78962425434582, 15] [114.75686085038983, 11] [76.62173138365075, 7]\n",
      "CS548\n",
      "[9.210927885783343, 2] [5.359720957222671, 2] [6.387174608853496, 2]\n",
      "[0, 0] [0, 0] [0, 0]\n",
      "CS380\n",
      "[46.054637706660095, 10] [24.118744307501682, 9] [31.93579937037104, 10]\n",
      "[5.394536057108327, 1] [14.64027904277733, 2] [6.806412695573252, 1]\n",
      "CS300\n",
      "[156.57458690216296, 34] [125.94372540125015, 47] [156.4857335990852, 49]\n",
      "[201.24997452136256, 19] [83.1908831236898, 6] [27.22565078229301, 4]\n",
      "CS470\n",
      "[13.8163918285296, 3] [10.719441860566613, 4] [15.96793652213374, 5]\n",
      "[20.789072114216655, 2] [17.31942240034742, 1] [0, 0]\n",
      "CS672\n",
      "[4.605463942891673, 1] [2.6798604786113356, 1] [3.193587304426748, 1]\n",
      "[0, 0] [0, 0] [0, 0]\n",
      "CS453\n",
      "[18.421855574924564, 4] [10.719439003788668, 4] [12.774348350303649, 4]\n",
      "[5.394536057108327, 1] [17.320139521219463, 1] [16.806412138102438, 1]\n",
      "CS402\n",
      "[18.42167668920448, 4] [10.719441914444943, 4] [12.774349217706993, 4]\n",
      "[18.54358246933767, 2] [14.64027904277733, 2] [13.612825391146504, 2]\n",
      "CS493\n",
      "[4.605463942891673, 1] [2.6798604786110958, 1] [3.193587304426748, 1]\n",
      "[0, 0] [0, 0] [0, 0]\n",
      "CS454\n",
      "[13.816391824793309, 3] [8.039581435824665, 3] [9.580761913280245, 3]\n",
      "[0, 0] [0, 0] [0, 0]\n",
      "CS202\n",
      "[54.75820339049885, 13] [24.118264908950803, 9] [35.12725507574217, 11]\n",
      "[5.394536057108327, 1] [64.66515665298945, 5] [38.3328132584646, 3]\n",
      "CS457\n",
      "[4.605463942891673, 1] [2.6798604785675186, 1] [3.193587304426748, 1]\n",
      "[0, 0] [0, 0] [0, 0]\n",
      "CS109\n",
      "[78.10783361502048, 17] [48.209164960892316, 18] [60.67815092167744, 19]\n",
      "[21.57814422843331, 4] [17.279088571885787, 3] [13.612825391146504, 2]\n",
      "CS500\n",
      "[4.605463936106856, 1] [13.398446622350061, 5] [15.967936005811664, 5]\n",
      "[46.972680209694694, 5] [7.320139521388665, 1] [6.806412695573252, 1]\n",
      "CS522\n",
      "[0, 0] [2.679761739389569, 1] [3.19358730441425, 1]\n",
      "[15.394535304708777, 1] [0, 0] [0, 0]\n",
      "CS211\n",
      "[59.1987091026462, 13] [32.15424566104153, 12] [41.4346099780648, 13]\n",
      "[30.38156825583588, 3] [59.27967626694003, 4] [30.419236886627232, 3]\n",
      "CS408\n",
      "[36.84371133254077, 8] [32.084099144311686, 12] [41.51591652904142, 13]\n",
      "[93.15628845686659, 8] [49.201031632501355, 4] [50.41923808671975, 3]\n",
      "CS220\n",
      "[55.262539603799475, 12] [40.193055676630564, 15] [47.903802656731095, 15]\n",
      "[52.03489982913701, 5] [24.639059716616167, 2] [13.612825391146504, 2]\n"
     ]
    }
   ],
   "source": [
    "with open(\"mingyu.txt\",\"w\",encoding=\"utf-8\") as out:\n",
    "    for k,v in pos.items():\n",
    "        print(k)\n",
    "        print(*pos[k])\n",
    "        print(*neg[k])"
   ]
  },
  {
   "cell_type": "code",
   "execution_count": 101,
   "metadata": {},
   "outputs": [],
   "source": [
    "for k,v in pos.items():\n",
    "    with open(\"../data/\"+k+\".csv\",\"w\",newline='') as file:\n",
    "        writer = csv.writer(file, delimiter=',')\n",
    "        writer.writerow([\"Course\",\"Pos\",\"Neg\"])\n",
    "        for subject in subjects_str :\n",
    "            if subject == \"강의\":\n",
    "                line = [\"Lecture\",str(pos[k][0][0]),str(neg[k][0][0])]\n",
    "            elif subject == \"널널\":\n",
    "                line = [\"Load\",str(pos[k][1][0]),str(neg[k][1][0])]\n",
    "            else:\n",
    "                line = [\"Grade\",str(pos[k][2][0]),str(neg[k][2][0])]\n",
    "            writer.writerow(line)\n",
    "            "
   ]
  },
  {
   "cell_type": "code",
   "execution_count": 102,
   "metadata": {},
   "outputs": [],
   "source": [
    "pos1 = {}\n",
    "neg1 = {}\n",
    "PNS1 = {}\n",
    "\n",
    "for i in range(len(f[:])):\n",
    "    course = json.loads(f[i])\n",
    "    key1 = course[\"course_code\"] +\" \"+ course[\"year\"] +\" \"+ course[\"semester\"]\n",
    "    if course[\"semester\"]!=\"봄\" and course[\"semester\"]!=\"가을\":\n",
    "        pass\n",
    "    else:\n",
    "        #print(course[\"course_code\"]+\"\\t\",end=\"\")\n",
    "        if key1 not in pos1:\n",
    "            pos1[key1] = [[0,0],[0,0],[0,0]]\n",
    "            neg1[key1] = [[0,0],[0,0],[0,0]]\n",
    "            PNS1[key1] = [[0,0],[0,0],[0,0]]#[0,0,0]\n",
    "        for x in subjects_str:\n",
    "    #             out.write(str(calc_aggregated_score_sum(x,i))+\"\\t\")\n",
    "            #print(str(calc_aggregated_score_sum(x,i))+\"\\t\",end=\"\")\n",
    "            sc = mingyu_calc_aggregated_score_sum(x,i)\n",
    "            if sc>0:\n",
    "                pos1[key1][subject_mp[x]][0] += (sc-threshholds[x])*10\n",
    "                pos1[key1][subject_mp[x]][1] += 1\n",
    "            else:\n",
    "                neg1[key1][subject_mp[x]][0] -= (sc-threshholds[x])*10\n",
    "                neg1[key1][subject_mp[x]][1] += 1\n",
    "        #print(\"\")\n",
    "        for x in subjects_str:\n",
    "#             pos_vir1 = pos1[key1][subject_mp[x]][1]\n",
    "#             neg_vir1 = neg1[key1][subject_mp[x]][1]\n",
    "#             if pos_vir1 == 0:\n",
    "#                 pos_vir1 = 1\n",
    "#             if neg_vir1 == 0:\n",
    "#                 neg_vir1 = 1\n",
    "            pos_sum1 = pos1[key1][subject_mp[x]][0]\n",
    "            pos_cnt1 = pos1[key1][subject_mp[x]][1]\n",
    "            neg_sum1 = neg1[key1][subject_mp[x]][0]\n",
    "            neg_cnt1 = neg1[key1][subject_mp[x]][1]\n",
    "            PNS1[key1][subject_mp[x]][0] = pos_sum1-neg_sum1"
   ]
  },
  {
   "cell_type": "code",
   "execution_count": 103,
   "metadata": {},
   "outputs": [],
   "source": [
    "for course_tmp in course_list:\n",
    "    L =[[\"Categories\",\"Lecture\",\"Load\",\"Grade\"]]\n",
    "    for i in range(2000,2019):\n",
    "        for k1,v1 in PNS1.items():\n",
    "            if k1[0:5] ==course_tmp and k1[6:10] == str(i):\n",
    "                if k1[11:] == \"봄\":\n",
    "                    L.append([k1[6:10]+\" Spring\",v1[0][0],v1[1][0],v1[2][0]])\n",
    "                if k1[11:] == \"가을\":\n",
    "                    L.append([k1[6:10]+\" Fall\",v1[0][0],v1[1][0],v1[2][0]])    \n",
    "    if(len(L)>2):\n",
    "        for idx in range(1,len(L)-1):\n",
    "            if int(L[idx][0][0:4])==int(L[idx+1][0][0:4]) and L[idx][0][5:]==\"Fall\" and L[idx+1][0][5:]==\"Spring\":\n",
    "                tmp = L[idx]\n",
    "                L[idx] = L[idx+1]\n",
    "                L[idx+1] = tmp\n",
    "    with open(\"../data/line/\"+course_tmp+\" line.csv\",\"w\",newline='') as file:\n",
    "        writer = csv.writer(file, delimiter=',')\n",
    "        for i in range(len(L)):\n",
    "            writer.writerow(L[i])"
   ]
  },
  {
   "cell_type": "code",
   "execution_count": null,
   "metadata": {},
   "outputs": [],
   "source": []
  },
  {
   "cell_type": "code",
   "execution_count": null,
   "metadata": {},
   "outputs": [],
   "source": []
  },
  {
   "cell_type": "code",
   "execution_count": null,
   "metadata": {},
   "outputs": [],
   "source": []
  },
  {
   "cell_type": "code",
   "execution_count": null,
   "metadata": {},
   "outputs": [],
   "source": []
  }
 ],
 "metadata": {
  "kernelspec": {
   "display_name": "Python 3",
   "language": "python",
   "name": "python3"
  },
  "language_info": {
   "codemirror_mode": {
    "name": "ipython",
    "version": 3
   },
   "file_extension": ".py",
   "mimetype": "text/x-python",
   "name": "python",
   "nbconvert_exporter": "python",
   "pygments_lexer": "ipython3",
   "version": "3.5.2"
  }
 },
 "nbformat": 4,
 "nbformat_minor": 2
}
