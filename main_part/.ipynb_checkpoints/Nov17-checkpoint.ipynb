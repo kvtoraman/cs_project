{
 "cells": [
  {
   "cell_type": "code",
   "execution_count": 11,
   "metadata": {},
   "outputs": [],
   "source": [
    "import json\n",
    "import numpy as np\n",
    "from konlpy.tag import Kkma\n",
    "from konlpy.utils import pprint\n",
    "import math\n",
    "\n",
    "LQ= open(\"LectureQuality.txt\", \"r\", encoding=\"utf-8\").readlines()\n",
    "Ld= open(\"Load.txt\", \"r\", encoding=\"utf-8\").readlines()\n",
    "Gd= open(\"Grade.txt\", \"r\", encoding=\"utf-8\").readlines()\n",
    "IF= open(\"InternationalFriendly.txt\", \"r\", encoding=\"utf-8\").readlines()"
   ]
  },
  {
   "cell_type": "code",
   "execution_count": 12,
   "metadata": {},
   "outputs": [],
   "source": [
    "scores = []\n",
    "subjects = [LQ, Ld, Gd]\n",
    "def add_to_dict(subject):\n",
    "    subject_scores={}\n",
    "    for i in range(len(subject)):\n",
    "        p = subject[i].split(\"\\t\")\n",
    "        subject_scores[p[0]] = float(p[1][:-1])\n",
    "    scores.append(subject_scores)\n",
    "\n",
    "for subject in subjects:\n",
    "    add_to_dict(subject)"
   ]
  },
  {
   "cell_type": "code",
   "execution_count": 13,
   "metadata": {},
   "outputs": [],
   "source": [
    "subject_mp = {\"강의\":0,\"널널\":1,\"성적\":2}\n",
    "def calculate_score(s, subject_str):\n",
    "    result = 0\n",
    "    for k,v in scores[subject_mp[subject_str]].items():\n",
    "        if k in s:\n",
    "            result += v\n",
    "    #result=1/(1+math.exp(-result))\n",
    "    result=math.tanh(result)\n",
    "    return result"
   ]
  },
  {
   "cell_type": "code",
   "execution_count": 14,
   "metadata": {},
   "outputs": [],
   "source": [
    "REVIEWS = \"cs_reviews\"\n",
    "\n",
    "f = open(\"../reviews_in_one_txt/\" + REVIEWS + \".txt\",\"r\",encoding=\"utf-8\").readlines()\n",
    "\n",
    "scores_list = []\n",
    "subjects_str = {\"강의\", \"널널\", \"성적\"}\n",
    "for subject_str in subjects_str:\n",
    "    scores_list_subject=[]\n",
    "    for i in range(len(f[:])):\n",
    "        line = f[i]\n",
    "        course = json.loads(line)\n",
    "        scores_list_subject.append(calculate_score(course[\"review_text\"], subject_str))\n",
    "    scores_list.append(scores_list_subject)\n"
   ]
  },
  {
   "cell_type": "code",
   "execution_count": 15,
   "metadata": {},
   "outputs": [],
   "source": [
    "f_count_word = {}\n",
    "mp = {\"A\":5,\"B\":4,\"C\":3,\"D\":2,\"F\":1}\n",
    "count_word = {}\n",
    "def calc_weight(s):\n",
    "    return 6 - 2*mp[s]\n",
    "\n",
    "for i in range(len(f)):\n",
    "    line = f[i]\n",
    "    course = json.loads(line)\n",
    "    if course[\"강의\"] == \"?\":\n",
    "        continue\n",
    "    words = course[\"review_text\"].split()\n",
    "    for w in words:\n",
    "        if w not in count_word:\n",
    "            count_word[w] = 0\n",
    "        count_word[w] += calc_weight(course[\"강의\"])\n",
    "        \n",
    "        \n",
    "#     if course[\"강의\"] == \"F\":\n",
    "#         words = course[\"review_text\"].split()\n",
    "#         for w in words:\n",
    "#             if w not in f_count_word:\n",
    "#                 f_count_word[w] = 0\n",
    "#             f_count_word[w] += 1\n",
    "#     else:\n",
    "#         words = course[\"review_text\"].split()\n",
    "#         for w in words:\n",
    "#             if w not in count_word:\n",
    "#                 count_word[w] = 0\n",
    "#         count_word[w] += 1"
   ]
  },
  {
   "cell_type": "code",
   "execution_count": 16,
   "metadata": {},
   "outputs": [],
   "source": [
    "sorted_by_value = sorted(count_word.items(), key=lambda kv: kv[1])[::-1]"
   ]
  },
  {
   "cell_type": "code",
   "execution_count": 17,
   "metadata": {},
   "outputs": [],
   "source": [
    "# sorted_by_value"
   ]
  },
  {
   "cell_type": "code",
   "execution_count": 18,
   "metadata": {},
   "outputs": [
    {
     "name": "stdout",
     "output_type": "stream",
     "text": [
      "성적\n",
      "A -0.005961045765132882\n",
      "B -0.10522973634678758\n",
      "C -0.14126067112300067\n",
      "D -0.1548596912691002\n",
      "F -0.028196474317843428\n",
      "-----------------------\n",
      "널널\n",
      "A -0.005855507869137973\n",
      "B 0.030833110333544272\n",
      "C 0.035340055462505945\n",
      "D -0.026851669929732473\n",
      "F -0.3033598280987441\n",
      "-----------------------\n",
      "강의\n",
      "A -0.07631325774649601\n",
      "B -0.1490552051351783\n",
      "C -0.07592370290614532\n",
      "D -0.07938423913275108\n",
      "F -0.05572212314856271\n",
      "-----------------------\n"
     ]
    }
   ],
   "source": [
    "score_sum=[0]*7\n",
    "numberof = [0]*7\n",
    "\n",
    "\n",
    "def calc_score_avg(column_name):\n",
    "    for i in range(len(f[:])):\n",
    "        course = json.loads(f[i])\n",
    "        #print(mp[course[\"강의\"]],(scores_list[i]))\n",
    "        if course[column_name] == \"?\":\n",
    "            continue\n",
    "            \n",
    "        score_sum[mp[course[column_name]]] += scores_list[subject_mp[column_name]][i]\n",
    "        numberof[mp[course[column_name]]] += 1;\n",
    "    \n",
    "\n",
    "for x in [\"성적\",\"널널\",\"강의\"]:\n",
    "    print(x)\n",
    "    score_sum=[0]*7\n",
    "    numberof = [0]*7\n",
    "    calc_score_avg(x)\n",
    "    for k,v in mp.items():\n",
    "        print(k,score_sum[v]/numberof[v])\n",
    "    print(\"-----------------------\")\n"
   ]
  },
  {
   "cell_type": "code",
   "execution_count": 160,
   "metadata": {},
   "outputs": [
    {
     "name": "stdout",
     "output_type": "stream",
     "text": [
      "성적\n",
      "A 0.021389200047688378\n",
      "B -0.04162664800371284\n",
      "C -0.07318202516971652\n",
      "D -0.32535825383649986\n",
      "F -0.2880167667951448\n",
      "-----------------------\n",
      "널널\n",
      "A 0.09484840132517845\n",
      "B -0.04685963802626572\n",
      "C -0.2622337094914021\n",
      "D -0.33851569397971554\n",
      "F -0.4073086596863776\n",
      "-----------------------\n",
      "강의\n",
      "A 0.0002212842846209949\n",
      "B -0.1014102281812562\n",
      "C -0.10905823205563112\n",
      "D -0.19677710171285037\n",
      "F -0.09337826885959352\n",
      "-----------------------\n"
     ]
    }
   ],
   "source": [
    "score_sum=[0]*7\n",
    "numberof = [0]*7\n",
    "\n",
    "\n",
    "def calc_score_avg(column_name):\n",
    "    for i in range(len(f[:])):\n",
    "        course = json.loads(f[i])\n",
    "        #print(mp[course[\"강의\"]],(scores_list[i]))\n",
    "        if course[column_name] == \"?\":\n",
    "            continue\n",
    "            \n",
    "        score_sum[mp[course[column_name]]] += scores_list[subject_mp[column_name]][i]\n",
    "        numberof[mp[course[column_name]]] += 1;\n",
    "    \n",
    "\n",
    "for x in [\"성적\",\"널널\",\"강의\"]:\n",
    "    print(x)\n",
    "    score_sum=[0]*7\n",
    "    numberof = [0]*7\n",
    "    calc_score_avg(x)\n",
    "    for k,v in mp.items():\n",
    "        print(k,score_sum[v]/numberof[v])\n",
    "    print(\"-----------------------\")\n"
   ]
  },
  {
   "cell_type": "code",
   "execution_count": null,
   "metadata": {},
   "outputs": [],
   "source": []
  },
  {
   "cell_type": "code",
   "execution_count": null,
   "metadata": {},
   "outputs": [],
   "source": []
  }
 ],
 "metadata": {
  "kernelspec": {
   "display_name": "Python 3",
   "language": "python",
   "name": "python3"
  },
  "language_info": {
   "codemirror_mode": {
    "name": "ipython",
    "version": 3
   },
   "file_extension": ".py",
   "mimetype": "text/x-python",
   "name": "python",
   "nbconvert_exporter": "python",
   "pygments_lexer": "ipython3",
   "version": "3.6.5"
  }
 },
 "nbformat": 4,
 "nbformat_minor": 2
}
