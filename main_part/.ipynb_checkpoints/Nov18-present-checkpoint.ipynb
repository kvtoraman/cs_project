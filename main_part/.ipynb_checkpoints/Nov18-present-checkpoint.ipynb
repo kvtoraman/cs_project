{
 "cells": [
  {
   "cell_type": "code",
   "execution_count": 1,
   "metadata": {},
   "outputs": [
    {
     "name": "stderr",
     "output_type": "stream",
     "text": [
      "C:\\Users\\kvtor\\Anaconda3\\lib\\site-packages\\gensim\\utils.py:1197: UserWarning: detected Windows; aliasing chunkize to chunkize_serial\n",
      "  warnings.warn(\"detected Windows; aliasing chunkize to chunkize_serial\")\n"
     ]
    }
   ],
   "source": [
    "from gensim.models.keyedvectors import KeyedVectors\n",
    "from gensim.models import word2vec\n",
    "pos_vectors = KeyedVectors.load_word2vec_format('../pos_naver_news.vec', binary=False)\n"
   ]
  },
  {
   "cell_type": "code",
   "execution_count": 24,
   "metadata": {},
   "outputs": [],
   "source": [
    "import json\n",
    "import numpy as np\n",
    "from konlpy.tag import Kkma\n",
    "from konlpy.utils import pprint\n",
    "import math\n",
    "\n",
    "l_quality= open(\"Lecture_quality.txt\", \"r\", encoding=\"utf-8\").readlines()\n",
    "load= open(\"Load.txt\", \"r\", encoding=\"utf-8\").readlines()\n",
    "grade= open(\"Grade.txt\", \"r\", encoding=\"utf-8\").readlines()\n",
    "int_friendly= open(\"international_friendly.txt\", \"r\", encoding=\"utf-8\").readlines()\n",
    "CATEGORY_COUNT = 3"
   ]
  },
  {
   "cell_type": "code",
   "execution_count": 25,
   "metadata": {},
   "outputs": [],
   "source": [
    "scores = []\n",
    "subjects = [l_quality, load, grade]\n",
    "def add_to_dict(subject):\n",
    "    subject_scores={}\n",
    "    for i in range(len(subject)):\n",
    "        p = subject[i].split(\"\\t\")\n",
    "        subject_scores[p[0]] = float(p[1][:-1])\n",
    "    scores.append(subject_scores)\n",
    "\n",
    "for subject in subjects:\n",
    "    add_to_dict(subject)"
   ]
  },
  {
   "cell_type": "code",
   "execution_count": 26,
   "metadata": {},
   "outputs": [],
   "source": [
    "subject_mp = {\"강의\":0,\"널널\":1,\"성적\":2}\n",
    "def calculate_score(s, subject_str):\n",
    "    result = 0\n",
    "    for k,v in scores[subject_mp[subject_str]].items():\n",
    "        if k in s:\n",
    "            result += v\n",
    "#     result=1.0/(1+math.exp(-result))\n",
    "    result=math.tanh(result)\n",
    "    return result"
   ]
  },
  {
   "cell_type": "code",
   "execution_count": 27,
   "metadata": {},
   "outputs": [],
   "source": [
    "REVIEWS = \"cs_reviews\"\n",
    "\n",
    "f = open(\"../reviews_in_one_txt/\" + REVIEWS + \".txt\",\"r\",encoding=\"utf-8\").readlines()\n",
    "\n",
    "scores_list = []\n",
    "subjects_str = [\"강의\", \"널널\", \"성적\"]\n",
    "for subject_str in subjects_str:\n",
    "    scores_list_subject=[]\n",
    "    for i in range(len(f[:])):\n",
    "        line = f[i]\n",
    "        course = json.loads(line)\n",
    "        scores_list_subject.append(calculate_score(course[\"review_text\"], subject_str))\n",
    "    scores_list.append(scores_list_subject)\n"
   ]
  },
  {
   "cell_type": "code",
   "execution_count": 28,
   "metadata": {},
   "outputs": [],
   "source": [
    "f_count_word = {}\n",
    "count_word = {}\n",
    "mp = {\"A\":5,\"B\":4,\"C\":3,\"D\":2,\"F\":1}\n",
    "\n",
    "def calc_weight(s):\n",
    "    return 3 - (mp[s])\n",
    "\n",
    "for i in range(len(f)):\n",
    "    line = f[i]\n",
    "    course = json.loads(line)\n",
    "    if course[\"강의\"] == \"?\":\n",
    "        continue\n",
    "    words = course[\"review_text\"].split()\n",
    "    for w in words:\n",
    "        if w not in count_word:\n",
    "            count_word[w] = 0\n",
    "        count_word[w] += calc_weight(course[\"강의\"])\n"
   ]
  },
  {
   "cell_type": "code",
   "execution_count": 29,
   "metadata": {},
   "outputs": [],
   "source": [
    "sorted_by_value = sorted(count_word.items(), key=lambda kv: kv[1])[::-1]"
   ]
  },
  {
   "cell_type": "code",
   "execution_count": 30,
   "metadata": {},
   "outputs": [],
   "source": [
    "# sorted_by_value"
   ]
  },
  {
   "cell_type": "code",
   "execution_count": null,
   "metadata": {},
   "outputs": [],
   "source": []
  },
  {
   "cell_type": "code",
   "execution_count": 31,
   "metadata": {},
   "outputs": [
    {
     "name": "stdout",
     "output_type": "stream",
     "text": [
      "강의\n",
      "A 0.11654140171441107\n",
      "B -0.11605949892652138\n",
      "C -0.14389836361025826\n",
      "D -0.3468267232471922\n",
      "F -0.35336293460933754\n",
      "-----------------------\n",
      "널널\n",
      "A 0.6492974124926542\n",
      "B 0.5444906360106355\n",
      "C 0.4577797871649972\n",
      "D 0.27807863658615634\n",
      "F -0.13546262635607484\n",
      "-----------------------\n",
      "성적\n",
      "A 0.7766436165804492\n",
      "B 0.7586327909212807\n",
      "C 0.6174620042184407\n",
      "D 0.30099574724343114\n",
      "F -0.04403226531526962\n",
      "-----------------------\n"
     ]
    }
   ],
   "source": [
    "score_sum=[0]*7\n",
    "numberof = [0]*7\n",
    "\n",
    "def calc_score_avg(column_name):\n",
    "    for i in range(len(f[:])):\n",
    "        course = json.loads(f[i])\n",
    "        #print(mp[course[\"강의\"]],(scores_list[i]))\n",
    "        if course[column_name] == \"?\":\n",
    "            continue\n",
    "        score_sum[mp[course[column_name]]] += scores_list[subject_mp[column_name]][i]\n",
    "        numberof[mp[course[column_name]]] += 1;\n",
    "    \n",
    "\n",
    "for x in subjects_str:\n",
    "    print(x)\n",
    "    score_sum=[0 for j in range(7)]\n",
    "    numberof = [0 for j in range(7)]\n",
    "    calc_score_avg(x)\n",
    "    for k,v in mp.items():\n",
    "        print(k,score_sum[v]/numberof[v])\n",
    "    print(\"-----------------------\")\n"
   ]
  },
  {
   "cell_type": "code",
   "execution_count": 32,
   "metadata": {},
   "outputs": [],
   "source": [
    "def append_noun(s):\n",
    "    return \"('%s','Noun')\" % (s)\n",
    "\n",
    "naver_wv_categories = [\"강의\", \"부담\", \"성적\"]\n",
    "wv_update = {}\n",
    "for i in range(CATEGORY_COUNT):\n",
    "    for k,v in scores[i].items():\n",
    "        if append_noun(k) in pos_vectors.vocab:\n",
    "#             print(k,naver_wv_categories[i])\n",
    "#             print(pos_vectors.similarity(append_noun(k),append_noun(naver_wv_categories[i])))\n",
    "            wv_update[k] = pos_vectors.similarity(append_noun(k),append_noun(naver_wv_categories[i]))\n",
    "        "
   ]
  },
  {
   "cell_type": "code",
   "execution_count": 33,
   "metadata": {},
   "outputs": [
    {
     "data": {
      "text/plain": [
       "['강의', '널널', '성적']"
      ]
     },
     "execution_count": 33,
     "metadata": {},
     "output_type": "execute_result"
    }
   ],
   "source": [
    "subjects_str"
   ]
  },
  {
   "cell_type": "code",
   "execution_count": 34,
   "metadata": {},
   "outputs": [],
   "source": [
    "review_update = {}\n",
    "for i in range(len(f)):\n",
    "    line = f[i]\n",
    "    course = json.loads(line)\n",
    "\n",
    "    for i in range(CATEGORY_COUNT):\n",
    "        if course[subjects_str[i]] == \"?\":\n",
    "            continue\n",
    "        for k,v in scores[i].items():\n",
    "             if k in course[\"review_text\"]:\n",
    "                if k not in review_update:\n",
    "                    review_update[k] = 0\n",
    "                review_update[k] += calc_weight(course[subjects_str[i]])*100.0/len(course[\"review_text\"])\n"
   ]
  },
  {
   "cell_type": "code",
   "execution_count": 35,
   "metadata": {
    "scrolled": true
   },
   "outputs": [],
   "source": [
    "# review_update"
   ]
  },
  {
   "cell_type": "code",
   "execution_count": 39,
   "metadata": {},
   "outputs": [],
   "source": [
    "aggregated_scores = [{} for i in range(CATEGORY_COUNT)]\n",
    "for i in range(CATEGORY_COUNT):\n",
    "    for k,v in scores[i].items():\n",
    "        aggregated_scores[i][k] = v\n",
    "        if k in review_update:\n",
    "            aggregated_scores[i][k] += review_update[k]*0.1\n",
    "        \n",
    "        if k in wv_update:\n",
    "            aggregated_scores[i][k] -= wv_update[k]*0.001\n",
    "            \n",
    "            "
   ]
  },
  {
   "cell_type": "code",
   "execution_count": 40,
   "metadata": {
    "scrolled": true
   },
   "outputs": [],
   "source": [
    "for i in range(CATEGORY_COUNT):\n",
    "    with open(str(i) + \"_updated.txt\",\"w\",encoding=\"utf-8\") as out:\n",
    "        for k,v in aggregated_scores[i].items():\n",
    "            out.write(k+\"\\t\" + str(v) + \"\\n\")"
   ]
  },
  {
   "cell_type": "code",
   "execution_count": null,
   "metadata": {},
   "outputs": [],
   "source": []
  },
  {
   "cell_type": "code",
   "execution_count": 41,
   "metadata": {},
   "outputs": [
    {
     "name": "stdout",
     "output_type": "stream",
     "text": [
      "강의\n",
      "A -0.6705017777239375\n",
      "B -0.6057859220238139\n",
      "C -0.7057979712216123\n",
      "D -0.6835689253722114\n",
      "F -0.5235110224257078\n",
      "-----------------------\n",
      "널널\n",
      "A -0.8942232079484879\n",
      "B -0.8754759228414557\n",
      "C -0.9176937659564446\n",
      "D -0.8863987966722301\n",
      "F -0.7256706681383641\n",
      "-----------------------\n",
      "성적\n",
      "A -0.886156768784073\n",
      "B -0.9209741589079626\n",
      "C -0.8598839936108104\n",
      "D -0.7785886388066273\n",
      "F -0.5713826147770382\n",
      "-----------------------\n"
     ]
    }
   ],
   "source": [
    "def calc_aggregated_score(s, subject_str):\n",
    "    result = 0\n",
    "    for k,v in aggregated_scores[subject_mp[subject_str]].items():\n",
    "        if k in s:\n",
    "            result += v\n",
    "#     result=1.0/(1+math.exp(-result))\n",
    "    result=math.tanh(result)\n",
    "    return result\n",
    "\n",
    "def calc_aggregated_score_sum(column_name):\n",
    "    for i in range(len(f[:])):\n",
    "        course = json.loads(f[i])\n",
    "        if course[column_name] == \"?\":\n",
    "            continue\n",
    "        score_sum[mp[course[column_name]]] += calc_aggregated_score(course[\"review_text\"], column_name)\n",
    "        numberof[mp[course[column_name]]] += 1;\n",
    "\n",
    "for x in subjects_str:\n",
    "    print(x)\n",
    "    score_sum=[0 for j in range(7)]\n",
    "    numberof = [0 for j in range(7)]\n",
    "    calc_aggregated_score_sum(x)\n",
    "    for k,v in mp.items():\n",
    "        print(k,score_sum[v]/numberof[v])\n",
    "    print(\"-----------------------\")"
   ]
  },
  {
   "cell_type": "code",
   "execution_count": null,
   "metadata": {},
   "outputs": [],
   "source": []
  }
 ],
 "metadata": {
  "kernelspec": {
   "display_name": "Python 3",
   "language": "python",
   "name": "python3"
  },
  "language_info": {
   "codemirror_mode": {
    "name": "ipython",
    "version": 3
   },
   "file_extension": ".py",
   "mimetype": "text/x-python",
   "name": "python",
   "nbconvert_exporter": "python",
   "pygments_lexer": "ipython3",
   "version": "3.6.5"
  }
 },
 "nbformat": 4,
 "nbformat_minor": 2
}
