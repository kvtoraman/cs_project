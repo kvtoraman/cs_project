{
 "cells": [
  {
   "cell_type": "code",
   "execution_count": 1,
   "metadata": {},
   "outputs": [],
   "source": [
    "from urllib.request import Request, urlopen\n",
    "from bs4 import BeautifulSoup\n",
    "from konlpy.tag import Kkma\n",
    "from konlpy.utils import pprint\n",
    "import json\n",
    "from pathlib import Path\n",
    "kkma = Kkma()\n"
   ]
  },
  {
   "cell_type": "code",
   "execution_count": 12,
   "metadata": {
    "scrolled": true
   },
   "outputs": [
    {
     "name": "stdout",
     "output_type": "stream",
     "text": [
      "2888\n",
      "=> course_code_name CS322 : 형식언어및오토마타\n",
      "=> prof_name 최광무\n",
      "=> year 2012\n",
      "=> semester 가을\n",
      "=> appended   오랜만에 한국어 강의가 개설되어 재미있게 들었습니다.학점은 한국어 강의니까 빡시게 주신다고 했는데 예상했던 만큼 딱 나왔습니다. 다른 전공과 크게 다르지 않은 수준.거의 매주 손으로 풀어야하는 숙제가 나오고 프로그래밍 프로젝트도 4~5개 있었는데 미루지 않고 꼬박꼬박 하면 할만합니다. 코딩 플젝은 스펙이 매우 자유로워서 당황스러울 수 있는데 그만큼 채점도 너그럽게 하시는 것 같습니다. 시험 공부할 양도 아주 많진 않아요.교수님께서 강의를 잘하셔서(특히 한국어강의여서) 집중해서 듣기만 하면 이해도 잘되고 남는것도 많았습니다. 수업중 딴얘기도 종종 하시는데 저에게는 개인적으로 유익했지만 이건 호불호가 갈리는듯...\n",
      "=> 성적 ?\n",
      "=> 널널 ?\n",
      "=> 강의 ?\n",
      "=> 종합 ?\n",
      "=> 추천 0\n",
      "2889\n",
      "=> course_code_name HSS111 : 한국근현대사\n",
      "=> prof_name 고동환\n",
      "=> year 2012\n",
      "=> semester 가을\n",
      "=> appended   재미있게 들었던 과목입니다. 교과서를 20페이지쯤 읽고 a4 5장 이내로 요약을 해야하는 과제가 10번쯤 나옵니다. 중간고사는 보고서로 대체했고 기말은 시험을 봤습니다. 전체적은 로드가 빡센편은 아니지만 시험 한방으로 성적이 결정되는 과목이 아닌 만큼 학기 내내 긴장하며 출석 잘 하고 과제 잘 내고 보고서도 신경써서 써야 합니다. 학점도 적절히 잘 주시는듯...교수님 강의 스타일이 차분하신 편이라 조금 졸릴수도 있지만, 잘 들어보면 학문적인 흥미를 유발하는 흥미로운 내용입니다. 근현대사를 다루다보니 정치색을 강하게 띈 수업(?)을 나름 기대했는데, 교과서는 좌편향된 느낌이 강하게 드는데 비해 강의는 그다지 그런 느낌이 들진 않았습니다.\n",
      "=> 성적 ?\n",
      "=> 널널 ?\n",
      "=> 강의 ?\n",
      "=> 종합 ?\n",
      "=> 추천 1\n",
      "2890\n",
      "=> course_code_name HSS111 : 한국근현대사\n",
      "=> prof_name 고동환\n",
      "=> year 2012\n",
      "=> semester 봄\n",
      "=> appended   남는게 많은 과목입니다.로드가 빡세진 않은데 레포트가 조금 귀찮고요교과서가 좌편향됬다는 느낌은 전혀 모르겠고,교수님이 여러 관점에서 근현대사를 설명해주시기 때문에 상당히 흥미롭습니다.\n",
      "=> 성적 ?\n",
      "=> 널널 ?\n",
      "=> 강의 ?\n",
      "=> 종합 ?\n",
      "=> 추천 0\n",
      "2891\n",
      "=> course_code_name HSS148 : Introduction to Sociology\n",
      "=> prof_name 윤정로\n",
      "=> year 2012\n",
      "=> semester 봄\n",
      "=> appended   수업 재밌습니다.책 읽고 조별발표하는것이 있었는데 굉장히 재밌었습니다.(필자는 발표 수업 원래 싫어함)아침수업이라 약간 졸립긴 한데 다들으면 시험도 어렵지 않게 볼수 있습니다\n",
      "=> 성적 ?\n",
      "=> 널널 ?\n",
      "=> 강의 ?\n",
      "=> 종합 ?\n",
      "=> 추천 0\n",
      "2892\n",
      "=> course_code_name CS493 : 전산학특강 I<고급알고리즘>\n",
      "=> prof_name 정지원\n",
      "=> year 2012\n",
      "=> semester 가을\n",
      "=> appended    오트 교수님은 원래 학점은 잘 주시고, 딱 1학점 정도의 로드입니다. 숙제 3번이고, 출석체크는 학기중에 한번 했지만 성적에는 크게 반영되지 않은듯 합니다. 사실 Network flow같이 알고리즘 수업때 다루지 않은 내용을 배우고 싶었지만 그런걸 가르치진 않았고, 수학적으로 알고리즘을 어떻게 설명하는가 (또는 증명하는가) 에 대한 내용을 주로 다뤘습니다. 시험은 기말 한번입니다. 알고리즘에 좀 관심있는분이 들으면 여유있게 1학점 챙기실 수 있을 듯.\n",
      "=> 성적 ?\n",
      "=> 널널 ?\n",
      "=> 강의 ?\n",
      "=> 종합 ?\n",
      "=> 추천 0\n",
      "2893\n",
      "=> course_code_name HSS211 : English Structure and Grammar\n",
      "=> prof_name 손근원\n",
      "=> year 2012\n",
      "=> semester 가을\n",
      "=> appended   영어에 관심이 많은 분들은 들으시면 좋을 것 같습니다. 한국 중,고등학교 영문법 교육과정에서 그냥 이유도 모르고 외우기만 했던 문법들을 '왜 하필 그렇게 사용하게 되었는가'에 대해 교수님께서 정말 재밌게 잘 설명해 주십니다. 한 학기 한번 발표도 할만 하고요, 퀴즈를 몇 번 보는데 난이도는 어렵지 않습니다. 시험 역시 마찬가지고요. 수업을 열심히 듣고 공부를 좀 한다면 좋은 성적 받으실 수 있습니다. 교수님도 무척 친절하시고 좋습니다.\n",
      "=> 성적 ?\n",
      "=> 널널 ?\n",
      "=> 강의 ?\n",
      "=> 종합 ?\n",
      "=> 추천 0\n",
      "2894\n",
      "=> course_code_name EE509 : 연구논문작성법\n",
      "=> prof_name 윤준보\n",
      "=> year 2012\n",
      "=> semester 가을\n",
      "=> appended   전자과 석사 필수 과목으로 알고 있는데, 다른 과 학생들도 수강 가능합니다. 대학원 생활 전반에 대한 이야기를 해 주십니다. 연구 주제 잡는 법, 발표 잘하는 법, 교수님께 이메일 보내는 법 등 대학원 생활은 물론 학부 생활에도 유익한 것들을 가르쳐 주십니다. 편하게 교수님의 이야기를 듣는 스타일의 수업인 데다가 패스페일이라 전혀 부담없이 들을 수 있습니다. 수업을 열심히 들으면 남는 것도 많은 것 같습니다. \n",
      "=> 성적 ?\n",
      "=> 널널 ?\n",
      "=> 강의 ?\n",
      "=> 종합 ?\n",
      "=> 추천 1\n",
      "2895\n",
      "=> course_code_name HSS362 : Special Lectures on Art<Art and Science of Music: Do you really understand Music?>\n",
      "=> prof_name 정호\n",
      "=> year 2012\n",
      "=> semester 봄\n",
      "=> appended   클래식 음악을 많이 들어보고 싶으신 분들께 추천드립니다. 교수님께서 굉장히 인자하시고 친절하십니다. 좋은 클래식 음악을 함께 감상하는 시간이 주가 되고요, 중간기말 시험을 보는데 곡을 듣고 제목을 맞추는 것 외에 수업 내용에서 몇 문제 정도 나오는데, 교수님께서 점수를 굉장히 후하게 주시는 편입니다. 발표 한 번 있는 것도 부담없이 자유 주제로 음악에 관한 것을 발표하면 됩니다. \n",
      "=> 성적 ?\n",
      "=> 널널 ?\n",
      "=> 강의 ?\n",
      "=> 종합 ?\n",
      "=> 추천 0\n",
      "2896\n",
      "=> course_code_name HSS175 : German Conversation\n",
      "=> prof_name 홍명순\n",
      "=> year 2012\n",
      "=> semester 봄\n",
      "=> appended   독일어 예전부터 배워보고 싶어서 들었는데, 딱 맛보기 정도 잘 한 것 같습니다. 출석체크를 질의응답으로 하시기 때문에 매시간 긴장의 끈을 놓을 수가 없습니다. 배운 내용 복습 그날 그날 해야되구요. 시험 난이도 자체는 크게 어렵지 않으나, 평소에 단어 같은 것을 외워 놓지 않으면 시험 전에 외워야 할 양이 좀 많을 수 있습니다. 수업 시간에 대답 못하면 점수가 깎이기도 하구요. 수업 자체는 굉장히 재미있고, 교수님도 좋으십니다. 기본반이라 듣고 나서 독일어로 술술 말하거나 할 수는 없지만, 나중에 다시 독일어를 배우게 된다고 해도 도움이 될 것이라 생각됩니다. \n",
      "=> 성적 ?\n",
      "=> 널널 ?\n",
      "=> 강의 ?\n",
      "=> 종합 ?\n",
      "=> 추천 0\n",
      "2897\n",
      "=> course_code_name HSS484 : 정책특강<발전 및 성장의 한계>\n",
      "=> prof_name 서정욱\n",
      "=> year 2012\n",
      "=> semester 가을\n",
      "=> appended   1학점이지만 학점을 매기는 과목입니다. 교수님이 구체적으로 설명해주시기보다는 약간만 설명해주시고 학생들이 '발전과 성장'과 '재해'라는 구체적이지 않은 주제에 대해 각자 자유롭게 발표하는 시간을 가졌습니다.교수님께서 약간 나이가 많으셔서 그런지 같은 말을 반복하시는 게 느껴집니다. 한 학기에 발표자료 2개와 레포트 한 편만 작성하면 됩니다. 출석5번 다 나오고 과제만 적당히 제출하면 A는 주십니다. 그렇지만 다른 정책기술학 전공과목을 듣지 않았다면 남는 게 별로 없는 수업인 거 같습니다.\n",
      "=> 성적 ?\n",
      "=> 널널 ?\n",
      "=> 강의 ?\n",
      "=> 종합 ?\n",
      "=> 추천 0\n"
     ]
    }
   ],
   "source": [
    "PRINT = 1\n",
    "def ifprint(this_course, x):\n",
    "    if PRINT:\n",
    "        print(\"=>\",x,this_course[x])\n",
    "        \n",
    "folderpath = Path(\"reviews/\")        \n",
    "def parse(url_id):\n",
    "    if url_id % 100 == 0:\n",
    "        print(url_id)\n",
    "    \n",
    "    filename = folderpath / (str(url_id) + \".txt\")\n",
    "    \n",
    "    if filename.exists():\n",
    "        print(str(url_id) + \" does exist\")\n",
    "        return True\n",
    "    target_url = \"https://otl.kaist.ac.kr/review/result/comment/\" + str(url_id) + \"/\"\n",
    "    target_request = Request(target_url)\n",
    "    response = urlopen(target_request)\n",
    "    response_text = response.read()\n",
    "    soup = BeautifulSoup(response_text, \"lxml\")\n",
    "    some_str = soup.find(id=\"contents\").div.div.text\n",
    "    if \"없어용\" in some_str:\n",
    "        return False\n",
    "    print(url_id)\n",
    "    this_course = {}\n",
    "    this_course[\"course_code_name\"] = soup.select(\"#\" + str(url_id) + \" > h4\")[0].text\n",
    "    ifprint(this_course, \"course_code_name\")\n",
    "    prof_name_year_semester_str = soup.select(\"#\" + str(url_id) + \" > h4 > small\")[0].text\n",
    "    prof_name_year_semester_and_others = prof_name_year_semester_str.strip().split()\n",
    "    prof_name_year_semester = []\n",
    "    for e in prof_name_year_semester_and_others:\n",
    "        if e != \"\":\n",
    "            prof_name_year_semester.append(e)\n",
    "    this_course[\"prof_name\"] = prof_name_year_semester[0]\n",
    "    this_course[\"year\"] = prof_name_year_semester[1]\n",
    "    this_course[\"semester\"] = prof_name_year_semester[2]\n",
    "    \n",
    "    ifprint(this_course, \"prof_name\")\n",
    "    ifprint(this_course, \"year\")\n",
    "    ifprint(this_course, \"semester\")\n",
    "    \n",
    "    content = soup.select(\"#\" + str(url_id) + \" > p\")\n",
    "    appended = \"\"\n",
    "    for p in content:\n",
    "#         print(p.text)\n",
    "        appended += \" \" + p.text\n",
    "    this_course[\"appended\"] = appended\n",
    "    ifprint(this_course, \"appended\")\n",
    "        \n",
    "    letter_eval = soup.select(\"#contents > div > div > div > div > div > div:nth-of-type(5) > span > div > div\")\n",
    "    \n",
    "    for letter in letter_eval:\n",
    "        this_course[letter.text.strip().split(\"&\")[0]] = letter.span.text\n",
    "        ifprint(this_course, letter.text.strip().split(\"&\")[0])\n",
    "    \n",
    "\n",
    "    \n",
    "    with open(filename, \"w\",encoding='utf-8') as out:\n",
    "        json.dump(this_course, out,ensure_ascii=False)\n",
    "        \n",
    "    return True\n",
    "START_ID = 2888 #2888\n",
    "END_ID = 10000\n",
    "TOTAL_REVIEWS = 10\n",
    "current_reviews = 0\n",
    "current_id = START_ID\n",
    "while current_reviews < TOTAL_REVIEWS and current_id < END_ID: # try different IDs\n",
    "    result = parse(current_id)\n",
    "    if result:\n",
    "        current_reviews += 1\n",
    "    current_id += 1"
   ]
  },
  {
   "cell_type": "code",
   "execution_count": 10,
   "metadata": {},
   "outputs": [
    {
     "data": {
      "text/plain": [
       "1220"
      ]
     },
     "execution_count": 10,
     "metadata": {},
     "output_type": "execute_result"
    }
   ],
   "source": [
    "current_reviews"
   ]
  },
  {
   "cell_type": "code",
   "execution_count": 7,
   "metadata": {},
   "outputs": [
    {
     "data": {
      "text/plain": [
       "4214"
      ]
     },
     "execution_count": 7,
     "metadata": {},
     "output_type": "execute_result"
    }
   ],
   "source": [
    "current_reviews"
   ]
  },
  {
   "cell_type": "code",
   "execution_count": 8,
   "metadata": {},
   "outputs": [
    {
     "data": {
      "text/plain": [
       "0"
      ]
     },
     "execution_count": 8,
     "metadata": {},
     "output_type": "execute_result"
    }
   ],
   "source": [
    "len(mp)"
   ]
  },
  {
   "cell_type": "code",
   "execution_count": null,
   "metadata": {},
   "outputs": [],
   "source": [
    "sorted_mp = sorted(mp.items(), key=lambda kv: -kv[1])"
   ]
  },
  {
   "cell_type": "code",
   "execution_count": null,
   "metadata": {},
   "outputs": [],
   "source": [
    "sorted_mp[:10]"
   ]
  },
  {
   "cell_type": "code",
   "execution_count": null,
   "metadata": {},
   "outputs": [],
   "source": []
  }
 ],
 "metadata": {
  "kernelspec": {
   "display_name": "Python 3",
   "language": "python",
   "name": "python3"
  },
  "language_info": {
   "codemirror_mode": {
    "name": "ipython",
    "version": 3
   },
   "file_extension": ".py",
   "mimetype": "text/x-python",
   "name": "python",
   "nbconvert_exporter": "python",
   "pygments_lexer": "ipython3",
   "version": "3.6.5"
  }
 },
 "nbformat": 4,
 "nbformat_minor": 2
}
