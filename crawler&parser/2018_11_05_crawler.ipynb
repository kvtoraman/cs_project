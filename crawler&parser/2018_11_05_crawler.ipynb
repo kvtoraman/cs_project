{
 "cells": [
  {
   "cell_type": "code",
   "execution_count": 4,
   "metadata": {},
   "outputs": [],
   "source": [
    "from urllib.request import Request, urlopen\n",
    "from bs4 import BeautifulSoup\n",
    "from konlpy.tag import Kkma\n",
    "from konlpy.utils import pprint\n",
    "import json\n",
    "from pathlib import Path\n",
    "kkma = Kkma()\n"
   ]
  },
  {
   "cell_type": "code",
   "execution_count": 11,
   "metadata": {
    "scrolled": true
   },
   "outputs": [
    {
     "name": "stdout",
     "output_type": "stream",
     "text": [
      "2900\n",
      "3000\n",
      "3100\n",
      "3200\n",
      "3300\n",
      "3400\n",
      "3500\n",
      "3600\n",
      "3700\n",
      "3800\n",
      "3900\n",
      "4000\n",
      "4100\n",
      "4200\n",
      "4300\n",
      "4400\n",
      "4500\n",
      "4600\n",
      "4700\n",
      "4800\n",
      "4900\n",
      "5000\n",
      "5100\n",
      "5200\n",
      "5300\n",
      "5400\n",
      "5500\n",
      "5600\n",
      "5700\n",
      "5800\n",
      "5900\n",
      "6000\n",
      "6100\n",
      "6200\n",
      "6300\n",
      "6400\n",
      "6500\n",
      "6600\n",
      "6700\n",
      "6800\n",
      "6900\n",
      "7000\n",
      "7100\n",
      "7200\n",
      "7300\n",
      "7400\n",
      "7500\n",
      "7600\n",
      "7700\n",
      "7800\n",
      "7900\n",
      "8000\n",
      "8100\n",
      "8200\n",
      "8300\n",
      "8400\n",
      "8500\n",
      "8600\n",
      "8700\n",
      "8800\n",
      "8900\n",
      "9000\n",
      "9100\n",
      "9200\n",
      "9300\n",
      "9400\n",
      "9500\n",
      "9600\n",
      "9700\n",
      "9800\n",
      "9900\n"
     ]
    }
   ],
   "source": [
    "PRINT = 0\n",
    "def ifprint(this_course, x):\n",
    "    if PRINT:\n",
    "        print(\"=>\",x,this_course[x])\n",
    "          \n",
    "def parse(url_id, out):\n",
    "    if url_id % 100 == 0:\n",
    "        print(url_id)\n",
    "\n",
    "    target_url = \"https://otl.kaist.ac.kr/review/result/comment/\" + str(url_id) + \"/\"\n",
    "    target_request = Request(target_url)\n",
    "    response = urlopen(target_request)\n",
    "    response_text = response.read()\n",
    "    soup = BeautifulSoup(response_text, \"lxml\")\n",
    "    some_str = soup.find(id=\"contents\").div.div.text\n",
    "    if \"없어용\" in some_str:\n",
    "        return False\n",
    "#     print(url_id)\n",
    "    this_course = {}\n",
    "    this_course[\"course_code_name\"] = soup.select(\"#\" + str(url_id) + \" > h4\")[0].text\n",
    "    ifprint(this_course, \"course_code_name\")\n",
    "    prof_name_year_semester_str = soup.select(\"#\" + str(url_id) + \" > h4 > small\")[0].text\n",
    "    prof_name_year_semester_and_others = prof_name_year_semester_str.strip().split()\n",
    "    prof_name_year_semester = []\n",
    "    for e in prof_name_year_semester_and_others:\n",
    "        if e != \"\":\n",
    "            prof_name_year_semester.append(e)\n",
    "    this_course[\"prof_name\"] = prof_name_year_semester[0]\n",
    "    this_course[\"year\"] = prof_name_year_semester[1]\n",
    "    this_course[\"semester\"] = prof_name_year_semester[2]\n",
    "    \n",
    "    ifprint(this_course, \"prof_name\")\n",
    "    ifprint(this_course, \"year\")\n",
    "    ifprint(this_course, \"semester\")\n",
    "    \n",
    "    content = soup.select(\"#\" + str(url_id) + \" > p\")\n",
    "    appended = \"\"\n",
    "    for p in content:\n",
    "        appended += \" \" + p.text\n",
    "    this_course[\"review_text\"] = appended.strip()\n",
    "    ifprint(this_course, \"review_text\")\n",
    "        \n",
    "    letter_eval = soup.select(\"#contents > div > div > div > div > div > div:nth-of-type(5) > span > div > div\")\n",
    "    \n",
    "    for letter in letter_eval:\n",
    "        this_course[letter.text.strip().split(\"&\")[0]] = letter.span.text\n",
    "        ifprint(this_course, letter.text.strip().split(\"&\")[0])\n",
    "    \n",
    "    column_splitted = this_course[\"course_code_name\"].split(\":\")\n",
    "    (course_code,course_name) = column_splitted[0],\":\".join(column_splitted[1:])\n",
    "    this_course[\"course_code\"] = course_code.strip()\n",
    "    this_course[\"course_name\"] = course_name.strip()\n",
    "    this_course[\"url_id\"] = url_id\n",
    "    del this_course[\"course_code_name\"]\n",
    "    json.dump(this_course, out,ensure_ascii=False)\n",
    "    out.write(\"\\n\")\n",
    "    return True\n",
    "START_ID = 2888 #2888\n",
    "END_ID = 10000\n",
    "TOTAL_REVIEWS = 8000\n",
    "current_reviews = 0\n",
    "current_id = START_ID\n",
    "with open(\"reviews_2nd_crawling.txt\",\"w\",encoding=\"utf-8\") as out:\n",
    "    while current_reviews < TOTAL_REVIEWS and current_id < END_ID: # try different IDs\n",
    "        result = parse(current_id, out)\n",
    "        if result:\n",
    "            current_reviews += 1\n",
    "        current_id += 1"
   ]
  },
  {
   "cell_type": "code",
   "execution_count": 10,
   "metadata": {},
   "outputs": [
    {
     "data": {
      "text/plain": [
       "1220"
      ]
     },
     "execution_count": 10,
     "metadata": {},
     "output_type": "execute_result"
    }
   ],
   "source": [
    "current_reviews"
   ]
  },
  {
   "cell_type": "code",
   "execution_count": 7,
   "metadata": {},
   "outputs": [
    {
     "data": {
      "text/plain": [
       "4214"
      ]
     },
     "execution_count": 7,
     "metadata": {},
     "output_type": "execute_result"
    }
   ],
   "source": [
    "current_reviews"
   ]
  },
  {
   "cell_type": "code",
   "execution_count": 8,
   "metadata": {},
   "outputs": [
    {
     "data": {
      "text/plain": [
       "0"
      ]
     },
     "execution_count": 8,
     "metadata": {},
     "output_type": "execute_result"
    }
   ],
   "source": [
    "len(mp)"
   ]
  },
  {
   "cell_type": "code",
   "execution_count": null,
   "metadata": {},
   "outputs": [],
   "source": [
    "sorted_mp = sorted(mp.items(), key=lambda kv: -kv[1])"
   ]
  },
  {
   "cell_type": "code",
   "execution_count": null,
   "metadata": {},
   "outputs": [],
   "source": [
    "sorted_mp[:10]"
   ]
  },
  {
   "cell_type": "code",
   "execution_count": null,
   "metadata": {},
   "outputs": [],
   "source": []
  }
 ],
 "metadata": {
  "kernelspec": {
   "display_name": "Python 3",
   "language": "python",
   "name": "python3"
  },
  "language_info": {
   "codemirror_mode": {
    "name": "ipython",
    "version": 3
   },
   "file_extension": ".py",
   "mimetype": "text/x-python",
   "name": "python",
   "nbconvert_exporter": "python",
   "pygments_lexer": "ipython3",
   "version": "3.6.5"
  }
 },
 "nbformat": 4,
 "nbformat_minor": 2
}
