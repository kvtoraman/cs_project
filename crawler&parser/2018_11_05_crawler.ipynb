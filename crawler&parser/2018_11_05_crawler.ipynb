{
 "cells": [
  {
   "cell_type": "code",
   "execution_count": 1,
   "metadata": {},
   "outputs": [],
   "source": [
    "from urllib.request import Request, urlopen\n",
    "from bs4 import BeautifulSoup\n",
    "import json\n",
    "from pathlib import Path\n"
   ]
  },
  {
   "cell_type": "code",
   "execution_count": 5,
   "metadata": {
    "scrolled": true
   },
   "outputs": [
    {
     "name": "stdout",
     "output_type": "stream",
     "text": [
      "8800\n",
      "8900\n",
      "9000\n",
      "9100\n",
      "9200\n",
      "9300\n",
      "9400\n",
      "9500\n",
      "9600\n",
      "9700\n",
      "9800\n",
      "9900\n"
     ]
    }
   ],
   "source": [
    "PRINT = 0\n",
    "def ifprint(this_course, x):\n",
    "    if PRINT:\n",
    "        print(\"=>\",x,this_course[x])\n",
    "          \n",
    "def parse(url_id, out):\n",
    "    if url_id % 100 == 0:\n",
    "        print(url_id)\n",
    "\n",
    "    target_url = \"https://otl.kaist.ac.kr/review/result/comment/\" + str(url_id) + \"/\"\n",
    "    target_request = Request(target_url)\n",
    "    response = urlopen(target_request)\n",
    "    response_text = response.read()\n",
    "    soup = BeautifulSoup(response_text, \"lxml\")\n",
    "    some_str = soup.find(id=\"contents\").div.div.text\n",
    "    if \"없어용\" in some_str:\n",
    "        return False\n",
    "#     print(url_id)\n",
    "    this_course = {}\n",
    "    this_course[\"course_code_name\"] = soup.select(\"#\" + str(url_id) + \" > h4\")[0].text\n",
    "    ifprint(this_course, \"course_code_name\")\n",
    "    prof_name_year_semester_str = soup.select(\"#\" + str(url_id) + \" > h4 > small\")[0].text\n",
    "    prof_name_year_semester_and_others = prof_name_year_semester_str.strip().split()\n",
    "    prof_name_year_semester = []\n",
    "    for e in prof_name_year_semester_and_others:\n",
    "        if e != \"\":\n",
    "            prof_name_year_semester.append(e)\n",
    "    this_course[\"prof_name\"] = \" \".join(prof_name_year_semester[:-2])\n",
    "    this_course[\"year\"] = prof_name_year_semester[-2]\n",
    "    this_course[\"semester\"] = prof_name_year_semester[-1]\n",
    "    \n",
    "    ifprint(this_course, \"prof_name\")\n",
    "    ifprint(this_course, \"year\")\n",
    "    ifprint(this_course, \"semester\")\n",
    "    \n",
    "    content = soup.select(\"#\" + str(url_id) + \" > p\")\n",
    "    appended = \"\"\n",
    "    for p in content:\n",
    "        appended += \" \" + p.text\n",
    "    this_course[\"review_text\"] = appended.strip()\n",
    "    ifprint(this_course, \"review_text\")\n",
    "        \n",
    "    letter_eval = soup.select(\"#contents > div > div > div > div > div > div:nth-of-type(5) > span > div > div\")\n",
    "    \n",
    "    for letter in letter_eval:\n",
    "        this_course[letter.text.strip().split(\"&\")[0]] = letter.span.text\n",
    "        ifprint(this_course, letter.text.strip().split(\"&\")[0])\n",
    "    \n",
    "    column_splitted = this_course[\"course_code_name\"].split(\":\")\n",
    "    (course_code,course_name) = column_splitted[0],\":\".join(column_splitted[1:])\n",
    "    this_course[\"course_code\"] = course_code.strip()\n",
    "    this_course[\"course_name\"] = course_name.strip()\n",
    "    this_course[\"url_id\"] = url_id\n",
    "    del this_course[\"course_code_name\"]\n",
    "    json.dump(this_course, out,ensure_ascii=False)\n",
    "    out.write(\"\\n\")\n",
    "    return True\n",
    "START_ID = 8798 #2888\n",
    "END_ID = 10000\n",
    "TOTAL_REVIEWS = 8000\n",
    "current_reviews = 0\n",
    "current_id = START_ID\n",
    "with open(\"reviews_3nd_crawling.txt\",\"w\",encoding=\"utf-8\") as out:\n",
    "    while current_reviews < TOTAL_REVIEWS and current_id < END_ID: # try different IDs\n",
    "        result = parse(current_id, out)\n",
    "        if result:\n",
    "            current_reviews += 1\n",
    "        current_id += 1"
   ]
  },
  {
   "cell_type": "code",
   "execution_count": 4,
   "metadata": {},
   "outputs": [
    {
     "data": {
      "text/plain": [
       "4991"
      ]
     },
     "execution_count": 4,
     "metadata": {},
     "output_type": "execute_result"
    }
   ],
   "source": [
    "current_reviews"
   ]
  },
  {
   "cell_type": "code",
   "execution_count": 7,
   "metadata": {},
   "outputs": [
    {
     "data": {
      "text/plain": [
       "4214"
      ]
     },
     "execution_count": 7,
     "metadata": {},
     "output_type": "execute_result"
    }
   ],
   "source": [
    "current_reviews"
   ]
  },
  {
   "cell_type": "code",
   "execution_count": 8,
   "metadata": {},
   "outputs": [
    {
     "data": {
      "text/plain": [
       "0"
      ]
     },
     "execution_count": 8,
     "metadata": {},
     "output_type": "execute_result"
    }
   ],
   "source": [
    "len(mp)"
   ]
  },
  {
   "cell_type": "code",
   "execution_count": null,
   "metadata": {},
   "outputs": [],
   "source": [
    "sorted_mp = sorted(mp.items(), key=lambda kv: -kv[1])"
   ]
  },
  {
   "cell_type": "code",
   "execution_count": null,
   "metadata": {},
   "outputs": [],
   "source": [
    "sorted_mp[:10]"
   ]
  },
  {
   "cell_type": "code",
   "execution_count": null,
   "metadata": {},
   "outputs": [],
   "source": []
  }
 ],
 "metadata": {
  "kernelspec": {
   "display_name": "Python 3",
   "language": "python",
   "name": "python3"
  },
  "language_info": {
   "codemirror_mode": {
    "name": "ipython",
    "version": 3
   },
   "file_extension": ".py",
   "mimetype": "text/x-python",
   "name": "python",
   "nbconvert_exporter": "python",
   "pygments_lexer": "ipython3",
   "version": "3.6.5"
  }
 },
 "nbformat": 4,
 "nbformat_minor": 2
}
