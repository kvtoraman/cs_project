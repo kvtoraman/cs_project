{
 "cells": [
  {
   "cell_type": "code",
   "execution_count": 4,
   "metadata": {},
   "outputs": [],
   "source": [
    "from urllib.request import Request, urlopen\n",
    "from bs4 import BeautifulSoup\n",
    "from konlpy.tag import Kkma\n",
    "from konlpy.utils import pprint\n",
    "import json\n",
    "from pathlib import Path\n",
    "kkma = Kkma()\n"
   ]
  },
  {
   "cell_type": "code",
   "execution_count": 5,
   "metadata": {},
   "outputs": [],
   "source": [
    "REVIEWS = \"all_reviews\"\n",
    "f = open(\"../reviews_in_one_txt/\"+REVIEWS+\".txt\",\"r\",encoding=\"utf-8\").readlines()"
   ]
  },
  {
   "cell_type": "code",
   "execution_count": 6,
   "metadata": {},
   "outputs": [],
   "source": [
    "with open(\"cs_reviews.txt\",\"w\",encoding=\"utf-8\") as out:\n",
    "    for i in range(len(f)):\n",
    "        line = f[i]\n",
    "        course = json.loads(line)\n",
    "        if course[\"course_code\"][:2] == \"CS\":\n",
    "            json.dump(course, out, ensure_ascii=False)\n",
    "            out.write(\"\\n\")\n",
    "        "
   ]
  },
  {
   "cell_type": "code",
   "execution_count": null,
   "metadata": {},
   "outputs": [],
   "source": []
  }
 ],
 "metadata": {
  "kernelspec": {
   "display_name": "Python 3",
   "language": "python",
   "name": "python3"
  },
  "language_info": {
   "codemirror_mode": {
    "name": "ipython",
    "version": 3
   },
   "file_extension": ".py",
   "mimetype": "text/x-python",
   "name": "python",
   "nbconvert_exporter": "python",
   "pygments_lexer": "ipython3",
   "version": "3.6.5"
  }
 },
 "nbformat": 4,
 "nbformat_minor": 2
}
