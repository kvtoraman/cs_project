{
 "cells": [
  {
   "cell_type": "code",
   "execution_count": 1,
   "metadata": {},
   "outputs": [],
   "source": [
    "import json\n",
    "import numpy as np\n",
    "from urllib.request import Request, urlopen\n",
    "from bs4 import BeautifulSoup\n",
    "import json\n",
    "from pathlib import Path\n"
   ]
  },
  {
   "cell_type": "code",
   "execution_count": 42,
   "metadata": {},
   "outputs": [],
   "source": [
    "f = open(\"../generate_course_list/\" + \"cs_classes_info\" + \".txt\",\"r\",encoding=\"utf-8\").readlines()"
   ]
  },
  {
   "cell_type": "code",
   "execution_count": 43,
   "metadata": {},
   "outputs": [
    {
     "data": {
      "text/plain": [
       "'{\"CS322\": {\"course_name\": \"형식언어및오토마타\", \"url_id\": 7968}, \"CS493\": {\"course_name\": \"전산학특강 I<고급알고리즘>\", \"url_id\": 2892}, \"CS311\": {\"course_name\": \"전산기조직\", \"url_id\": 9247}, \"CS230\": {\"course_name\": \"시스템프로그래밍\", \"url_id\": 8958}, \"CS300\": {\"course_name\": \"알고리즘 개론\", \"url_id\": 9297}, \"CS109\": {\"course_name\": \"프로그래밍 실습\", \"url_id\": 9272}, \"CS206\": {\"course_name\": \"데이타구조\", \"url_id\": 9270}, \"CS204\": {\"course_name\": \"이산구조\", \"url_id\": 9209}, \"CS220\": {\"course_name\": \"프로그래밍의 이해\", \"url_id\": 8605}, \"CS330\": {\"course_name\": \"운영체제 및 실험\", \"url_id\": 9075}, \"CS448\": {\"course_name\": \"정보보호개론\", \"url_id\": 9220}, \"CS211\": {\"course_name\": \"디지탈시스템 및 실험\", \"url_id\": 8961}, \"CS202\": {\"course_name\": \"문제해결기법\", \"url_id\": 8229}, \"CS320\": {\"course_name\": \"프로그래밍언어\", \"url_id\": 9133}, \"CS360\": {\"course_name\": \"데이타베이스 개론\", \"url_id\": 7600}, \"CS101\": {\"course_name\": \"프로그래밍기초\", \"url_id\": 9208}, \"CS510\": {\"course_name\": \"컴퓨터구조\", \"url_id\": 8795}, \"CS270\": {\"course_name\": \"지능 로봇 설계 및 프로그래밍\", \"url_id\": 4807}, \"CS459\": {\"course_name\": \"SOA를 이용한 비즈니스 어플리케이션 개발과 전략\", \"url_id\": 4180}, \"CS341\": {\"course_name\": \"전산망 개론\", \"url_id\": 8784}, \"CS672\": {\"course_name\": \"강화학습\", \"url_id\": 4291}, \"CS420\": {\"course_name\": \"컴파일러설계\", \"url_id\": 8296}, \"CS408\": {\"course_name\": \"전산학 프로젝트\", \"url_id\": 9224}, \"CS310\": {\"course_name\": \"내장형 컴퓨터 시스템\", \"url_id\": 6975}, \"CS453\": {\"course_name\": \"소프트웨어 테스팅 자동화 기법\", \"url_id\": 9148}, \"CS422\": {\"course_name\": \"계산이론\", \"url_id\": 7801}, \"CS350\": {\"course_name\": \"소프트웨어 공학 개론\", \"url_id\": 9066}, \"CS492\": {\"course_name\": \"전산학특강<소셜미디어와 문화>\", \"url_id\": 9235}, \"CS380\": {\"course_name\": \"컴퓨터 그래픽스 개론\", \"url_id\": 9077}, \"CS402\": {\"course_name\": \"전산논리학개론\", \"url_id\": 9221}, \"CS470\": {\"course_name\": \"인공지능개론\", \"url_id\": 8368}, \"CS442\": {\"course_name\": \"모바일 컴퓨팅과 응용\", \"url_id\": 8778}, \"CS409\": {\"course_name\": \"산학협업 소프트웨어 프로젝트\", \"url_id\": 6881}, \"CS500\": {\"course_name\": \"알고리즘설계와해석\", \"url_id\": 9044}, \"CS550\": {\"course_name\": \"소프트웨어공학\", \"url_id\": 7079}, \"CS374\": {\"course_name\": \"인간-컴퓨터 상호작용 개론\", \"url_id\": 9134}, \"CS457\": {\"course_name\": \"웹기반 소프트웨어 개발\", \"url_id\": 7242}, \"CS548\": {\"course_name\": \"고급 정보보호\", \"url_id\": 8299}, \"CS494\": {\"course_name\": \"전산학특강 II<공개 소프트웨어 소개>\", \"url_id\": 7412}, \"CS496\": {\"course_name\": \"세미나\", \"url_id\": 7649}, \"CS454\": {\"course_name\": \"인공 지능 기반 소프트웨어 공학\", \"url_id\": 8310}, \"CS474\": {\"course_name\": \"텍스트마이닝\", \"url_id\": 9231}, \"CS489\": {\"course_name\": \"컴퓨터윤리와사회문제\", \"url_id\": 7740}, \"CS584\": {\"course_name\": \"인간과 컴퓨터 상호작용\", \"url_id\": 7833}, \"CS443\": {\"course_name\": \"분산 알고리즘 및 시스템\", \"url_id\": 8043}, \"CS520\": {\"course_name\": \"프로그래밍언어이론\", \"url_id\": 8298}, \"CS476\": {\"course_name\": \"바이오의료응용 집단지성\", \"url_id\": 8394}, \"CS592\": {\"course_name\": \"컴퓨팅 특강<고급기계학습-고차원 데이터 분석>\", \"url_id\": 8979}, \"CS522\": {\"course_name\": \"형식언어및오토마타이론\", \"url_id\": 8424}, \"CS966\": {\"course_name\": \"세미나(석사)\", \"url_id\": 8796}, \"CS660\": {\"course_name\": \"정보축적 및 검색\", \"url_id\": 9146}, \"CS570\": {\"course_name\": \"인공지능 및 기계학습\", \"url_id\": 9147}}'"
      ]
     },
     "execution_count": 43,
     "metadata": {},
     "output_type": "execute_result"
    }
   ],
   "source": [
    "f[0]"
   ]
  },
  {
   "cell_type": "code",
   "execution_count": 44,
   "metadata": {},
   "outputs": [],
   "source": [
    "js = json.loads(f[0])"
   ]
  },
  {
   "cell_type": "code",
   "execution_count": 47,
   "metadata": {},
   "outputs": [
    {
     "name": "stdout",
     "output_type": "stream",
     "text": [
      "1971\n",
      "https://otl.kaist.ac.kr/review/result/course/1971\n"
     ]
    },
    {
     "ename": "NameError",
     "evalue": "name 'contine' is not defined",
     "output_type": "error",
     "traceback": [
      "\u001b[1;31m---------------------------------------------------------------------------\u001b[0m",
      "\u001b[1;31mAttributeError\u001b[0m                            Traceback (most recent call last)",
      "\u001b[1;32m<ipython-input-47-d6d1c1fd40ee>\u001b[0m in \u001b[0;36m<module>\u001b[1;34m()\u001b[0m\n\u001b[0;32m     12\u001b[0m     \u001b[1;32mtry\u001b[0m\u001b[1;33m:\u001b[0m\u001b[1;33m\u001b[0m\u001b[0m\n\u001b[1;32m---> 13\u001b[1;33m         \u001b[0ms\u001b[0m \u001b[1;33m=\u001b[0m \u001b[0msoup\u001b[0m\u001b[1;33m.\u001b[0m\u001b[0mselect_one\u001b[0m\u001b[1;33m(\u001b[0m\u001b[1;34m'#7968 > input[name='\u001b[0m\u001b[1;33m+\u001b[0m\u001b[0mstr\u001b[0m\u001b[1;33m(\u001b[0m\u001b[0mv\u001b[0m\u001b[1;33m[\u001b[0m\u001b[1;34m\"url_id\"\u001b[0m\u001b[1;33m]\u001b[0m\u001b[1;33m)\u001b[0m\u001b[1;33m+\u001b[0m\u001b[1;34m']'\u001b[0m\u001b[1;33m)\u001b[0m\u001b[1;33m.\u001b[0m\u001b[0mattrs\u001b[0m\u001b[1;33m[\u001b[0m\u001b[1;34m\"value\"\u001b[0m\u001b[1;33m]\u001b[0m\u001b[1;33m\u001b[0m\u001b[0m\n\u001b[0m\u001b[0;32m     14\u001b[0m     \u001b[1;32mexcept\u001b[0m\u001b[1;33m:\u001b[0m\u001b[1;33m\u001b[0m\u001b[0m\n",
      "\u001b[1;31mAttributeError\u001b[0m: 'NoneType' object has no attribute 'attrs'",
      "\nDuring handling of the above exception, another exception occurred:\n",
      "\u001b[1;31mNameError\u001b[0m                                 Traceback (most recent call last)",
      "\u001b[1;32m<ipython-input-47-d6d1c1fd40ee>\u001b[0m in \u001b[0;36m<module>\u001b[1;34m()\u001b[0m\n\u001b[0;32m     13\u001b[0m         \u001b[0ms\u001b[0m \u001b[1;33m=\u001b[0m \u001b[0msoup\u001b[0m\u001b[1;33m.\u001b[0m\u001b[0mselect_one\u001b[0m\u001b[1;33m(\u001b[0m\u001b[1;34m'#7968 > input[name='\u001b[0m\u001b[1;33m+\u001b[0m\u001b[0mstr\u001b[0m\u001b[1;33m(\u001b[0m\u001b[0mv\u001b[0m\u001b[1;33m[\u001b[0m\u001b[1;34m\"url_id\"\u001b[0m\u001b[1;33m]\u001b[0m\u001b[1;33m)\u001b[0m\u001b[1;33m+\u001b[0m\u001b[1;34m']'\u001b[0m\u001b[1;33m)\u001b[0m\u001b[1;33m.\u001b[0m\u001b[0mattrs\u001b[0m\u001b[1;33m[\u001b[0m\u001b[1;34m\"value\"\u001b[0m\u001b[1;33m]\u001b[0m\u001b[1;33m\u001b[0m\u001b[0m\n\u001b[0;32m     14\u001b[0m     \u001b[1;32mexcept\u001b[0m\u001b[1;33m:\u001b[0m\u001b[1;33m\u001b[0m\u001b[0m\n\u001b[1;32m---> 15\u001b[1;33m         \u001b[0mcontine\u001b[0m\u001b[1;33m\u001b[0m\u001b[0m\n\u001b[0m\u001b[0;32m     16\u001b[0m     \u001b[1;31m#\\37 968 > input[type=\"hidden\"]:nth-child(2)\u001b[0m\u001b[1;33m\u001b[0m\u001b[1;33m\u001b[0m\u001b[0m\n\u001b[0;32m     17\u001b[0m     \u001b[0mprint\u001b[0m\u001b[1;33m(\u001b[0m\u001b[0ms\u001b[0m\u001b[1;33m)\u001b[0m\u001b[1;33m\u001b[0m\u001b[0m\n",
      "\u001b[1;31mNameError\u001b[0m: name 'contine' is not defined"
     ]
    }
   ],
   "source": [
    "for k,v in js.items():\n",
    "    target_url = \"https://otl.kaist.ac.kr/review/result/comment/\" + str(v[\"url_id\"])\n",
    "    target_request = Request(target_url)\n",
    "    try:\n",
    "        response = urlopen(target_request)\n",
    "    except:\n",
    "        continue\n",
    "#     print(target_url)\n",
    "    this_course = {}\n",
    "    response_text = response.read()\n",
    "    soup = BeautifulSoup(response_text, \"lxml\")\n",
    "    try: \n",
    "        s = soup.select_one('#7968 > input[name='+str(v[\"url_id\"])+']').attrs[\"value\"]\n",
    "    except:\n",
    "        contine\n",
    "    #\\37 968 > input[type=\"hidden\"]:nth-child(2)\n",
    "#     print(s)\n",
    "    s = \"https://otl.kaist.ac.kr/review/result/course/\" + s \n",
    "    print(s)\n",
    "    js[k][\"course_link\"] = s\n",
    "    "
   ]
  },
  {
   "cell_type": "code",
   "execution_count": null,
   "metadata": {},
   "outputs": [],
   "source": []
  },
  {
   "cell_type": "code",
   "execution_count": null,
   "metadata": {},
   "outputs": [],
   "source": []
  }
 ],
 "metadata": {
  "kernelspec": {
   "display_name": "Python 3",
   "language": "python",
   "name": "python3"
  },
  "language_info": {
   "codemirror_mode": {
    "name": "ipython",
    "version": 3
   },
   "file_extension": ".py",
   "mimetype": "text/x-python",
   "name": "python",
   "nbconvert_exporter": "python",
   "pygments_lexer": "ipython3",
   "version": "3.6.5"
  }
 },
 "nbformat": 4,
 "nbformat_minor": 2
}
