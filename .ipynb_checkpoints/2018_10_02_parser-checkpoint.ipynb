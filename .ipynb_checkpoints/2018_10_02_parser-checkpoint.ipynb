{
 "cells": [
  {
   "cell_type": "code",
   "execution_count": 12,
   "metadata": {},
   "outputs": [],
   "source": [
    "from urllib.request import Request, urlopen\n",
    "from bs4 import BeautifulSoup\n",
    "from konlpy.tag import Kkma\n",
    "from konlpy.utils import pprint\n",
    "import json\n",
    "from pathlib import Path\n",
    "kkma = Kkma()\n"
   ]
  },
  {
   "cell_type": "code",
   "execution_count": 16,
   "metadata": {
    "scrolled": true
   },
   "outputs": [
    {
     "name": "stdout",
     "output_type": "stream",
     "text": [
      "2880 does not exist\n",
      "2881 does not exist\n",
      "2882 does not exist\n",
      "2883 does not exist\n",
      "2884 does not exist\n",
      "2885 does not exist\n",
      "2886 does not exist\n",
      "2887 does not exist\n",
      "2888\n",
      "CS322 : 형식언어및오토마타\n",
      "2889\n",
      "HSS111 : 한국근현대사\n",
      "2890\n",
      "HSS111 : 한국근현대사\n",
      "2891\n",
      "HSS148 : Introduction to Sociology\n",
      "2892\n",
      "CS493 : 전산학특강 I<고급알고리즘>\n"
     ]
    }
   ],
   "source": [
    "def parse(url_id):\n",
    "    \n",
    "    filename = Path(\"reviews/\" + str(url_id) + \".txt\")\n",
    "    if not filename.exists():\n",
    "        print(str(url_id) + \" does not exist\")\n",
    "        return False\n",
    "    with open(filename,\"r\") as inputfile:\n",
    "        print(url_id)\n",
    "        data = json.load(inputfile)\n",
    "        print(data[\"course_code_name\"])\n",
    "    return True\n",
    "        \n",
    "START_ID = 2880\n",
    "END_ID = 8000\n",
    "TOTAL_REVIEWS = 5\n",
    "current_reviews = 0\n",
    "current_id = START_ID\n",
    "while current_reviews < TOTAL_REVIEWS and current_id < END_ID: # try different IDs\n",
    "    result = parse(current_id)\n",
    "    if result:\n",
    "        current_reviews += 1\n",
    "    current_id += 1"
   ]
  },
  {
   "cell_type": "code",
   "execution_count": 20,
   "metadata": {},
   "outputs": [
    {
     "data": {
      "text/plain": [
       "1667"
      ]
     },
     "execution_count": 20,
     "metadata": {},
     "output_type": "execute_result"
    }
   ],
   "source": [
    "len(mp)"
   ]
  },
  {
   "cell_type": "code",
   "execution_count": 34,
   "metadata": {},
   "outputs": [],
   "source": [
    "sorted_mp = sorted(mp.items(), key=lambda kv: -kv[1])"
   ]
  },
  {
   "cell_type": "code",
   "execution_count": 36,
   "metadata": {},
   "outputs": [
    {
     "data": {
      "text/plain": [
       "[('수업', 77),\n",
       " ('교수님', 69),\n",
       " ('학점', 52),\n",
       " ('수', 49),\n",
       " ('시험', 44),\n",
       " ('시간', 42),\n",
       " ('과목', 35),\n",
       " ('분', 34),\n",
       " ('내용', 33),\n",
       " ('로드', 30)]"
      ]
     },
     "execution_count": 36,
     "metadata": {},
     "output_type": "execute_result"
    }
   ],
   "source": [
    "sorted_mp[:10]"
   ]
  },
  {
   "cell_type": "code",
   "execution_count": null,
   "metadata": {},
   "outputs": [],
   "source": []
  }
 ],
 "metadata": {
  "kernelspec": {
   "display_name": "Python 3",
   "language": "python",
   "name": "python3"
  },
  "language_info": {
   "codemirror_mode": {
    "name": "ipython",
    "version": 3
   },
   "file_extension": ".py",
   "mimetype": "text/x-python",
   "name": "python",
   "nbconvert_exporter": "python",
   "pygments_lexer": "ipython3",
   "version": "3.6.5"
  }
 },
 "nbformat": 4,
 "nbformat_minor": 2
}
